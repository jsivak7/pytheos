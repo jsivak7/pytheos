{
 "cells": [
  {
   "cell_type": "markdown",
   "id": "21c8b3a6",
   "metadata": {},
   "source": [
    "# Chemical Potential Overlap Descriptor Example\n",
    "*October 28, 2025*\n",
    "\n",
    "This notebook demonstrates how to use `pytheos` to extract chemical potential diagrams from the [Materials Project](https://next-gen.materialsproject.org/) database. In this example we will be exploring the rocksalt high-entropy oxide systems investigated in our Nature Communications publication where we introduced this descriptor: [Thermodynamics-Inspired High-Entropy Oxide Synthesis](https://www.nature.com/articles/s41467-025-63567-z).\n",
    "\n",
    "For more information on how these chemical potential diagrams are constructed, as well as the logic behind our developed chemical potential overlap descriptor for HEO discovery, please see Chapter 6 of my dissertation [(Link)](https://etda.libraries.psu.edu/catalog/21095jts6114). The following is a schematic taken from my dissertation showing how chemical potential diagrams are created from convex hulls:\n",
    "\n",
    "<div>\n",
    "<img src=\"./chempot_overlap_files/chempot_diagram_schematic.png\" width=\"850\"/>\n",
    "</div>\n",
    "\n",
    "## MgO"
   ]
  },
  {
   "cell_type": "code",
   "execution_count": 1,
   "id": "34458bca",
   "metadata": {},
   "outputs": [
    {
     "data": {
      "text/plain": [
       "'2025.09.25'"
      ]
     },
     "execution_count": 1,
     "metadata": {},
     "output_type": "execute_result"
    }
   ],
   "source": [
    "from pytheos.stability import materials_project, phase_diagram, chemical_potential\n",
    "\n",
    "# good practice to ensure data can be reproduced in the future since entries can change within the database\n",
    "materials_project.get_db_version()"
   ]
  },
  {
   "cell_type": "code",
   "execution_count": 2,
   "id": "cf27e135",
   "metadata": {},
   "outputs": [
    {
     "data": {
      "application/vnd.jupyter.widget-view+json": {
       "model_id": "0d75aa4117724e3f9c961e55381bf9d0",
       "version_major": 2,
       "version_minor": 0
      },
      "text/plain": [
       "Retrieving ThermoDoc documents:   0%|          | 0/58 [00:00<?, ?it/s]"
      ]
     },
     "metadata": {},
     "output_type": "display_data"
    },
    {
     "name": "stdout",
     "output_type": "stream",
     "text": [
      "58 entries found across the Mg-O chemical system for GGA/GGA+U Materials Project.\n"
     ]
    }
   ],
   "source": [
    "# we will start by just going over this process for rocksalt MgO\n",
    "Mg_O_entries = materials_project.query_entries_across_chemsys(\n",
    "    elements=[\"Mg\", \"O\"], \n",
    "    api_key=\"YOUR_API_KEY\",\n",
    "    thermo_type=\"GGA_GGA+U\",\n",
    "    )\n",
    "print(f\"{len(Mg_O_entries)} entries found across the Mg-O chemical system for GGA/GGA+U Materials Project.\")"
   ]
  },
  {
   "cell_type": "code",
   "execution_count": 3,
   "id": "37f73209",
   "metadata": {},
   "outputs": [
    {
     "name": "stdout",
     "output_type": "stream",
     "text": [
      "Mg-O phase diagram\n",
      "3 stable phases: \n",
      "Mg, MgO, O2\n"
     ]
    }
   ],
   "source": [
    "# now let's create a phase diagram using these entries\n",
    "Mg_O_pd = phase_diagram.generate_phase_diagram(entries=Mg_O_entries)\n",
    "print(Mg_O_pd)"
   ]
  },
  {
   "cell_type": "markdown",
   "id": "81e3c5c3",
   "metadata": {},
   "source": [
    "As expected for the Mg-O chemical system, we only have three stable phases: elemental Magnesium and Oxygen, and rocksalt MgO"
   ]
  },
  {
   "cell_type": "code",
   "execution_count": 4,
   "id": "458627b2",
   "metadata": {},
   "outputs": [
    {
     "name": "stdout",
     "output_type": "stream",
     "text": [
      "{'phase_diagram': Mg-O phase diagram\n",
      "3 stable phases: \n",
      "Mg, MgO, O2, 'target_compound': 'MgO', 'cation': 'Mg', 'anion': 'O', 'all_stable_ranges': None, 'target_ranges': None, 'target_anion_range': None, 'diagram': None}\n"
     ]
    }
   ],
   "source": [
    "MgO_chempot = chemical_potential.ChemPotDiagram(\n",
    "    phase_diagram=Mg_O_pd,\n",
    "    cation=\"Mg\",\n",
    "    anion=\"O\", # built so this class can be used for other ceramic materials such as nitrides/carbides\n",
    "    target_compound=\"MgO\",\n",
    ")\n",
    "print(MgO_chempot.__dict__)"
   ]
  },
  {
   "cell_type": "code",
   "execution_count": 5,
   "id": "d5939157",
   "metadata": {},
   "outputs": [
    {
     "data": {
      "text/html": [
       "<div>\n",
       "<style scoped>\n",
       "    .dataframe tbody tr th:only-of-type {\n",
       "        vertical-align: middle;\n",
       "    }\n",
       "\n",
       "    .dataframe tbody tr th {\n",
       "        vertical-align: top;\n",
       "    }\n",
       "\n",
       "    .dataframe thead th {\n",
       "        text-align: right;\n",
       "    }\n",
       "</style>\n",
       "<table border=\"1\" class=\"dataframe\">\n",
       "  <thead>\n",
       "    <tr style=\"text-align: right;\">\n",
       "      <th></th>\n",
       "      <th>formula</th>\n",
       "      <th>Mg (eV)</th>\n",
       "      <th>O (eV)</th>\n",
       "    </tr>\n",
       "  </thead>\n",
       "  <tbody>\n",
       "    <tr>\n",
       "      <th>0</th>\n",
       "      <td>O</td>\n",
       "      <td>-50.000000</td>\n",
       "      <td>0.000000</td>\n",
       "    </tr>\n",
       "    <tr>\n",
       "      <th>1</th>\n",
       "      <td>MgO</td>\n",
       "      <td>-6.106808</td>\n",
       "      <td>0.000000</td>\n",
       "    </tr>\n",
       "    <tr>\n",
       "      <th>2</th>\n",
       "      <td>O</td>\n",
       "      <td>-6.106808</td>\n",
       "      <td>0.000000</td>\n",
       "    </tr>\n",
       "    <tr>\n",
       "      <th>3</th>\n",
       "      <td>MgO</td>\n",
       "      <td>0.000000</td>\n",
       "      <td>-6.106808</td>\n",
       "    </tr>\n",
       "    <tr>\n",
       "      <th>4</th>\n",
       "      <td>Mg</td>\n",
       "      <td>0.000000</td>\n",
       "      <td>-6.106808</td>\n",
       "    </tr>\n",
       "    <tr>\n",
       "      <th>5</th>\n",
       "      <td>Mg</td>\n",
       "      <td>0.000000</td>\n",
       "      <td>-50.000000</td>\n",
       "    </tr>\n",
       "  </tbody>\n",
       "</table>\n",
       "</div>"
      ],
      "text/plain": [
       "  formula    Mg (eV)     O (eV)\n",
       "0       O -50.000000   0.000000\n",
       "1     MgO  -6.106808   0.000000\n",
       "2       O  -6.106808   0.000000\n",
       "3     MgO   0.000000  -6.106808\n",
       "4      Mg   0.000000  -6.106808\n",
       "5      Mg   0.000000 -50.000000"
      ]
     },
     "execution_count": 5,
     "metadata": {},
     "output_type": "execute_result"
    }
   ],
   "source": [
    "# first let's extract all chemical potential ranges for our chemical potential diagram we constructed\n",
    "MgO_chempot.get_all_stable_ranges()"
   ]
  },
  {
   "cell_type": "code",
   "execution_count": 6,
   "id": "d4c1d306",
   "metadata": {},
   "outputs": [
    {
     "name": "stdout",
     "output_type": "stream",
     "text": [
      "Minimum: \t-6.107 eV\n",
      "Maximum: \t0.000 eV\n",
      "Distance: \t6.107 eV\n"
     ]
    }
   ],
   "source": [
    "# now we can extract just our target anion range for which our target compound specified earlier is stable\n",
    "MgO_stable_oxygen_chempot_range = MgO_chempot.get_target_anion_range()\n",
    "\n",
    "print(f\"Minimum: \\t{MgO_stable_oxygen_chempot_range[\"min\"]:.3f} eV\")\n",
    "print(f\"Maximum: \\t{MgO_stable_oxygen_chempot_range[\"max\"]:.3f} eV\")\n",
    "print(f\"Distance: \\t{MgO_stable_oxygen_chempot_range[\"distance\"]:.3f} eV\")"
   ]
  },
  {
   "cell_type": "markdown",
   "id": "17a5fb18",
   "metadata": {},
   "source": [
    "As we can see, this matches the output of the `get_all_stable_ranges()` for our target compound of MgO along the oxygen chemical potential axis. These modules of the `ChemPotDiagram` class within `pytheos` are extremely useful to automate this process and explore a significant amount of compositions in a high-throughput manner.\n",
    "\n",
    "***Notice that the chemical potential diagrams are only sensitive to the stoichiometry, not the structure for a given composition...***\n",
    "\n",
    "Now let's visualize this Mg-O chemical potential diagram:"
   ]
  },
  {
   "cell_type": "code",
   "execution_count": 7,
   "id": "708ca7aa",
   "metadata": {},
   "outputs": [
    {
     "data": {
      "image/png": "[encoded data removed]",
      "text/plain": [
       "<Figure size 1200x1600 with 1 Axes>"
      ]
     },
     "execution_count": 7,
     "metadata": {},
     "output_type": "execute_result"
    },
    {
     "data": {
      "text/plain": [
       "<Figure size 1200x1600 with 0 Axes>"
      ]
     },
     "metadata": {},
     "output_type": "display_data"
    }
   ],
   "source": [
    "MgO_chempot.plot_diagram(\n",
    "    with_target=True # highlights the targeted composition in green for easier visualization\n",
    "    )"
   ]
  },
  {
   "cell_type": "markdown",
   "id": "cfd91588",
   "metadata": {},
   "source": [
    "## CoO\n",
    "Now let's take a look at a bit more complicated chemical potential diagram for the Co-O chemical system that has multiple stable oxide compounds.\n",
    "\n",
    "I will go less step-by-step here since I already walked through each of these with Mg-O above..."
   ]
  },
  {
   "cell_type": "code",
   "execution_count": 8,
   "id": "4468c5fb",
   "metadata": {},
   "outputs": [
    {
     "data": {
      "application/vnd.jupyter.widget-view+json": {
       "model_id": "3ead51bcdddb46b183ed5b740edec24d",
       "version_major": 2,
       "version_minor": 0
      },
      "text/plain": [
       "Retrieving ThermoDoc documents:   0%|          | 0/89 [00:00<?, ?it/s]"
      ]
     },
     "metadata": {},
     "output_type": "display_data"
    },
    {
     "name": "stdout",
     "output_type": "stream",
     "text": [
      "89 entries found across the Co-O chemical system for GGA/GGA+U Materials Project.\n",
      "\n",
      "Co-O phase diagram\n",
      "6 stable phases: \n",
      "Co3O4, O2, CoO2, CoO, Co, Co23O32\n"
     ]
    }
   ],
   "source": [
    "Co_O_entries = materials_project.query_entries_across_chemsys(\n",
    "    elements=[\"Co\", \"O\"], \n",
    "    api_key=\"YOUR_API_KEY\",\n",
    "    thermo_type=\"GGA_GGA+U\",\n",
    "    )\n",
    "print(f\"{len(Co_O_entries)} entries found across the Co-O chemical system for GGA/GGA+U Materials Project.\\n\")\n",
    "\n",
    "Co_O_pd = phase_diagram.generate_phase_diagram(entries=Co_O_entries)\n",
    "print(Co_O_pd)\n",
    "\n",
    "CoO_chempot = chemical_potential.ChemPotDiagram(\n",
    "    phase_diagram=Co_O_pd,\n",
    "    cation=\"Co\",\n",
    "    anion=\"O\",\n",
    "    target_compound=\"CoO\",\n",
    ")"
   ]
  },
  {
   "cell_type": "code",
   "execution_count": 9,
   "id": "87433247",
   "metadata": {},
   "outputs": [
    {
     "data": {
      "text/html": [
       "<div>\n",
       "<style scoped>\n",
       "    .dataframe tbody tr th:only-of-type {\n",
       "        vertical-align: middle;\n",
       "    }\n",
       "\n",
       "    .dataframe tbody tr th {\n",
       "        vertical-align: top;\n",
       "    }\n",
       "\n",
       "    .dataframe thead th {\n",
       "        text-align: right;\n",
       "    }\n",
       "</style>\n",
       "<table border=\"1\" class=\"dataframe\">\n",
       "  <thead>\n",
       "    <tr style=\"text-align: right;\">\n",
       "      <th></th>\n",
       "      <th>formula</th>\n",
       "      <th>Co (eV)</th>\n",
       "      <th>O (eV)</th>\n",
       "    </tr>\n",
       "  </thead>\n",
       "  <tbody>\n",
       "    <tr>\n",
       "      <th>0</th>\n",
       "      <td>O</td>\n",
       "      <td>-50.000000</td>\n",
       "      <td>0.000000</td>\n",
       "    </tr>\n",
       "    <tr>\n",
       "      <th>1</th>\n",
       "      <td>CoO2</td>\n",
       "      <td>-3.242397</td>\n",
       "      <td>0.000000</td>\n",
       "    </tr>\n",
       "    <tr>\n",
       "      <th>2</th>\n",
       "      <td>O</td>\n",
       "      <td>-3.242397</td>\n",
       "      <td>0.000000</td>\n",
       "    </tr>\n",
       "    <tr>\n",
       "      <th>3</th>\n",
       "      <td>CoO2</td>\n",
       "      <td>-2.672728</td>\n",
       "      <td>-0.284834</td>\n",
       "    </tr>\n",
       "    <tr>\n",
       "      <th>4</th>\n",
       "      <td>Co23O32</td>\n",
       "      <td>-2.672728</td>\n",
       "      <td>-0.284834</td>\n",
       "    </tr>\n",
       "    <tr>\n",
       "      <th>5</th>\n",
       "      <td>Co3O4</td>\n",
       "      <td>-2.273869</td>\n",
       "      <td>-0.571514</td>\n",
       "    </tr>\n",
       "    <tr>\n",
       "      <th>6</th>\n",
       "      <td>Co23O32</td>\n",
       "      <td>-2.273869</td>\n",
       "      <td>-0.571514</td>\n",
       "    </tr>\n",
       "    <tr>\n",
       "      <th>7</th>\n",
       "      <td>CoO</td>\n",
       "      <td>-1.167381</td>\n",
       "      <td>-1.401381</td>\n",
       "    </tr>\n",
       "    <tr>\n",
       "      <th>8</th>\n",
       "      <td>Co3O4</td>\n",
       "      <td>-1.167381</td>\n",
       "      <td>-1.401381</td>\n",
       "    </tr>\n",
       "    <tr>\n",
       "      <th>9</th>\n",
       "      <td>CoO</td>\n",
       "      <td>0.000000</td>\n",
       "      <td>-2.568761</td>\n",
       "    </tr>\n",
       "    <tr>\n",
       "      <th>10</th>\n",
       "      <td>Co</td>\n",
       "      <td>0.000000</td>\n",
       "      <td>-2.568761</td>\n",
       "    </tr>\n",
       "    <tr>\n",
       "      <th>11</th>\n",
       "      <td>Co</td>\n",
       "      <td>0.000000</td>\n",
       "      <td>-50.000000</td>\n",
       "    </tr>\n",
       "  </tbody>\n",
       "</table>\n",
       "</div>"
      ],
      "text/plain": [
       "    formula    Co (eV)     O (eV)\n",
       "0         O -50.000000   0.000000\n",
       "1      CoO2  -3.242397   0.000000\n",
       "2         O  -3.242397   0.000000\n",
       "3      CoO2  -2.672728  -0.284834\n",
       "4   Co23O32  -2.672728  -0.284834\n",
       "5     Co3O4  -2.273869  -0.571514\n",
       "6   Co23O32  -2.273869  -0.571514\n",
       "7       CoO  -1.167381  -1.401381\n",
       "8     Co3O4  -1.167381  -1.401381\n",
       "9       CoO   0.000000  -2.568761\n",
       "10       Co   0.000000  -2.568761\n",
       "11       Co   0.000000 -50.000000"
      ]
     },
     "execution_count": 9,
     "metadata": {},
     "output_type": "execute_result"
    }
   ],
   "source": [
    "CoO_chempot.get_all_stable_ranges()"
   ]
  },
  {
   "cell_type": "code",
   "execution_count": 10,
   "id": "7fec9ad6",
   "metadata": {},
   "outputs": [
    {
     "name": "stdout",
     "output_type": "stream",
     "text": [
      "Minimum: \t-2.569 eV\n",
      "Maximum: \t-1.401 eV\n",
      "Distance: \t1.167 eV\n"
     ]
    }
   ],
   "source": [
    "# now we can extract just our target anion range for which our target compound specified earlier is stable\n",
    "CoO_stable_oxygen_chempot_range = CoO_chempot.get_target_anion_range()\n",
    "\n",
    "print(f\"Minimum: \\t{CoO_stable_oxygen_chempot_range[\"min\"]:.3f} eV\")\n",
    "print(f\"Maximum: \\t{CoO_stable_oxygen_chempot_range[\"max\"]:.3f} eV\")\n",
    "print(f\"Distance: \\t{CoO_stable_oxygen_chempot_range[\"distance\"]:.3f} eV\")"
   ]
  },
  {
   "cell_type": "markdown",
   "id": "1e871b9f",
   "metadata": {},
   "source": [
    "Notice that CoO has a narrower \"window\" compared to MgO within oxygen chemical potential space due to the addition oxide compositions that are stable along the convex hull."
   ]
  },
  {
   "cell_type": "code",
   "execution_count": 11,
   "id": "fa391306",
   "metadata": {},
   "outputs": [
    {
     "data": {
      "image/png": "[encoded data removed]",
      "text/plain": [
       "<Figure size 1200x1600 with 1 Axes>"
      ]
     },
     "execution_count": 11,
     "metadata": {},
     "output_type": "execute_result"
    },
    {
     "data": {
      "text/plain": [
       "<Figure size 1200x1600 with 0 Axes>"
      ]
     },
     "metadata": {},
     "output_type": "display_data"
    }
   ],
   "source": [
    "CoO_chempot.plot_diagram(with_target=True)"
   ]
  },
  {
   "cell_type": "markdown",
   "id": "ad6b2579",
   "metadata": {},
   "source": [
    "## Computing the Chemical Potential Overlap Descriptor ($\\mu_{overlap}$)\n",
    "\n",
    "We can use the stable oxygen chemical potential ranges to compute what we have called the \"chemical potential overlap descriptor\", or $\\mu_{overlap}$. This is inspired by Yokokawa's 1999 article on the [Generalized chemical potential diagram and its applications to chemical reactions at interfaces between dissimilar materials](https://doi.org/10.1361/105497199770335794), where the separation and overlap of stable oxygen chemical potential windows are used to explain (in)solubility of different oxide compositions.\n",
    "\n",
    "This novel computational descriptor provides a simple and extremely computationally cheap route to evaluating the cation valence compatibility within ceramic materials, which we utilize primarily for high-entropy oxide discovery. A negative value indicates separation in the stable oxygen chemical potential space, while a positive value indicates overlap in the stable oxygen chemical potential space.\n",
    "\n",
    "For more details on how this descriptor is computed, please see the following Nature Communication publication: [Thermodynamics-Inspired High-Entropy Oxide Synthesis](https://www.nature.com/articles/s41467-025-63567-z)."
   ]
  },
  {
   "cell_type": "code",
   "execution_count": 12,
   "id": "455b8b45",
   "metadata": {},
   "outputs": [
    {
     "name": "stdout",
     "output_type": "stream",
     "text": [
      "=== Mg-O ===\n"
     ]
    },
    {
     "data": {
      "application/vnd.jupyter.widget-view+json": {
       "model_id": "389eb93819ea43f1a8fa1b0e12b1a9ef",
       "version_major": 2,
       "version_minor": 0
      },
      "text/plain": [
       "Retrieving ThermoDoc documents:   0%|          | 0/58 [00:00<?, ?it/s]"
      ]
     },
     "metadata": {},
     "output_type": "display_data"
    },
    {
     "name": "stdout",
     "output_type": "stream",
     "text": [
      "58 entries found across the GGA/GGA+U Materials Project database.\n",
      "\n",
      "=== Ca-O ===\n"
     ]
    },
    {
     "data": {
      "application/vnd.jupyter.widget-view+json": {
       "model_id": "89dafb90e136419a8cc13ebbffd9c879",
       "version_major": 2,
       "version_minor": 0
      },
      "text/plain": [
       "Retrieving ThermoDoc documents:   0%|          | 0/49 [00:00<?, ?it/s]"
      ]
     },
     "metadata": {},
     "output_type": "display_data"
    },
    {
     "name": "stdout",
     "output_type": "stream",
     "text": [
      "49 entries found across the GGA/GGA+U Materials Project database.\n",
      "\n",
      "=== Mn-O ===\n"
     ]
    },
    {
     "data": {
      "application/vnd.jupyter.widget-view+json": {
       "model_id": "42fe920a22d649c0a24a6fce313e045c",
       "version_major": 2,
       "version_minor": 0
      },
      "text/plain": [
       "Retrieving ThermoDoc documents:   0%|          | 0/96 [00:00<?, ?it/s]"
      ]
     },
     "metadata": {},
     "output_type": "display_data"
    },
    {
     "name": "stdout",
     "output_type": "stream",
     "text": [
      "96 entries found across the GGA/GGA+U Materials Project database.\n",
      "\n",
      "=== Fe-O ===\n"
     ]
    },
    {
     "data": {
      "application/vnd.jupyter.widget-view+json": {
       "model_id": "0483f64af3394d8c98d42d9b8ac27faf",
       "version_major": 2,
       "version_minor": 0
      },
      "text/plain": [
       "Retrieving ThermoDoc documents:   0%|          | 0/169 [00:00<?, ?it/s]"
      ]
     },
     "metadata": {},
     "output_type": "display_data"
    },
    {
     "name": "stdout",
     "output_type": "stream",
     "text": [
      "169 entries found across the GGA/GGA+U Materials Project database.\n",
      "\n",
      "=== Co-O ===\n"
     ]
    },
    {
     "data": {
      "application/vnd.jupyter.widget-view+json": {
       "model_id": "efb15b81ecf04ab69d4db6c4e4077160",
       "version_major": 2,
       "version_minor": 0
      },
      "text/plain": [
       "Retrieving ThermoDoc documents:   0%|          | 0/89 [00:00<?, ?it/s]"
      ]
     },
     "metadata": {},
     "output_type": "display_data"
    },
    {
     "name": "stdout",
     "output_type": "stream",
     "text": [
      "89 entries found across the GGA/GGA+U Materials Project database.\n",
      "\n",
      "=== Ni-O ===\n"
     ]
    },
    {
     "data": {
      "application/vnd.jupyter.widget-view+json": {
       "model_id": "ca91ee5158c44510ba855cc7956ff164",
       "version_major": 2,
       "version_minor": 0
      },
      "text/plain": [
       "Retrieving ThermoDoc documents:   0%|          | 0/64 [00:00<?, ?it/s]"
      ]
     },
     "metadata": {},
     "output_type": "display_data"
    },
    {
     "name": "stdout",
     "output_type": "stream",
     "text": [
      "64 entries found across the GGA/GGA+U Materials Project database.\n",
      "\n",
      "=== Cu-O ===\n"
     ]
    },
    {
     "data": {
      "application/vnd.jupyter.widget-view+json": {
       "model_id": "c5c6e04406a743ab9f4e91d731934f86",
       "version_major": 2,
       "version_minor": 0
      },
      "text/plain": [
       "Retrieving ThermoDoc documents:   0%|          | 0/68 [00:00<?, ?it/s]"
      ]
     },
     "metadata": {},
     "output_type": "display_data"
    },
    {
     "name": "stdout",
     "output_type": "stream",
     "text": [
      "68 entries found across the GGA/GGA+U Materials Project database.\n",
      "\n",
      "=== Zn-O ===\n"
     ]
    },
    {
     "data": {
      "application/vnd.jupyter.widget-view+json": {
       "model_id": "a12781072f494474ae35f12d7ccf8db2",
       "version_major": 2,
       "version_minor": 0
      },
      "text/plain": [
       "Retrieving ThermoDoc documents:   0%|          | 0/48 [00:00<?, ?it/s]"
      ]
     },
     "metadata": {},
     "output_type": "display_data"
    },
    {
     "name": "stdout",
     "output_type": "stream",
     "text": [
      "48 entries found across the GGA/GGA+U Materials Project database.\n",
      "\n",
      "        MgO       CaO       MnO       FeO       CoO       NiO       CuO  \\\n",
      "0 -6.106808 -6.612039 -3.958402 -2.963039 -2.568761 -2.436171 -1.837663   \n",
      "1  0.000000 -0.007642 -2.477657 -2.609379 -1.401381 -0.018739 -0.394465   \n",
      "\n",
      "        ZnO  \n",
      "0 -3.581798  \n",
      "1  0.000000  \n"
     ]
    }
   ],
   "source": [
    "# let's go through all of the cations explored for rocksalt HEOs in our publication: Mg, Ca, Mn, Fe, Co, Ni, Cu, Zn\n",
    "import pandas as pd\n",
    "\n",
    "cation_cohort = [\"Mg\", \"Ca\", \"Mn\", \"Fe\", \"Co\", \"Ni\", \"Cu\", \"Zn\"]\n",
    "AO_stable_ranges = {}\n",
    "\n",
    "for cation in cation_cohort:\n",
    "    \n",
    "    print(f\"=== {cation}-O ===\")\n",
    "\n",
    "    entries = materials_project.query_entries_across_chemsys(\n",
    "    elements=[cation, \"O\"], \n",
    "    api_key=\"YOUR_API_KEY\",\n",
    "    thermo_type=\"GGA_GGA+U\",\n",
    "    )\n",
    "    print(f\"{len(entries)} entries found across the GGA/GGA+U Materials Project database.\\n\")\n",
    "\n",
    "    phasediagram = phase_diagram.generate_phase_diagram(entries=entries)\n",
    "\n",
    "    chempot = chemical_potential.ChemPotDiagram(\n",
    "        phase_diagram=phasediagram,\n",
    "        cation=cation,\n",
    "        anion=\"O\",\n",
    "        target_compound=f\"{cation}O\",\n",
    "    )\n",
    "\n",
    "    chempot.get_all_stable_ranges()\n",
    "\n",
    "    AO_stable_range = chempot.get_target_anion_range()\n",
    "    \n",
    "    AO_stable_ranges[f\"{cation}O\"] = (AO_stable_range[\"min\"], AO_stable_range[\"max\"])\n",
    "\n",
    "print(pd.DataFrame(AO_stable_ranges))"
   ]
  },
  {
   "cell_type": "markdown",
   "id": "1169105b",
   "metadata": {},
   "source": [
    "Which correspond to the following chemical potential diagrams...\n",
    "\n",
    "<div>\n",
    "<img src=\"./chempot_overlap_files/chempot_diagram_AO.png\" width=\"1200\"/>\n",
    "</div>\n",
    "\n",
    "Now that we have the stable oxygen chemical potential ranges for each of our cations, we can start to compute the 2-cation chemical potential overlap ($\\mu_{overlap}$)"
   ]
  },
  {
   "cell_type": "code",
   "execution_count": 13,
   "id": "204541a2",
   "metadata": {},
   "outputs": [
    {
     "name": "stdout",
     "output_type": "stream",
     "text": [
      "There are 28 2-cation combinations for our cation cohort:\n",
      "[('Mg', 'Ca'), ('Mg', 'Mn'), ('Mg', 'Fe'), ('Mg', 'Co'), ('Mg', 'Ni'), ('Mg', 'Cu'), ('Mg', 'Zn'), ('Ca', 'Mn'), ('Ca', 'Fe'), ('Ca', 'Co'), ('Ca', 'Ni'), ('Ca', 'Cu'), ('Ca', 'Zn'), ('Mn', 'Fe'), ('Mn', 'Co'), ('Mn', 'Ni'), ('Mn', 'Cu'), ('Mn', 'Zn'), ('Fe', 'Co'), ('Fe', 'Ni'), ('Fe', 'Cu'), ('Fe', 'Zn'), ('Co', 'Ni'), ('Co', 'Cu'), ('Co', 'Zn'), ('Ni', 'Cu'), ('Ni', 'Zn'), ('Cu', 'Zn')]\n",
      "\n",
      "\n",
      "   combo  overlap (eV)\n",
      "0   MgCa      6.099167\n",
      "1   MgMn      1.480745\n",
      "2   MgFe      0.353660\n",
      "3   MgCo      1.167381\n",
      "4   MgNi      2.417432\n",
      "5   MgCu      1.443198\n",
      "6   MgZn      3.581798\n",
      "7   CaMn      1.480745\n",
      "8   CaFe      0.353660\n",
      "9   CaCo      1.167381\n",
      "10  CaNi      2.417432\n",
      "11  CaCu      1.443198\n",
      "12  CaZn      3.574157\n",
      "13  MnFe      0.353660\n",
      "14  MnCo      0.091104\n",
      "15  MnNi     -0.041487\n",
      "16  MnCu     -0.639994\n",
      "17  MnZn      1.104141\n",
      "18  FeCo     -0.040618\n",
      "19  FeNi     -0.173209\n",
      "20  FeCu     -0.771716\n",
      "21  FeZn      0.353660\n",
      "22  CoNi      1.034790\n",
      "23  CoCu      0.436283\n",
      "24  CoZn      1.167381\n",
      "25  NiCu      1.443198\n",
      "26  NiZn      2.417432\n",
      "27  CuZn      1.443198\n"
     ]
    }
   ],
   "source": [
    "from itertools import combinations\n",
    "\n",
    "combos_2cation = list(combinations(cation_cohort, 2))\n",
    "print(f\"There are {len(combos_2cation)} 2-cation combinations for our cation cohort:\\n{combos_2cation}\\n\\n\")\n",
    "\n",
    "chempot_overlaps_2cation = {\n",
    "    \"combo\": [],\n",
    "    \"overlap (eV)\": [],\n",
    "}\n",
    "\n",
    "for combo in combos_2cation:\n",
    "\n",
    "    range1 = AO_stable_ranges[f\"{combo[0]}O\"]\n",
    "    range2 = AO_stable_ranges[f\"{combo[1]}O\"]\n",
    "\n",
    "    overlap_dict = chemical_potential.calc_overlap(ranges=(range1, range2))\n",
    "\n",
    "    chempot_overlaps_2cation[\"combo\"].append(f\"{combo[0]}{combo[1]}\")\n",
    "    chempot_overlaps_2cation[\"overlap (eV)\"].append(overlap_dict[\"overlap\"])\n",
    "\n",
    "print(pd.DataFrame(chempot_overlaps_2cation))"
   ]
  },
  {
   "cell_type": "markdown",
   "id": "904fd019",
   "metadata": {},
   "source": [
    "*Remember that a negative value indicates separation in oxygen chemical potential space, while a positive value indicates an overlap.*\n",
    "\n",
    "We can more easily visualize these $\\mu_{overlap}$ values as a heatmap for these 2-cation combinations..."
   ]
  },
  {
   "cell_type": "code",
   "execution_count": 14,
   "id": "82d1c10e",
   "metadata": {},
   "outputs": [
    {
     "data": {
      "image/png": "[encoded data removed]",
      "text/plain": [
       "<Figure size 800x800 with 2 Axes>"
      ]
     },
     "metadata": {},
     "output_type": "display_data"
    }
   ],
   "source": [
    "import matplotlib.pyplot as plt\n",
    "import seaborn as sns\n",
    "import numpy as np\n",
    "\n",
    "plt.rcParams[\"figure.dpi\"] = 200\n",
    "plt.rcParams[\"figure.figsize\"] = (4, 4)\n",
    "plt.rcParams[\"font.size\"] = 12\n",
    "plt.rcParams[\"font.serif\"] = \"Arial\"\n",
    "\n",
    "data = pd.DataFrame(chempot_overlaps_2cation)\n",
    "data = data.set_index(\"combo\")\n",
    "\n",
    "chempot_overlaps = np.array(\n",
    "    [\n",
    "        [np.nan, np.nan, np.nan, np.nan, np.nan, np.nan, np.nan, np.nan],\n",
    "        [\n",
    "            data.loc[\"MgCa\", \"overlap (eV)\"],\n",
    "            np.nan,\n",
    "            np.nan,\n",
    "            np.nan,\n",
    "            np.nan,\n",
    "            np.nan,\n",
    "            np.nan,\n",
    "            np.nan,\n",
    "        ],\n",
    "        [\n",
    "            data.loc[\"MgMn\", \"overlap (eV)\"],\n",
    "            data.loc[\"CaMn\", \"overlap (eV)\"],\n",
    "            np.nan,\n",
    "            np.nan,\n",
    "            np.nan,\n",
    "            np.nan,\n",
    "            np.nan,\n",
    "            np.nan,\n",
    "        ],\n",
    "        [\n",
    "            data.loc[\"MgFe\", \"overlap (eV)\"],\n",
    "            data.loc[\"CaFe\", \"overlap (eV)\"],\n",
    "            data.loc[\"MnFe\", \"overlap (eV)\"],\n",
    "            np.nan,\n",
    "            np.nan,\n",
    "            np.nan,\n",
    "            np.nan,\n",
    "            np.nan,\n",
    "        ],\n",
    "        [\n",
    "            data.loc[\"MgCo\", \"overlap (eV)\"],\n",
    "            data.loc[\"CaCo\", \"overlap (eV)\"],\n",
    "            data.loc[\"MnCo\", \"overlap (eV)\"],\n",
    "            data.loc[\"FeCo\", \"overlap (eV)\"],\n",
    "            np.nan,\n",
    "            np.nan,\n",
    "            np.nan,\n",
    "            np.nan,\n",
    "        ],\n",
    "        [\n",
    "            data.loc[\"MgNi\", \"overlap (eV)\"],\n",
    "            data.loc[\"CaNi\", \"overlap (eV)\"],\n",
    "            data.loc[\"MnNi\", \"overlap (eV)\"],\n",
    "            data.loc[\"FeNi\", \"overlap (eV)\"],\n",
    "            data.loc[\"CoNi\", \"overlap (eV)\"],\n",
    "            np.nan,\n",
    "            np.nan,\n",
    "            np.nan,\n",
    "        ],\n",
    "        [\n",
    "            data.loc[\"MgCu\", \"overlap (eV)\"],\n",
    "            data.loc[\"CaCu\", \"overlap (eV)\"],\n",
    "            data.loc[\"MnCu\", \"overlap (eV)\"],\n",
    "            data.loc[\"FeCu\", \"overlap (eV)\"],\n",
    "            data.loc[\"CoCu\", \"overlap (eV)\"],\n",
    "            data.loc[\"NiCu\", \"overlap (eV)\"],\n",
    "            np.nan,\n",
    "            np.nan,\n",
    "        ],\n",
    "        [\n",
    "            data.loc[\"MgZn\", \"overlap (eV)\"],\n",
    "            data.loc[\"CaZn\", \"overlap (eV)\"],\n",
    "            data.loc[\"MnZn\", \"overlap (eV)\"],\n",
    "            data.loc[\"FeZn\", \"overlap (eV)\"],\n",
    "            data.loc[\"CoZn\", \"overlap (eV)\"],\n",
    "            data.loc[\"NiZn\", \"overlap (eV)\"],\n",
    "            data.loc[\"CuZn\", \"overlap (eV)\"],\n",
    "            np.nan,\n",
    "        ],\n",
    "    ]\n",
    ")\n",
    "\n",
    "sns.heatmap(\n",
    "    chempot_overlaps,\n",
    "    square=True,\n",
    "    vmin=-2.5,\n",
    "    vmax=2.5,\n",
    "    cmap=sns.diverging_palette(\n",
    "        12,\n",
    "        255,\n",
    "        as_cmap=True,\n",
    "    ),  # sns.color_palette(\"vlag_r\", as_cmap=True),  # coolwarm_r\n",
    "    xticklabels=(\"Mg\", \"Ca\", \"Mn\", \"Fe\", \"Co\", \"Ni\", \"Cu\", \"Zn\"),\n",
    "    yticklabels=(\"Mg\", \"Ca\", \"Mn\", \"Fe\", \"Co\", \"Ni\", \"Cu\", \"Zn\"),\n",
    "    annot=True,\n",
    "    fmt=\".2f\",\n",
    "    linewidths=0.75,\n",
    "    cbar_kws={\n",
    "        \"label\": r\"μ$_{\\rm overlap}$ (eV)\",\n",
    "        \"shrink\": 0.5,\n",
    "        \"ticks\": [-2, 0.0, 2],\n",
    "    },\n",
    "    annot_kws={\"fontsize\": 6, \"color\": \"k\"},\n",
    "    cbar=True,\n",
    "    center=0,\n",
    ")\n",
    "plt.xticks(weight=\"normal\")\n",
    "plt.yticks(weight=\"normal\")\n",
    "plt.yticks(rotation=0)\n",
    "plt.tick_params(left=False, bottom=False)\n",
    "plt.show()"
   ]
  },
  {
   "cell_type": "markdown",
   "id": "e4956066",
   "metadata": {},
   "source": [
    "These values correspond to Figure 6b in the corresponding publication. These overlaps can be computed for an arbitrary number of cations as well, however it is useful to start with the 2-cation combinations for interpretability. Here I will show how to compute $\\mu_{overlap}$ for "
   ]
  },
  {
   "cell_type": "code",
   "execution_count": 15,
   "id": "1537d694",
   "metadata": {},
   "outputs": [
    {
     "name": "stdout",
     "output_type": "stream",
     "text": [
      "There are 56 5-cation combinations for our cation cohort:\n",
      "[('Mg', 'Ca', 'Mn', 'Fe', 'Co'), ('Mg', 'Ca', 'Mn', 'Fe', 'Ni'), ('Mg', 'Ca', 'Mn', 'Fe', 'Cu'), ('Mg', 'Ca', 'Mn', 'Fe', 'Zn'), ('Mg', 'Ca', 'Mn', 'Co', 'Ni'), ('Mg', 'Ca', 'Mn', 'Co', 'Cu'), ('Mg', 'Ca', 'Mn', 'Co', 'Zn'), ('Mg', 'Ca', 'Mn', 'Ni', 'Cu'), ('Mg', 'Ca', 'Mn', 'Ni', 'Zn'), ('Mg', 'Ca', 'Mn', 'Cu', 'Zn'), ('Mg', 'Ca', 'Fe', 'Co', 'Ni'), ('Mg', 'Ca', 'Fe', 'Co', 'Cu'), ('Mg', 'Ca', 'Fe', 'Co', 'Zn'), ('Mg', 'Ca', 'Fe', 'Ni', 'Cu'), ('Mg', 'Ca', 'Fe', 'Ni', 'Zn'), ('Mg', 'Ca', 'Fe', 'Cu', 'Zn'), ('Mg', 'Ca', 'Co', 'Ni', 'Cu'), ('Mg', 'Ca', 'Co', 'Ni', 'Zn'), ('Mg', 'Ca', 'Co', 'Cu', 'Zn'), ('Mg', 'Ca', 'Ni', 'Cu', 'Zn'), ('Mg', 'Mn', 'Fe', 'Co', 'Ni'), ('Mg', 'Mn', 'Fe', 'Co', 'Cu'), ('Mg', 'Mn', 'Fe', 'Co', 'Zn'), ('Mg', 'Mn', 'Fe', 'Ni', 'Cu'), ('Mg', 'Mn', 'Fe', 'Ni', 'Zn'), ('Mg', 'Mn', 'Fe', 'Cu', 'Zn'), ('Mg', 'Mn', 'Co', 'Ni', 'Cu'), ('Mg', 'Mn', 'Co', 'Ni', 'Zn'), ('Mg', 'Mn', 'Co', 'Cu', 'Zn'), ('Mg', 'Mn', 'Ni', 'Cu', 'Zn'), ('Mg', 'Fe', 'Co', 'Ni', 'Cu'), ('Mg', 'Fe', 'Co', 'Ni', 'Zn'), ('Mg', 'Fe', 'Co', 'Cu', 'Zn'), ('Mg', 'Fe', 'Ni', 'Cu', 'Zn'), ('Mg', 'Co', 'Ni', 'Cu', 'Zn'), ('Ca', 'Mn', 'Fe', 'Co', 'Ni'), ('Ca', 'Mn', 'Fe', 'Co', 'Cu'), ('Ca', 'Mn', 'Fe', 'Co', 'Zn'), ('Ca', 'Mn', 'Fe', 'Ni', 'Cu'), ('Ca', 'Mn', 'Fe', 'Ni', 'Zn'), ('Ca', 'Mn', 'Fe', 'Cu', 'Zn'), ('Ca', 'Mn', 'Co', 'Ni', 'Cu'), ('Ca', 'Mn', 'Co', 'Ni', 'Zn'), ('Ca', 'Mn', 'Co', 'Cu', 'Zn'), ('Ca', 'Mn', 'Ni', 'Cu', 'Zn'), ('Ca', 'Fe', 'Co', 'Ni', 'Cu'), ('Ca', 'Fe', 'Co', 'Ni', 'Zn'), ('Ca', 'Fe', 'Co', 'Cu', 'Zn'), ('Ca', 'Fe', 'Ni', 'Cu', 'Zn'), ('Ca', 'Co', 'Ni', 'Cu', 'Zn'), ('Mn', 'Fe', 'Co', 'Ni', 'Cu'), ('Mn', 'Fe', 'Co', 'Ni', 'Zn'), ('Mn', 'Fe', 'Co', 'Cu', 'Zn'), ('Mn', 'Fe', 'Ni', 'Cu', 'Zn'), ('Mn', 'Co', 'Ni', 'Cu', 'Zn'), ('Fe', 'Co', 'Ni', 'Cu', 'Zn')]\n",
      "\n",
      "\n",
      "         combo  overlap (eV)\n",
      "0   MgCaMnFeCo     -0.040618\n",
      "1   MgCaMnFeNi     -0.173209\n",
      "2   MgCaMnFeCu     -0.771716\n",
      "3   MgCaMnFeZn      0.353660\n",
      "4   MgCaMnCoNi     -0.041487\n",
      "5   MgCaMnCoCu     -0.639994\n",
      "6   MgCaMnCoZn      0.091104\n",
      "7   MgCaMnNiCu     -0.639994\n",
      "8   MgCaMnNiZn     -0.041487\n",
      "9   MgCaMnCuZn     -0.639994\n",
      "10  MgCaFeCoNi     -0.173209\n",
      "11  MgCaFeCoCu     -0.771716\n",
      "12  MgCaFeCoZn     -0.040618\n",
      "13  MgCaFeNiCu     -0.771716\n",
      "14  MgCaFeNiZn     -0.173209\n",
      "15  MgCaFeCuZn     -0.771716\n",
      "16  MgCaCoNiCu      0.436283\n",
      "17  MgCaCoNiZn      1.034790\n",
      "18  MgCaCoCuZn      0.436283\n",
      "19  MgCaNiCuZn      1.443198\n",
      "20  MgMnFeCoNi     -0.173209\n",
      "21  MgMnFeCoCu     -0.771716\n",
      "22  MgMnFeCoZn     -0.040618\n",
      "23  MgMnFeNiCu     -0.771716\n",
      "24  MgMnFeNiZn     -0.173209\n",
      "25  MgMnFeCuZn     -0.771716\n",
      "26  MgMnCoNiCu     -0.639994\n",
      "27  MgMnCoNiZn     -0.041487\n",
      "28  MgMnCoCuZn     -0.639994\n",
      "29  MgMnNiCuZn     -0.639994\n",
      "30  MgFeCoNiCu     -0.771716\n",
      "31  MgFeCoNiZn     -0.173209\n",
      "32  MgFeCoCuZn     -0.771716\n",
      "33  MgFeNiCuZn     -0.771716\n",
      "34  MgCoNiCuZn      0.436283\n",
      "35  CaMnFeCoNi     -0.173209\n",
      "36  CaMnFeCoCu     -0.771716\n",
      "37  CaMnFeCoZn     -0.040618\n",
      "38  CaMnFeNiCu     -0.771716\n",
      "39  CaMnFeNiZn     -0.173209\n",
      "40  CaMnFeCuZn     -0.771716\n",
      "41  CaMnCoNiCu     -0.639994\n",
      "42  CaMnCoNiZn     -0.041487\n",
      "43  CaMnCoCuZn     -0.639994\n",
      "44  CaMnNiCuZn     -0.639994\n",
      "45  CaFeCoNiCu     -0.771716\n",
      "46  CaFeCoNiZn     -0.173209\n",
      "47  CaFeCoCuZn     -0.771716\n",
      "48  CaFeNiCuZn     -0.771716\n",
      "49  CaCoNiCuZn      0.436283\n",
      "50  MnFeCoNiCu     -0.771716\n",
      "51  MnFeCoNiZn     -0.173209\n",
      "52  MnFeCoCuZn     -0.771716\n",
      "53  MnFeNiCuZn     -0.771716\n",
      "54  MnCoNiCuZn     -0.639994\n",
      "55  FeCoNiCuZn     -0.771716\n"
     ]
    }
   ],
   "source": [
    "combos_5cation = list(combinations(cation_cohort, 5))\n",
    "print(f\"There are {len(combos_5cation)} 5-cation combinations for our cation cohort:\\n{combos_5cation}\\n\\n\")\n",
    "\n",
    "chempot_overlaps_5cation = {\n",
    "    \"combo\": [],\n",
    "    \"overlap (eV)\": [],\n",
    "}\n",
    "\n",
    "for combo in combos_5cation:\n",
    "\n",
    "    range1 = AO_stable_ranges[f\"{combo[0]}O\"]\n",
    "    range2 = AO_stable_ranges[f\"{combo[1]}O\"]\n",
    "    range3 = AO_stable_ranges[f\"{combo[2]}O\"]\n",
    "    range4 = AO_stable_ranges[f\"{combo[3]}O\"]\n",
    "    range5 = AO_stable_ranges[f\"{combo[4]}O\"]\n",
    "\n",
    "    overlap_dict = chemical_potential.calc_overlap(ranges=(range1, range2, range3, range4, range5))\n",
    "\n",
    "    chempot_overlaps_5cation[\"combo\"].append(f\"{combo[0]}{combo[1]}{combo[2]}{combo[3]}{combo[4]}\")\n",
    "    chempot_overlaps_5cation[\"overlap (eV)\"].append(overlap_dict[\"overlap\"])\n",
    "\n",
    "print(pd.DataFrame(chempot_overlaps_5cation))"
   ]
  },
  {
   "cell_type": "markdown",
   "id": "fb9fcfee",
   "metadata": {},
   "source": [
    "As we can see from above, usually we are limited by certain cations for a given high-entropy compositions for the separation/overlap in $\\mu_{overlap}$ in \"steps\" since usually there are certain cations that control overlap/separation...\n",
    "\n",
    "While here I only show how to go through calculating $\\mu_{overlap}$ for AO compositions, this can be done for other compositions with different cation valence states as well.\n",
    "\n",
    "Another very useful manner to understand these oxygen chemical potential stability windows is to plot them as a heatmap on the periodic table. While we had an explicit cation cohort in our previous work, we can instead explore over the entire periodic table, using the $\\mu_{overlap}$ computational descriptor with some threshold to decide what cations and compositions to explore for discovering new high-entropy oxide materials with more expensive calculations using density functional theory or machine-learning interatomic potentials."
   ]
  },
  {
   "cell_type": "code",
   "execution_count": 16,
   "id": "d9dea19f",
   "metadata": {},
   "outputs": [
    {
     "name": "stdout",
     "output_type": "stream",
     "text": [
      "Example is for 3+ cations (A2O3 stoichiometry)...\n",
      "\n",
      "\n",
      "=== Ac-O ===\n"
     ]
    },
    {
     "data": {
      "application/vnd.jupyter.widget-view+json": {
       "model_id": "df6139d20db846b985bfc3cbe2286487",
       "version_major": 2,
       "version_minor": 0
      },
      "text/plain": [
       "Retrieving ThermoDoc documents:   0%|          | 0/28 [00:00<?, ?it/s]"
      ]
     },
     "metadata": {},
     "output_type": "display_data"
    },
    {
     "name": "stdout",
     "output_type": "stream",
     "text": [
      "28 entries found across the GGA/GGA+U Materials Project database.\n",
      "\n",
      "Ac-O phase diagram\n",
      "3 stable phases: \n",
      "Ac2O3, O2, Ac\n",
      "\n",
      "=== Ag-O ===\n"
     ]
    },
    {
     "data": {
      "application/vnd.jupyter.widget-view+json": {
       "model_id": "b6023cfd38cc4e618b456ff192f18866",
       "version_major": 2,
       "version_minor": 0
      },
      "text/plain": [
       "Retrieving ThermoDoc documents:   0%|          | 0/45 [00:00<?, ?it/s]"
      ]
     },
     "metadata": {},
     "output_type": "display_data"
    },
    {
     "name": "stdout",
     "output_type": "stream",
     "text": [
      "45 entries found across the GGA/GGA+U Materials Project database.\n",
      "\n",
      "Ag-O phase diagram\n",
      "5 stable phases: \n",
      "O2, Ag3O4, AgO, Ag2O, Ag\n",
      "\n",
      "=== Al-O ===\n"
     ]
    },
    {
     "name": "stderr",
     "output_type": "stream",
     "text": [
      "/Users/jtsivak/Code/pytheos/pytheos/stability/chemical_potential.py:89: UserWarning: WARNING!!! \n",
      "Target compound (Ag2O3) is not stable in the supplied phase diagram, therefore it will not exist on the chemical potential diagram.\n",
      "  warnings.warn(\n"
     ]
    },
    {
     "data": {
      "application/vnd.jupyter.widget-view+json": {
       "model_id": "b576ca987b47473b8550ba71dacfa197",
       "version_major": 2,
       "version_minor": 0
      },
      "text/plain": [
       "Retrieving ThermoDoc documents:   0%|          | 0/146 [00:00<?, ?it/s]"
      ]
     },
     "metadata": {},
     "output_type": "display_data"
    },
    {
     "name": "stdout",
     "output_type": "stream",
     "text": [
      "146 entries found across the GGA/GGA+U Materials Project database.\n",
      "\n",
      "Al-O phase diagram\n",
      "3 stable phases: \n",
      "Al2O3, O2, Al\n",
      "\n",
      "=== As-O ===\n"
     ]
    },
    {
     "data": {
      "application/vnd.jupyter.widget-view+json": {
       "model_id": "dcae3969ee3a499fbea0b4996357be82",
       "version_major": 2,
       "version_minor": 0
      },
      "text/plain": [
       "Retrieving ThermoDoc documents:   0%|          | 0/44 [00:00<?, ?it/s]"
      ]
     },
     "metadata": {},
     "output_type": "display_data"
    },
    {
     "name": "stdout",
     "output_type": "stream",
     "text": [
      "44 entries found across the GGA/GGA+U Materials Project database.\n",
      "\n",
      "As-O phase diagram\n",
      "4 stable phases: \n",
      "As, O2, As2O3, As2O5\n",
      "\n",
      "=== Au-O ===\n"
     ]
    },
    {
     "data": {
      "application/vnd.jupyter.widget-view+json": {
       "model_id": "20369f0597e54a478e2a4d143c4d805a",
       "version_major": 2,
       "version_minor": 0
      },
      "text/plain": [
       "Retrieving ThermoDoc documents:   0%|          | 0/29 [00:00<?, ?it/s]"
      ]
     },
     "metadata": {},
     "output_type": "display_data"
    },
    {
     "name": "stdout",
     "output_type": "stream",
     "text": [
      "29 entries found across the GGA/GGA+U Materials Project database.\n",
      "\n",
      "Au-O phase diagram\n",
      "3 stable phases: \n",
      "O2, Au2O3, Au\n",
      "\n",
      "=== B-O ===\n"
     ]
    },
    {
     "data": {
      "application/vnd.jupyter.widget-view+json": {
       "model_id": "d06bf103a7c4455b8521f2d775898771",
       "version_major": 2,
       "version_minor": 0
      },
      "text/plain": [
       "Retrieving ThermoDoc documents:   0%|          | 0/55 [00:00<?, ?it/s]"
      ]
     },
     "metadata": {},
     "output_type": "display_data"
    },
    {
     "name": "stdout",
     "output_type": "stream",
     "text": [
      "55 entries found across the GGA/GGA+U Materials Project database.\n",
      "\n",
      "B-O phase diagram\n",
      "4 stable phases: \n",
      "O2, B6O, B, B2O3\n",
      "\n",
      "=== Ba-O ===\n"
     ]
    },
    {
     "data": {
      "application/vnd.jupyter.widget-view+json": {
       "model_id": "313e2342a28c4e4db9e943ef460e98d5",
       "version_major": 2,
       "version_minor": 0
      },
      "text/plain": [
       "Retrieving ThermoDoc documents:   0%|          | 0/62 [00:00<?, ?it/s]"
      ]
     },
     "metadata": {},
     "output_type": "display_data"
    },
    {
     "name": "stdout",
     "output_type": "stream",
     "text": [
      "62 entries found across the GGA/GGA+U Materials Project database.\n",
      "\n",
      "Ba-O phase diagram\n",
      "5 stable phases: \n",
      "BaO2, BaO10, Ba, O2, BaO\n",
      "\n",
      "=== Be-O ===\n"
     ]
    },
    {
     "name": "stderr",
     "output_type": "stream",
     "text": [
      "/Users/jtsivak/Code/pytheos/pytheos/stability/chemical_potential.py:89: UserWarning: WARNING!!! \n",
      "Target compound (Ba2O3) is not stable in the supplied phase diagram, therefore it will not exist on the chemical potential diagram.\n",
      "  warnings.warn(\n"
     ]
    },
    {
     "data": {
      "application/vnd.jupyter.widget-view+json": {
       "model_id": "51182e081ee8408ea7cb0786facd6ba2",
       "version_major": 2,
       "version_minor": 0
      },
      "text/plain": [
       "Retrieving ThermoDoc documents:   0%|          | 0/38 [00:00<?, ?it/s]"
      ]
     },
     "metadata": {},
     "output_type": "display_data"
    },
    {
     "name": "stdout",
     "output_type": "stream",
     "text": [
      "38 entries found across the GGA/GGA+U Materials Project database.\n",
      "\n",
      "Be-O phase diagram\n",
      "3 stable phases: \n",
      "O2, BeO, Be\n",
      "\n",
      "=== Bi-O ===\n"
     ]
    },
    {
     "name": "stderr",
     "output_type": "stream",
     "text": [
      "/Users/jtsivak/Code/pytheos/pytheos/stability/chemical_potential.py:89: UserWarning: WARNING!!! \n",
      "Target compound (Be2O3) is not stable in the supplied phase diagram, therefore it will not exist on the chemical potential diagram.\n",
      "  warnings.warn(\n"
     ]
    },
    {
     "data": {
      "application/vnd.jupyter.widget-view+json": {
       "model_id": "d9aa79881e1f477cab9d594c7d922cd7",
       "version_major": 2,
       "version_minor": 0
      },
      "text/plain": [
       "Retrieving ThermoDoc documents:   0%|          | 0/102 [00:00<?, ?it/s]"
      ]
     },
     "metadata": {},
     "output_type": "display_data"
    },
    {
     "name": "stdout",
     "output_type": "stream",
     "text": [
      "102 entries found across the GGA/GGA+U Materials Project database.\n",
      "\n",
      "Bi-O phase diagram\n",
      "5 stable phases: \n",
      "O2, Bi, Bi2O3, Bi4O7, BiO2\n",
      "\n",
      "=== Br-O ===\n"
     ]
    },
    {
     "data": {
      "application/vnd.jupyter.widget-view+json": {
       "model_id": "9332b9e6465840c8a0138a26e4267a6a",
       "version_major": 2,
       "version_minor": 0
      },
      "text/plain": [
       "Retrieving ThermoDoc documents:   0%|          | 0/38 [00:00<?, ?it/s]"
      ]
     },
     "metadata": {},
     "output_type": "display_data"
    },
    {
     "name": "stdout",
     "output_type": "stream",
     "text": [
      "38 entries found across the GGA/GGA+U Materials Project database.\n",
      "\n",
      "Br-O phase diagram\n",
      "3 stable phases: \n",
      "O2, Br, Br2O3\n",
      "\n",
      "=== Ca-O ===\n"
     ]
    },
    {
     "data": {
      "application/vnd.jupyter.widget-view+json": {
       "model_id": "f8f5ebc07bee4500823bc1dae4450549",
       "version_major": 2,
       "version_minor": 0
      },
      "text/plain": [
       "Retrieving ThermoDoc documents:   0%|          | 0/49 [00:00<?, ?it/s]"
      ]
     },
     "metadata": {},
     "output_type": "display_data"
    },
    {
     "name": "stdout",
     "output_type": "stream",
     "text": [
      "49 entries found across the GGA/GGA+U Materials Project database.\n",
      "\n",
      "Ca-O phase diagram\n",
      "4 stable phases: \n",
      "O2, CaO, Ca, CaO2\n",
      "\n",
      "=== Cd-O ===\n"
     ]
    },
    {
     "name": "stderr",
     "output_type": "stream",
     "text": [
      "/Users/jtsivak/Code/pytheos/pytheos/stability/chemical_potential.py:89: UserWarning: WARNING!!! \n",
      "Target compound (Ca2O3) is not stable in the supplied phase diagram, therefore it will not exist on the chemical potential diagram.\n",
      "  warnings.warn(\n"
     ]
    },
    {
     "data": {
      "application/vnd.jupyter.widget-view+json": {
       "model_id": "1aa42403d80640dfac22fc6fe220599b",
       "version_major": 2,
       "version_minor": 0
      },
      "text/plain": [
       "Retrieving ThermoDoc documents:   0%|          | 0/32 [00:00<?, ?it/s]"
      ]
     },
     "metadata": {},
     "output_type": "display_data"
    },
    {
     "name": "stdout",
     "output_type": "stream",
     "text": [
      "32 entries found across the GGA/GGA+U Materials Project database.\n",
      "\n",
      "Cd-O phase diagram\n",
      "3 stable phases: \n",
      "Cd, CdO, O2\n",
      "\n",
      "=== Ce-O ===\n"
     ]
    },
    {
     "name": "stderr",
     "output_type": "stream",
     "text": [
      "/Users/jtsivak/Code/pytheos/pytheos/stability/chemical_potential.py:89: UserWarning: WARNING!!! \n",
      "Target compound (Cd2O3) is not stable in the supplied phase diagram, therefore it will not exist on the chemical potential diagram.\n",
      "  warnings.warn(\n"
     ]
    },
    {
     "data": {
      "application/vnd.jupyter.widget-view+json": {
       "model_id": "7ed671afd2b54ad7958aa96744d22f2f",
       "version_major": 2,
       "version_minor": 0
      },
      "text/plain": [
       "Retrieving ThermoDoc documents:   0%|          | 0/46 [00:00<?, ?it/s]"
      ]
     },
     "metadata": {},
     "output_type": "display_data"
    },
    {
     "name": "stdout",
     "output_type": "stream",
     "text": [
      "46 entries found across the GGA/GGA+U Materials Project database.\n",
      "\n",
      "Ce-O phase diagram\n",
      "7 stable phases: \n",
      "CeO, O2, CeO2, Ce7O12, Ce2O3, Ce, Ce5O9\n",
      "\n",
      "=== Cl-O ===\n"
     ]
    },
    {
     "data": {
      "application/vnd.jupyter.widget-view+json": {
       "model_id": "3cfadf9d189b4c928516a7c432cc87ef",
       "version_major": 2,
       "version_minor": 0
      },
      "text/plain": [
       "Retrieving ThermoDoc documents:   0%|          | 0/35 [00:00<?, ?it/s]"
      ]
     },
     "metadata": {},
     "output_type": "display_data"
    },
    {
     "name": "stdout",
     "output_type": "stream",
     "text": [
      "35 entries found across the GGA/GGA+U Materials Project database.\n",
      "\n",
      "Cl-O phase diagram\n",
      "5 stable phases: \n",
      "Cl2, O2, ClO3, ClO2, Cl2O7\n",
      "\n",
      "=== Co-O ===\n"
     ]
    },
    {
     "name": "stderr",
     "output_type": "stream",
     "text": [
      "/Users/jtsivak/Code/pytheos/pytheos/stability/chemical_potential.py:89: UserWarning: WARNING!!! \n",
      "Target compound (Cl2O3) is not stable in the supplied phase diagram, therefore it will not exist on the chemical potential diagram.\n",
      "  warnings.warn(\n"
     ]
    },
    {
     "data": {
      "application/vnd.jupyter.widget-view+json": {
       "model_id": "c61c7f4f682e4a4ab7a8424c49713b5a",
       "version_major": 2,
       "version_minor": 0
      },
      "text/plain": [
       "Retrieving ThermoDoc documents:   0%|          | 0/89 [00:00<?, ?it/s]"
      ]
     },
     "metadata": {},
     "output_type": "display_data"
    },
    {
     "name": "stdout",
     "output_type": "stream",
     "text": [
      "89 entries found across the GGA/GGA+U Materials Project database.\n",
      "\n",
      "Co-O phase diagram\n",
      "6 stable phases: \n",
      "Co3O4, O2, CoO2, CoO, Co, Co23O32\n",
      "\n",
      "=== Cr-O ===\n"
     ]
    },
    {
     "name": "stderr",
     "output_type": "stream",
     "text": [
      "/Users/jtsivak/Code/pytheos/pytheos/stability/chemical_potential.py:89: UserWarning: WARNING!!! \n",
      "Target compound (Co2O3) is not stable in the supplied phase diagram, therefore it will not exist on the chemical potential diagram.\n",
      "  warnings.warn(\n"
     ]
    },
    {
     "data": {
      "application/vnd.jupyter.widget-view+json": {
       "model_id": "bbc764f6e8ee4a1092726e6d3e4b64ca",
       "version_major": 2,
       "version_minor": 0
      },
      "text/plain": [
       "Retrieving ThermoDoc documents:   0%|          | 0/117 [00:00<?, ?it/s]"
      ]
     },
     "metadata": {},
     "output_type": "display_data"
    },
    {
     "name": "stdout",
     "output_type": "stream",
     "text": [
      "117 entries found across the GGA/GGA+U Materials Project database.\n",
      "\n",
      "Cr-O phase diagram\n",
      "5 stable phases: \n",
      "O2, CrO2, Cr2O3, Cr5O12, Cr\n",
      "\n",
      "=== Cs-O ===\n"
     ]
    },
    {
     "data": {
      "application/vnd.jupyter.widget-view+json": {
       "model_id": "401386a4ae924fdbb70a0cf163e5f595",
       "version_major": 2,
       "version_minor": 0
      },
      "text/plain": [
       "Retrieving ThermoDoc documents:   0%|          | 0/54 [00:00<?, ?it/s]"
      ]
     },
     "metadata": {},
     "output_type": "display_data"
    },
    {
     "name": "stdout",
     "output_type": "stream",
     "text": [
      "54 entries found across the GGA/GGA+U Materials Project database.\n",
      "\n",
      "Cs-O phase diagram\n",
      "6 stable phases: \n",
      "Cs, O2, CsO2, Cs3O, Cs2O2, Cs2O\n",
      "\n",
      "=== Cu-O ===\n"
     ]
    },
    {
     "name": "stderr",
     "output_type": "stream",
     "text": [
      "/Users/jtsivak/Code/pytheos/pytheos/stability/chemical_potential.py:89: UserWarning: WARNING!!! \n",
      "Target compound (Cs2O3) is not stable in the supplied phase diagram, therefore it will not exist on the chemical potential diagram.\n",
      "  warnings.warn(\n"
     ]
    },
    {
     "data": {
      "application/vnd.jupyter.widget-view+json": {
       "model_id": "42585351d69b4d74832389605dd028b8",
       "version_major": 2,
       "version_minor": 0
      },
      "text/plain": [
       "Retrieving ThermoDoc documents:   0%|          | 0/68 [00:00<?, ?it/s]"
      ]
     },
     "metadata": {},
     "output_type": "display_data"
    },
    {
     "name": "stdout",
     "output_type": "stream",
     "text": [
      "68 entries found across the GGA/GGA+U Materials Project database.\n",
      "\n",
      "Cu-O phase diagram\n",
      "5 stable phases: \n",
      "O2, CuO, Cu, Cu2O, Cu2O3\n",
      "\n",
      "=== Dy-O ===\n"
     ]
    },
    {
     "data": {
      "application/vnd.jupyter.widget-view+json": {
       "model_id": "4d04fcc93ef5434087262ec4668c4a52",
       "version_major": 2,
       "version_minor": 0
      },
      "text/plain": [
       "Retrieving ThermoDoc documents:   0%|          | 0/34 [00:00<?, ?it/s]"
      ]
     },
     "metadata": {},
     "output_type": "display_data"
    },
    {
     "name": "stdout",
     "output_type": "stream",
     "text": [
      "34 entries found across the GGA/GGA+U Materials Project database.\n",
      "\n",
      "Dy-O phase diagram\n",
      "3 stable phases: \n",
      "Dy, O2, Dy2O3\n",
      "\n",
      "=== Er-O ===\n"
     ]
    },
    {
     "data": {
      "application/vnd.jupyter.widget-view+json": {
       "model_id": "23dadcdf8a6246d3abfde3580acf9872",
       "version_major": 2,
       "version_minor": 0
      },
      "text/plain": [
       "Retrieving ThermoDoc documents:   0%|          | 0/34 [00:00<?, ?it/s]"
      ]
     },
     "metadata": {},
     "output_type": "display_data"
    },
    {
     "name": "stdout",
     "output_type": "stream",
     "text": [
      "34 entries found across the GGA/GGA+U Materials Project database.\n",
      "\n",
      "Er-O phase diagram\n",
      "3 stable phases: \n",
      "Er, O2, Er2O3\n",
      "\n",
      "=== Eu-O ===\n"
     ]
    },
    {
     "data": {
      "application/vnd.jupyter.widget-view+json": {
       "model_id": "eb2cf484c71f47f9a0fc4b0ea006f9a6",
       "version_major": 2,
       "version_minor": 0
      },
      "text/plain": [
       "Retrieving ThermoDoc documents:   0%|          | 0/38 [00:00<?, ?it/s]"
      ]
     },
     "metadata": {},
     "output_type": "display_data"
    },
    {
     "name": "stdout",
     "output_type": "stream",
     "text": [
      "38 entries found across the GGA/GGA+U Materials Project database.\n",
      "\n",
      "Eu-O phase diagram\n",
      "5 stable phases: \n",
      "Eu2O3, Eu3O4, O2, EuO, Eu\n",
      "\n",
      "=== F-O ===\n"
     ]
    },
    {
     "data": {
      "application/vnd.jupyter.widget-view+json": {
       "model_id": "c6e5f7fca2014f91a230e081a54085c7",
       "version_major": 2,
       "version_minor": 0
      },
      "text/plain": [
       "Retrieving ThermoDoc documents:   0%|          | 0/30 [00:00<?, ?it/s]"
      ]
     },
     "metadata": {},
     "output_type": "display_data"
    },
    {
     "name": "stdout",
     "output_type": "stream",
     "text": [
      "30 entries found across the GGA/GGA+U Materials Project database.\n",
      "\n",
      "O-F phase diagram\n",
      "3 stable phases: \n",
      "OF2, O2, F2\n",
      "\n",
      "=== Fe-O ===\n"
     ]
    },
    {
     "name": "stderr",
     "output_type": "stream",
     "text": [
      "/Users/jtsivak/Code/pytheos/pytheos/stability/chemical_potential.py:89: UserWarning: WARNING!!! \n",
      "Target compound (F2O3) is not stable in the supplied phase diagram, therefore it will not exist on the chemical potential diagram.\n",
      "  warnings.warn(\n"
     ]
    },
    {
     "data": {
      "application/vnd.jupyter.widget-view+json": {
       "model_id": "ae012680b7f24cf5a66aeb8f9b665428",
       "version_major": 2,
       "version_minor": 0
      },
      "text/plain": [
       "Retrieving ThermoDoc documents:   0%|          | 0/169 [00:00<?, ?it/s]"
      ]
     },
     "metadata": {},
     "output_type": "display_data"
    },
    {
     "name": "stdout",
     "output_type": "stream",
     "text": [
      "169 entries found across the GGA/GGA+U Materials Project database.\n",
      "\n",
      "Fe-O phase diagram\n",
      "4 stable phases: \n",
      "FeO, O2, Fe, Fe2O3\n",
      "\n",
      "=== Ga-O ===\n"
     ]
    },
    {
     "data": {
      "application/vnd.jupyter.widget-view+json": {
       "model_id": "95cdc4515593428397dbee62f506e1fb",
       "version_major": 2,
       "version_minor": 0
      },
      "text/plain": [
       "Retrieving ThermoDoc documents:   0%|          | 0/47 [00:00<?, ?it/s]"
      ]
     },
     "metadata": {},
     "output_type": "display_data"
    },
    {
     "name": "stdout",
     "output_type": "stream",
     "text": [
      "47 entries found across the GGA/GGA+U Materials Project database.\n",
      "\n",
      "Ga-O phase diagram\n",
      "3 stable phases: \n",
      "O2, Ga, Ga2O3\n",
      "\n",
      "=== Gd-O ===\n"
     ]
    },
    {
     "data": {
      "application/vnd.jupyter.widget-view+json": {
       "model_id": "34ec96649d1f4993b3247ea7570b2a8d",
       "version_major": 2,
       "version_minor": 0
      },
      "text/plain": [
       "Retrieving ThermoDoc documents:   0%|          | 0/36 [00:00<?, ?it/s]"
      ]
     },
     "metadata": {},
     "output_type": "display_data"
    },
    {
     "name": "stdout",
     "output_type": "stream",
     "text": [
      "36 entries found across the GGA/GGA+U Materials Project database.\n",
      "\n",
      "Gd-O phase diagram\n",
      "3 stable phases: \n",
      "O2, Gd, Gd2O3\n",
      "\n",
      "=== Ge-O ===\n"
     ]
    },
    {
     "data": {
      "application/vnd.jupyter.widget-view+json": {
       "model_id": "ba4892dedb93490bbf9874dc58a3a79f",
       "version_major": 2,
       "version_minor": 0
      },
      "text/plain": [
       "Retrieving ThermoDoc documents:   0%|          | 0/53 [00:00<?, ?it/s]"
      ]
     },
     "metadata": {},
     "output_type": "display_data"
    },
    {
     "name": "stdout",
     "output_type": "stream",
     "text": [
      "53 entries found across the GGA/GGA+U Materials Project database.\n",
      "\n",
      "Ge-O phase diagram\n",
      "3 stable phases: \n",
      "O2, Ge, GeO2\n",
      "\n",
      "=== H-O ===\n"
     ]
    },
    {
     "name": "stderr",
     "output_type": "stream",
     "text": [
      "/Users/jtsivak/Code/pytheos/pytheos/stability/chemical_potential.py:89: UserWarning: WARNING!!! \n",
      "Target compound (Ge2O3) is not stable in the supplied phase diagram, therefore it will not exist on the chemical potential diagram.\n",
      "  warnings.warn(\n"
     ]
    },
    {
     "data": {
      "application/vnd.jupyter.widget-view+json": {
       "model_id": "12d1ad2848c2495ea16da19bf43c6b92",
       "version_major": 2,
       "version_minor": 0
      },
      "text/plain": [
       "Retrieving ThermoDoc documents:   0%|          | 0/60 [00:00<?, ?it/s]"
      ]
     },
     "metadata": {},
     "output_type": "display_data"
    },
    {
     "name": "stdout",
     "output_type": "stream",
     "text": [
      "60 entries found across the GGA/GGA+U Materials Project database.\n",
      "\n",
      "H-O phase diagram\n",
      "3 stable phases: \n",
      "O2, H2, H2O\n",
      "\n",
      "=== Hf-O ===\n"
     ]
    },
    {
     "name": "stderr",
     "output_type": "stream",
     "text": [
      "/Users/jtsivak/Code/pytheos/pytheos/stability/chemical_potential.py:89: UserWarning: WARNING!!! \n",
      "Target compound (H2O3) is not stable in the supplied phase diagram, therefore it will not exist on the chemical potential diagram.\n",
      "  warnings.warn(\n"
     ]
    },
    {
     "data": {
      "application/vnd.jupyter.widget-view+json": {
       "model_id": "4c3daad91f5c4c7bb49ecac5f2b56558",
       "version_major": 2,
       "version_minor": 0
      },
      "text/plain": [
       "Retrieving ThermoDoc documents:   0%|          | 0/41 [00:00<?, ?it/s]"
      ]
     },
     "metadata": {},
     "output_type": "display_data"
    },
    {
     "name": "stdout",
     "output_type": "stream",
     "text": [
      "41 entries found across the GGA/GGA+U Materials Project database.\n",
      "\n",
      "Hf-O phase diagram\n",
      "3 stable phases: \n",
      "Hf, O2, HfO2\n",
      "\n",
      "=== Hg-O ===\n"
     ]
    },
    {
     "name": "stderr",
     "output_type": "stream",
     "text": [
      "/Users/jtsivak/Code/pytheos/pytheos/stability/chemical_potential.py:89: UserWarning: WARNING!!! \n",
      "Target compound (Hf2O3) is not stable in the supplied phase diagram, therefore it will not exist on the chemical potential diagram.\n",
      "  warnings.warn(\n"
     ]
    },
    {
     "data": {
      "application/vnd.jupyter.widget-view+json": {
       "model_id": "2962c0c29d4f4b7bb0b9e74188727f2f",
       "version_major": 2,
       "version_minor": 0
      },
      "text/plain": [
       "Retrieving ThermoDoc documents:   0%|          | 0/54 [00:00<?, ?it/s]"
      ]
     },
     "metadata": {},
     "output_type": "display_data"
    },
    {
     "name": "stdout",
     "output_type": "stream",
     "text": [
      "54 entries found across the GGA/GGA+U Materials Project database.\n",
      "\n",
      "Hg-O phase diagram\n",
      "3 stable phases: \n",
      "Hg, HgO, O2\n",
      "\n",
      "=== Ho-O ===\n"
     ]
    },
    {
     "name": "stderr",
     "output_type": "stream",
     "text": [
      "/Users/jtsivak/Code/pytheos/pytheos/stability/chemical_potential.py:89: UserWarning: WARNING!!! \n",
      "Target compound (Hg2O3) is not stable in the supplied phase diagram, therefore it will not exist on the chemical potential diagram.\n",
      "  warnings.warn(\n"
     ]
    },
    {
     "data": {
      "application/vnd.jupyter.widget-view+json": {
       "model_id": "1565fb05cf87486fb8ec71a9ff45bc36",
       "version_major": 2,
       "version_minor": 0
      },
      "text/plain": [
       "Retrieving ThermoDoc documents:   0%|          | 0/36 [00:00<?, ?it/s]"
      ]
     },
     "metadata": {},
     "output_type": "display_data"
    },
    {
     "name": "stdout",
     "output_type": "stream",
     "text": [
      "36 entries found across the GGA/GGA+U Materials Project database.\n",
      "\n",
      "Ho-O phase diagram\n",
      "3 stable phases: \n",
      "Ho, O2, Ho2O3\n",
      "\n",
      "=== I-O ===\n"
     ]
    },
    {
     "data": {
      "application/vnd.jupyter.widget-view+json": {
       "model_id": "06602f95de13481488820a70215850e6",
       "version_major": 2,
       "version_minor": 0
      },
      "text/plain": [
       "Retrieving ThermoDoc documents:   0%|          | 0/33 [00:00<?, ?it/s]"
      ]
     },
     "metadata": {},
     "output_type": "display_data"
    },
    {
     "name": "stdout",
     "output_type": "stream",
     "text": [
      "33 entries found across the GGA/GGA+U Materials Project database.\n",
      "\n",
      "I-O phase diagram\n",
      "3 stable phases: \n",
      "O2, I, I2O5\n",
      "\n",
      "=== In-O ===\n"
     ]
    },
    {
     "name": "stderr",
     "output_type": "stream",
     "text": [
      "/Users/jtsivak/Code/pytheos/pytheos/stability/chemical_potential.py:89: UserWarning: WARNING!!! \n",
      "Target compound (I2O3) is not stable in the supplied phase diagram, therefore it will not exist on the chemical potential diagram.\n",
      "  warnings.warn(\n"
     ]
    },
    {
     "data": {
      "application/vnd.jupyter.widget-view+json": {
       "model_id": "e3f58f6818ab44939eaabfd17d06e795",
       "version_major": 2,
       "version_minor": 0
      },
      "text/plain": [
       "Retrieving ThermoDoc documents:   0%|          | 0/42 [00:00<?, ?it/s]"
      ]
     },
     "metadata": {},
     "output_type": "display_data"
    },
    {
     "name": "stdout",
     "output_type": "stream",
     "text": [
      "42 entries found across the GGA/GGA+U Materials Project database.\n",
      "\n",
      "In-O phase diagram\n",
      "3 stable phases: \n",
      "In, O2, In2O3\n",
      "\n",
      "=== Ir-O ===\n"
     ]
    },
    {
     "data": {
      "application/vnd.jupyter.widget-view+json": {
       "model_id": "3f310c8044ac40baa8071109e51f2005",
       "version_major": 2,
       "version_minor": 0
      },
      "text/plain": [
       "Retrieving ThermoDoc documents:   0%|          | 0/32 [00:00<?, ?it/s]"
      ]
     },
     "metadata": {},
     "output_type": "display_data"
    },
    {
     "name": "stdout",
     "output_type": "stream",
     "text": [
      "32 entries found across the GGA/GGA+U Materials Project database.\n",
      "\n",
      "Ir-O phase diagram\n",
      "4 stable phases: \n",
      "Ir, IrO3, O2, IrO2\n",
      "\n",
      "=== K-O ===\n"
     ]
    },
    {
     "name": "stderr",
     "output_type": "stream",
     "text": [
      "/Users/jtsivak/Code/pytheos/pytheos/stability/chemical_potential.py:89: UserWarning: WARNING!!! \n",
      "Target compound (Ir2O3) is not stable in the supplied phase diagram, therefore it will not exist on the chemical potential diagram.\n",
      "  warnings.warn(\n"
     ]
    },
    {
     "data": {
      "application/vnd.jupyter.widget-view+json": {
       "model_id": "5699380e854045ccb7b986619ac6e70e",
       "version_major": 2,
       "version_minor": 0
      },
      "text/plain": [
       "Retrieving ThermoDoc documents:   0%|          | 0/65 [00:00<?, ?it/s]"
      ]
     },
     "metadata": {},
     "output_type": "display_data"
    },
    {
     "name": "stdout",
     "output_type": "stream",
     "text": [
      "65 entries found across the GGA/GGA+U Materials Project database.\n",
      "\n",
      "K-O phase diagram\n",
      "5 stable phases: \n",
      "K, O2, KO2, K2O2, K2O\n",
      "\n",
      "=== La-O ===\n"
     ]
    },
    {
     "name": "stderr",
     "output_type": "stream",
     "text": [
      "/Users/jtsivak/Code/pytheos/pytheos/stability/chemical_potential.py:89: UserWarning: WARNING!!! \n",
      "Target compound (K2O3) is not stable in the supplied phase diagram, therefore it will not exist on the chemical potential diagram.\n",
      "  warnings.warn(\n"
     ]
    },
    {
     "data": {
      "application/vnd.jupyter.widget-view+json": {
       "model_id": "79e5d0dfc03946b6890b6f2403855fd4",
       "version_major": 2,
       "version_minor": 0
      },
      "text/plain": [
       "Retrieving ThermoDoc documents:   0%|          | 0/37 [00:00<?, ?it/s]"
      ]
     },
     "metadata": {},
     "output_type": "display_data"
    },
    {
     "name": "stdout",
     "output_type": "stream",
     "text": [
      "37 entries found across the GGA/GGA+U Materials Project database.\n",
      "\n",
      "La-O phase diagram\n",
      "3 stable phases: \n",
      "O2, La2O3, La\n",
      "\n",
      "=== Li-O ===\n"
     ]
    },
    {
     "data": {
      "application/vnd.jupyter.widget-view+json": {
       "model_id": "bb47c6ca832c4c49b9c9ce9c22c7ea4b",
       "version_major": 2,
       "version_minor": 0
      },
      "text/plain": [
       "Retrieving ThermoDoc documents:   0%|          | 0/53 [00:00<?, ?it/s]"
      ]
     },
     "metadata": {},
     "output_type": "display_data"
    },
    {
     "name": "stdout",
     "output_type": "stream",
     "text": [
      "53 entries found across the GGA/GGA+U Materials Project database.\n",
      "\n",
      "Li-O phase diagram\n",
      "5 stable phases: \n",
      "Li, LiO8, O2, Li2O, Li2O2\n",
      "\n",
      "=== Lu-O ===\n"
     ]
    },
    {
     "name": "stderr",
     "output_type": "stream",
     "text": [
      "/Users/jtsivak/Code/pytheos/pytheos/stability/chemical_potential.py:89: UserWarning: WARNING!!! \n",
      "Target compound (Li2O3) is not stable in the supplied phase diagram, therefore it will not exist on the chemical potential diagram.\n",
      "  warnings.warn(\n"
     ]
    },
    {
     "data": {
      "application/vnd.jupyter.widget-view+json": {
       "model_id": "029bc68a5c8d4ec4ae2e058bdb1c2179",
       "version_major": 2,
       "version_minor": 0
      },
      "text/plain": [
       "Retrieving ThermoDoc documents:   0%|          | 0/31 [00:00<?, ?it/s]"
      ]
     },
     "metadata": {},
     "output_type": "display_data"
    },
    {
     "name": "stdout",
     "output_type": "stream",
     "text": [
      "31 entries found across the GGA/GGA+U Materials Project database.\n",
      "\n",
      "Lu-O phase diagram\n",
      "3 stable phases: \n",
      "O2, Lu2O3, Lu\n",
      "\n",
      "=== Mg-O ===\n"
     ]
    },
    {
     "data": {
      "application/vnd.jupyter.widget-view+json": {
       "model_id": "d82729b9f78848e59d60ba4591ac56e3",
       "version_major": 2,
       "version_minor": 0
      },
      "text/plain": [
       "Retrieving ThermoDoc documents:   0%|          | 0/58 [00:00<?, ?it/s]"
      ]
     },
     "metadata": {},
     "output_type": "display_data"
    },
    {
     "name": "stdout",
     "output_type": "stream",
     "text": [
      "58 entries found across the GGA/GGA+U Materials Project database.\n",
      "\n",
      "Mg-O phase diagram\n",
      "3 stable phases: \n",
      "Mg, MgO, O2\n",
      "\n",
      "=== Mn-O ===\n"
     ]
    },
    {
     "name": "stderr",
     "output_type": "stream",
     "text": [
      "/Users/jtsivak/Code/pytheos/pytheos/stability/chemical_potential.py:89: UserWarning: WARNING!!! \n",
      "Target compound (Mg2O3) is not stable in the supplied phase diagram, therefore it will not exist on the chemical potential diagram.\n",
      "  warnings.warn(\n"
     ]
    },
    {
     "data": {
      "application/vnd.jupyter.widget-view+json": {
       "model_id": "da240a1c76c3448ba3c7ce8f42e4ec6a",
       "version_major": 2,
       "version_minor": 0
      },
      "text/plain": [
       "Retrieving ThermoDoc documents:   0%|          | 0/96 [00:00<?, ?it/s]"
      ]
     },
     "metadata": {},
     "output_type": "display_data"
    },
    {
     "name": "stdout",
     "output_type": "stream",
     "text": [
      "96 entries found across the GGA/GGA+U Materials Project database.\n",
      "\n",
      "Mn-O phase diagram\n",
      "6 stable phases: \n",
      "Mn2O3, O2, Mn3O4, MnO, MnO2, Mn\n",
      "\n",
      "=== Mo-O ===\n"
     ]
    },
    {
     "data": {
      "application/vnd.jupyter.widget-view+json": {
       "model_id": "8d6fffcc48504c98827764d35c91cd69",
       "version_major": 2,
       "version_minor": 0
      },
      "text/plain": [
       "Retrieving ThermoDoc documents:   0%|          | 0/101 [00:00<?, ?it/s]"
      ]
     },
     "metadata": {},
     "output_type": "display_data"
    },
    {
     "name": "stdout",
     "output_type": "stream",
     "text": [
      "101 entries found across the GGA/GGA+U Materials Project database.\n",
      "\n",
      "Mo-O phase diagram\n",
      "6 stable phases: \n",
      "Mo, O2, MoO3, MoO2, Mo8O23, Mo9O26\n",
      "\n",
      "=== Na-O ===\n"
     ]
    },
    {
     "name": "stderr",
     "output_type": "stream",
     "text": [
      "/Users/jtsivak/Code/pytheos/pytheos/stability/chemical_potential.py:89: UserWarning: WARNING!!! \n",
      "Target compound (Mo2O3) is not stable in the supplied phase diagram, therefore it will not exist on the chemical potential diagram.\n",
      "  warnings.warn(\n"
     ]
    },
    {
     "data": {
      "application/vnd.jupyter.widget-view+json": {
       "model_id": "a1e03f15e81b47399a0dfceb418310d2",
       "version_major": 2,
       "version_minor": 0
      },
      "text/plain": [
       "Retrieving ThermoDoc documents:   0%|          | 0/61 [00:00<?, ?it/s]"
      ]
     },
     "metadata": {},
     "output_type": "display_data"
    },
    {
     "name": "stdout",
     "output_type": "stream",
     "text": [
      "61 entries found across the GGA/GGA+U Materials Project database.\n",
      "\n",
      "Na-O phase diagram\n",
      "5 stable phases: \n",
      "Na, O2, NaO2, Na2O2, Na2O\n",
      "\n",
      "=== Nb-O ===\n"
     ]
    },
    {
     "name": "stderr",
     "output_type": "stream",
     "text": [
      "/Users/jtsivak/Code/pytheos/pytheos/stability/chemical_potential.py:89: UserWarning: WARNING!!! \n",
      "Target compound (Na2O3) is not stable in the supplied phase diagram, therefore it will not exist on the chemical potential diagram.\n",
      "  warnings.warn(\n"
     ]
    },
    {
     "data": {
      "application/vnd.jupyter.widget-view+json": {
       "model_id": "769447aaa61d4f5da0abad560b99af64",
       "version_major": 2,
       "version_minor": 0
      },
      "text/plain": [
       "Retrieving ThermoDoc documents:   0%|          | 0/60 [00:00<?, ?it/s]"
      ]
     },
     "metadata": {},
     "output_type": "display_data"
    },
    {
     "name": "stdout",
     "output_type": "stream",
     "text": [
      "60 entries found across the GGA/GGA+U Materials Project database.\n",
      "\n",
      "Nb-O phase diagram\n",
      "6 stable phases: \n",
      "O2, Nb12O29, NbO, NbO2, Nb2O5, Nb\n",
      "\n",
      "=== Nd-O ===\n"
     ]
    },
    {
     "name": "stderr",
     "output_type": "stream",
     "text": [
      "/Users/jtsivak/Code/pytheos/pytheos/stability/chemical_potential.py:89: UserWarning: WARNING!!! \n",
      "Target compound (Nb2O3) is not stable in the supplied phase diagram, therefore it will not exist on the chemical potential diagram.\n",
      "  warnings.warn(\n"
     ]
    },
    {
     "data": {
      "application/vnd.jupyter.widget-view+json": {
       "model_id": "c8534f15963740948868b305ab6f691b",
       "version_major": 2,
       "version_minor": 0
      },
      "text/plain": [
       "Retrieving ThermoDoc documents:   0%|          | 0/46 [00:00<?, ?it/s]"
      ]
     },
     "metadata": {},
     "output_type": "display_data"
    },
    {
     "name": "stdout",
     "output_type": "stream",
     "text": [
      "46 entries found across the GGA/GGA+U Materials Project database.\n",
      "\n",
      "Nd-O phase diagram\n",
      "4 stable phases: \n",
      "Nd2O3, Nd, O2, NdO2\n",
      "\n",
      "=== Ni-O ===\n"
     ]
    },
    {
     "data": {
      "application/vnd.jupyter.widget-view+json": {
       "model_id": "045828a7d13945aa9ecf22b4de9bd511",
       "version_major": 2,
       "version_minor": 0
      },
      "text/plain": [
       "Retrieving ThermoDoc documents:   0%|          | 0/64 [00:00<?, ?it/s]"
      ]
     },
     "metadata": {},
     "output_type": "display_data"
    },
    {
     "name": "stdout",
     "output_type": "stream",
     "text": [
      "64 entries found across the GGA/GGA+U Materials Project database.\n",
      "\n",
      "Ni-O phase diagram\n",
      "4 stable phases: \n",
      "O2, NiO, Ni, Ni3O4\n",
      "\n",
      "=== Np-O ===\n"
     ]
    },
    {
     "name": "stderr",
     "output_type": "stream",
     "text": [
      "/Users/jtsivak/Code/pytheos/pytheos/stability/chemical_potential.py:89: UserWarning: WARNING!!! \n",
      "Target compound (Ni2O3) is not stable in the supplied phase diagram, therefore it will not exist on the chemical potential diagram.\n",
      "  warnings.warn(\n"
     ]
    },
    {
     "data": {
      "application/vnd.jupyter.widget-view+json": {
       "model_id": "9b3b903242e7468d9b4b85f811cf4dac",
       "version_major": 2,
       "version_minor": 0
      },
      "text/plain": [
       "Retrieving ThermoDoc documents:   0%|          | 0/29 [00:00<?, ?it/s]"
      ]
     },
     "metadata": {},
     "output_type": "display_data"
    },
    {
     "name": "stdout",
     "output_type": "stream",
     "text": [
      "29 entries found across the GGA/GGA+U Materials Project database.\n",
      "\n",
      "Np-O phase diagram\n",
      "4 stable phases: \n",
      "Np, O2, NpO2, Np2O5\n"
     ]
    },
    {
     "name": "stderr",
     "output_type": "stream",
     "text": [
      "/Users/jtsivak/Code/pytheos/pytheos/stability/chemical_potential.py:89: UserWarning: WARNING!!! \n",
      "Target compound (Np2O3) is not stable in the supplied phase diagram, therefore it will not exist on the chemical potential diagram.\n",
      "  warnings.warn(\n"
     ]
    },
    {
     "name": "stdout",
     "output_type": "stream",
     "text": [
      "\n",
      "=== Os-O ===\n"
     ]
    },
    {
     "data": {
      "application/vnd.jupyter.widget-view+json": {
       "model_id": "dbd3ae94d91f4510b981eb151c5b71fd",
       "version_major": 2,
       "version_minor": 0
      },
      "text/plain": [
       "Retrieving ThermoDoc documents:   0%|          | 0/33 [00:00<?, ?it/s]"
      ]
     },
     "metadata": {},
     "output_type": "display_data"
    },
    {
     "name": "stdout",
     "output_type": "stream",
     "text": [
      "33 entries found across the GGA/GGA+U Materials Project database.\n",
      "\n",
      "Os-O phase diagram\n",
      "4 stable phases: \n",
      "O2, Os, OsO4, OsO2\n",
      "\n",
      "=== P-O ===\n"
     ]
    },
    {
     "name": "stderr",
     "output_type": "stream",
     "text": [
      "/Users/jtsivak/Code/pytheos/pytheos/stability/chemical_potential.py:89: UserWarning: WARNING!!! \n",
      "Target compound (Os2O3) is not stable in the supplied phase diagram, therefore it will not exist on the chemical potential diagram.\n",
      "  warnings.warn(\n"
     ]
    },
    {
     "data": {
      "application/vnd.jupyter.widget-view+json": {
       "model_id": "e5473e8f911644759d8c66fdcfc5b711",
       "version_major": 2,
       "version_minor": 0
      },
      "text/plain": [
       "Retrieving ThermoDoc documents:   0%|          | 0/58 [00:00<?, ?it/s]"
      ]
     },
     "metadata": {},
     "output_type": "display_data"
    },
    {
     "name": "stdout",
     "output_type": "stream",
     "text": [
      "58 entries found across the GGA/GGA+U Materials Project database.\n",
      "\n",
      "P-O phase diagram\n",
      "3 stable phases: \n",
      "P, O2, P2O5\n",
      "\n",
      "=== Pa-O ===\n"
     ]
    },
    {
     "name": "stderr",
     "output_type": "stream",
     "text": [
      "/Users/jtsivak/Code/pytheos/pytheos/stability/chemical_potential.py:89: UserWarning: WARNING!!! \n",
      "Target compound (P2O3) is not stable in the supplied phase diagram, therefore it will not exist on the chemical potential diagram.\n",
      "  warnings.warn(\n"
     ]
    },
    {
     "data": {
      "application/vnd.jupyter.widget-view+json": {
       "model_id": "b2289eea311248bda01d7a46188778c8",
       "version_major": 2,
       "version_minor": 0
      },
      "text/plain": [
       "Retrieving ThermoDoc documents:   0%|          | 0/30 [00:00<?, ?it/s]"
      ]
     },
     "metadata": {},
     "output_type": "display_data"
    },
    {
     "name": "stdout",
     "output_type": "stream",
     "text": [
      "30 entries found across the GGA/GGA+U Materials Project database.\n",
      "\n",
      "Pa-O phase diagram\n",
      "4 stable phases: \n",
      "Pa, O2, PaO2, PaO3\n"
     ]
    },
    {
     "name": "stderr",
     "output_type": "stream",
     "text": [
      "/Users/jtsivak/Code/pytheos/pytheos/stability/chemical_potential.py:89: UserWarning: WARNING!!! \n",
      "Target compound (Pa2O3) is not stable in the supplied phase diagram, therefore it will not exist on the chemical potential diagram.\n",
      "  warnings.warn(\n"
     ]
    },
    {
     "name": "stdout",
     "output_type": "stream",
     "text": [
      "\n",
      "=== Pb-O ===\n"
     ]
    },
    {
     "data": {
      "application/vnd.jupyter.widget-view+json": {
       "model_id": "645cc14de5a646e98b6dbc937c3aa3e1",
       "version_major": 2,
       "version_minor": 0
      },
      "text/plain": [
       "Retrieving ThermoDoc documents:   0%|          | 0/55 [00:00<?, ?it/s]"
      ]
     },
     "metadata": {},
     "output_type": "display_data"
    },
    {
     "name": "stdout",
     "output_type": "stream",
     "text": [
      "55 entries found across the GGA/GGA+U Materials Project database.\n",
      "\n",
      "Pb-O phase diagram\n",
      "5 stable phases: \n",
      "O2, Pb, PbO2, Pb3O4, PbO\n",
      "\n",
      "=== Pd-O ===\n"
     ]
    },
    {
     "name": "stderr",
     "output_type": "stream",
     "text": [
      "/Users/jtsivak/Code/pytheos/pytheos/stability/chemical_potential.py:89: UserWarning: WARNING!!! \n",
      "Target compound (Pb2O3) is not stable in the supplied phase diagram, therefore it will not exist on the chemical potential diagram.\n",
      "  warnings.warn(\n"
     ]
    },
    {
     "data": {
      "application/vnd.jupyter.widget-view+json": {
       "model_id": "d4613fb9ecd34965a0df687c1462f8cd",
       "version_major": 2,
       "version_minor": 0
      },
      "text/plain": [
       "Retrieving ThermoDoc documents:   0%|          | 0/34 [00:00<?, ?it/s]"
      ]
     },
     "metadata": {},
     "output_type": "display_data"
    },
    {
     "name": "stdout",
     "output_type": "stream",
     "text": [
      "34 entries found across the GGA/GGA+U Materials Project database.\n",
      "\n",
      "Pd-O phase diagram\n",
      "4 stable phases: \n",
      "PdO2, O2, PdO, Pd\n",
      "\n",
      "=== Pm-O ===\n"
     ]
    },
    {
     "name": "stderr",
     "output_type": "stream",
     "text": [
      "/Users/jtsivak/Code/pytheos/pytheos/stability/chemical_potential.py:89: UserWarning: WARNING!!! \n",
      "Target compound (Pd2O3) is not stable in the supplied phase diagram, therefore it will not exist on the chemical potential diagram.\n",
      "  warnings.warn(\n"
     ]
    },
    {
     "data": {
      "application/vnd.jupyter.widget-view+json": {
       "model_id": "69b06a0cc0c94dcea12640421f19bdd4",
       "version_major": 2,
       "version_minor": 0
      },
      "text/plain": [
       "Retrieving ThermoDoc documents:   0%|          | 0/28 [00:00<?, ?it/s]"
      ]
     },
     "metadata": {},
     "output_type": "display_data"
    },
    {
     "name": "stdout",
     "output_type": "stream",
     "text": [
      "28 entries found across the GGA/GGA+U Materials Project database.\n",
      "\n",
      "Pm-O phase diagram\n",
      "3 stable phases: \n",
      "O2, Pm2O3, Pm\n",
      "\n",
      "=== Pr-O ===\n"
     ]
    },
    {
     "data": {
      "application/vnd.jupyter.widget-view+json": {
       "model_id": "d5306411764c440aaad1317e467dd35b",
       "version_major": 2,
       "version_minor": 0
      },
      "text/plain": [
       "Retrieving ThermoDoc documents:   0%|          | 0/47 [00:00<?, ?it/s]"
      ]
     },
     "metadata": {},
     "output_type": "display_data"
    },
    {
     "name": "stdout",
     "output_type": "stream",
     "text": [
      "47 entries found across the GGA/GGA+U Materials Project database.\n",
      "\n",
      "Pr-O phase diagram\n",
      "3 stable phases: \n",
      "O2, Pr2O3, Pr\n",
      "\n",
      "=== Pt-O ===\n"
     ]
    },
    {
     "data": {
      "application/vnd.jupyter.widget-view+json": {
       "model_id": "edb644ff99314fb190d84074ba005365",
       "version_major": 2,
       "version_minor": 0
      },
      "text/plain": [
       "Retrieving ThermoDoc documents:   0%|          | 0/40 [00:00<?, ?it/s]"
      ]
     },
     "metadata": {},
     "output_type": "display_data"
    },
    {
     "name": "stdout",
     "output_type": "stream",
     "text": [
      "40 entries found across the GGA/GGA+U Materials Project database.\n",
      "\n",
      "Pt-O phase diagram\n",
      "4 stable phases: \n",
      "Pt, PtO2, O2, Pt3O4\n",
      "\n",
      "=== Pu-O ===\n"
     ]
    },
    {
     "name": "stderr",
     "output_type": "stream",
     "text": [
      "/Users/jtsivak/Code/pytheos/pytheos/stability/chemical_potential.py:89: UserWarning: WARNING!!! \n",
      "Target compound (Pt2O3) is not stable in the supplied phase diagram, therefore it will not exist on the chemical potential diagram.\n",
      "  warnings.warn(\n"
     ]
    },
    {
     "data": {
      "application/vnd.jupyter.widget-view+json": {
       "model_id": "c01f97196fcd41debc93b2b4c715a84a",
       "version_major": 2,
       "version_minor": 0
      },
      "text/plain": [
       "Retrieving ThermoDoc documents:   0%|          | 0/39 [00:00<?, ?it/s]"
      ]
     },
     "metadata": {},
     "output_type": "display_data"
    },
    {
     "name": "stdout",
     "output_type": "stream",
     "text": [
      "39 entries found across the GGA/GGA+U Materials Project database.\n",
      "\n",
      "Pu-O phase diagram\n",
      "4 stable phases: \n",
      "O2, PuO2, Pu, Pu2O3\n",
      "\n",
      "=== Rb-O ===\n"
     ]
    },
    {
     "data": {
      "application/vnd.jupyter.widget-view+json": {
       "model_id": "c41186ee3f2043c9a24eac320e3d0299",
       "version_major": 2,
       "version_minor": 0
      },
      "text/plain": [
       "Retrieving ThermoDoc documents:   0%|          | 0/63 [00:00<?, ?it/s]"
      ]
     },
     "metadata": {},
     "output_type": "display_data"
    },
    {
     "name": "stdout",
     "output_type": "stream",
     "text": [
      "63 entries found across the GGA/GGA+U Materials Project database.\n",
      "\n",
      "Rb-O phase diagram\n",
      "6 stable phases: \n",
      "Rb, RbO2, O2, Rb9O2, Rb2O, Rb2O2\n",
      "\n",
      "=== Re-O ===\n"
     ]
    },
    {
     "name": "stderr",
     "output_type": "stream",
     "text": [
      "/Users/jtsivak/Code/pytheos/pytheos/stability/chemical_potential.py:89: UserWarning: WARNING!!! \n",
      "Target compound (Rb2O3) is not stable in the supplied phase diagram, therefore it will not exist on the chemical potential diagram.\n",
      "  warnings.warn(\n"
     ]
    },
    {
     "data": {
      "application/vnd.jupyter.widget-view+json": {
       "model_id": "336fb2319e574d31bd19623e217aea64",
       "version_major": 2,
       "version_minor": 0
      },
      "text/plain": [
       "Retrieving ThermoDoc documents:   0%|          | 0/44 [00:00<?, ?it/s]"
      ]
     },
     "metadata": {},
     "output_type": "display_data"
    },
    {
     "name": "stdout",
     "output_type": "stream",
     "text": [
      "44 entries found across the GGA/GGA+U Materials Project database.\n",
      "\n",
      "Re-O phase diagram\n",
      "4 stable phases: \n",
      "Re2O7, O2, ReO3, Re\n",
      "\n",
      "=== Rh-O ===\n"
     ]
    },
    {
     "name": "stderr",
     "output_type": "stream",
     "text": [
      "/Users/jtsivak/Code/pytheos/pytheos/stability/chemical_potential.py:89: UserWarning: WARNING!!! \n",
      "Target compound (Re2O3) is not stable in the supplied phase diagram, therefore it will not exist on the chemical potential diagram.\n",
      "  warnings.warn(\n"
     ]
    },
    {
     "data": {
      "application/vnd.jupyter.widget-view+json": {
       "model_id": "21ffd8b3ee064a62ba171b8bd1516d5a",
       "version_major": 2,
       "version_minor": 0
      },
      "text/plain": [
       "Retrieving ThermoDoc documents:   0%|          | 0/35 [00:00<?, ?it/s]"
      ]
     },
     "metadata": {},
     "output_type": "display_data"
    },
    {
     "name": "stdout",
     "output_type": "stream",
     "text": [
      "35 entries found across the GGA/GGA+U Materials Project database.\n",
      "\n",
      "Rh-O phase diagram\n",
      "3 stable phases: \n",
      "O2, RhO2, Rh\n",
      "\n",
      "=== Ru-O ===\n"
     ]
    },
    {
     "name": "stderr",
     "output_type": "stream",
     "text": [
      "/Users/jtsivak/Code/pytheos/pytheos/stability/chemical_potential.py:89: UserWarning: WARNING!!! \n",
      "Target compound (Rh2O3) is not stable in the supplied phase diagram, therefore it will not exist on the chemical potential diagram.\n",
      "  warnings.warn(\n"
     ]
    },
    {
     "data": {
      "application/vnd.jupyter.widget-view+json": {
       "model_id": "57f6337b4c0d4abc9f1b1b6909d0723f",
       "version_major": 2,
       "version_minor": 0
      },
      "text/plain": [
       "Retrieving ThermoDoc documents:   0%|          | 0/29 [00:00<?, ?it/s]"
      ]
     },
     "metadata": {},
     "output_type": "display_data"
    },
    {
     "name": "stdout",
     "output_type": "stream",
     "text": [
      "29 entries found across the GGA/GGA+U Materials Project database.\n",
      "\n",
      "Ru-O phase diagram\n",
      "4 stable phases: \n",
      "O2, Ru, RuO4, RuO2\n",
      "\n",
      "=== Sb-O ===\n"
     ]
    },
    {
     "name": "stderr",
     "output_type": "stream",
     "text": [
      "/Users/jtsivak/Code/pytheos/pytheos/stability/chemical_potential.py:89: UserWarning: WARNING!!! \n",
      "Target compound (Ru2O3) is not stable in the supplied phase diagram, therefore it will not exist on the chemical potential diagram.\n",
      "  warnings.warn(\n"
     ]
    },
    {
     "data": {
      "application/vnd.jupyter.widget-view+json": {
       "model_id": "dc21435b71a94161adb1680962a93a5d",
       "version_major": 2,
       "version_minor": 0
      },
      "text/plain": [
       "Retrieving ThermoDoc documents:   0%|          | 0/84 [00:00<?, ?it/s]"
      ]
     },
     "metadata": {},
     "output_type": "display_data"
    },
    {
     "name": "stdout",
     "output_type": "stream",
     "text": [
      "84 entries found across the GGA/GGA+U Materials Project database.\n",
      "\n",
      "Sb-O phase diagram\n",
      "5 stable phases: \n",
      "Sb, O2, Sb2O5, Sb2O3, SbO2\n",
      "\n",
      "=== Sc-O ===\n"
     ]
    },
    {
     "data": {
      "application/vnd.jupyter.widget-view+json": {
       "model_id": "5859f9632a1b48fb85ca54db1bd3786b",
       "version_major": 2,
       "version_minor": 0
      },
      "text/plain": [
       "Retrieving ThermoDoc documents:   0%|          | 0/45 [00:00<?, ?it/s]"
      ]
     },
     "metadata": {},
     "output_type": "display_data"
    },
    {
     "name": "stdout",
     "output_type": "stream",
     "text": [
      "45 entries found across the GGA/GGA+U Materials Project database.\n",
      "\n",
      "Sc-O phase diagram\n",
      "3 stable phases: \n",
      "O2, Sc2O3, Sc\n",
      "\n",
      "=== Se-O ===\n"
     ]
    },
    {
     "data": {
      "application/vnd.jupyter.widget-view+json": {
       "model_id": "44f2410288b34b6792cc2db8726f6c01",
       "version_major": 2,
       "version_minor": 0
      },
      "text/plain": [
       "Retrieving ThermoDoc documents:   0%|          | 0/41 [00:00<?, ?it/s]"
      ]
     },
     "metadata": {},
     "output_type": "display_data"
    },
    {
     "name": "stdout",
     "output_type": "stream",
     "text": [
      "41 entries found across the GGA/GGA+U Materials Project database.\n",
      "\n",
      "Se-O phase diagram\n",
      "4 stable phases: \n",
      "O2, Se2O5, Se, SeO2\n",
      "\n",
      "=== Si-O ===\n"
     ]
    },
    {
     "name": "stderr",
     "output_type": "stream",
     "text": [
      "/Users/jtsivak/Code/pytheos/pytheos/stability/chemical_potential.py:89: UserWarning: WARNING!!! \n",
      "Target compound (Se2O3) is not stable in the supplied phase diagram, therefore it will not exist on the chemical potential diagram.\n",
      "  warnings.warn(\n"
     ]
    },
    {
     "data": {
      "application/vnd.jupyter.widget-view+json": {
       "model_id": "257da2f08056490b9d9d626e7d51b460",
       "version_major": 2,
       "version_minor": 0
      },
      "text/plain": [
       "Retrieving ThermoDoc documents:   0%|          | 0/407 [00:00<?, ?it/s]"
      ]
     },
     "metadata": {},
     "output_type": "display_data"
    },
    {
     "name": "stdout",
     "output_type": "stream",
     "text": [
      "407 entries found across the GGA/GGA+U Materials Project database.\n",
      "\n",
      "Si-O phase diagram\n",
      "3 stable phases: \n",
      "O2, Si, SiO2\n",
      "\n",
      "=== Sm-O ===\n"
     ]
    },
    {
     "name": "stderr",
     "output_type": "stream",
     "text": [
      "/Users/jtsivak/Code/pytheos/pytheos/stability/chemical_potential.py:89: UserWarning: WARNING!!! \n",
      "Target compound (Si2O3) is not stable in the supplied phase diagram, therefore it will not exist on the chemical potential diagram.\n",
      "  warnings.warn(\n"
     ]
    },
    {
     "data": {
      "application/vnd.jupyter.widget-view+json": {
       "model_id": "c2399279238f4216a69b6c13fecd051e",
       "version_major": 2,
       "version_minor": 0
      },
      "text/plain": [
       "Retrieving ThermoDoc documents:   0%|          | 0/37 [00:00<?, ?it/s]"
      ]
     },
     "metadata": {},
     "output_type": "display_data"
    },
    {
     "name": "stdout",
     "output_type": "stream",
     "text": [
      "37 entries found across the GGA/GGA+U Materials Project database.\n",
      "\n",
      "Sm-O phase diagram\n",
      "3 stable phases: \n",
      "O2, Sm2O3, Sm\n",
      "\n",
      "=== Sn-O ===\n"
     ]
    },
    {
     "data": {
      "application/vnd.jupyter.widget-view+json": {
       "model_id": "b9fceaf3181e482888c2756ca55fb47e",
       "version_major": 2,
       "version_minor": 0
      },
      "text/plain": [
       "Retrieving ThermoDoc documents:   0%|          | 0/78 [00:00<?, ?it/s]"
      ]
     },
     "metadata": {},
     "output_type": "display_data"
    },
    {
     "name": "stdout",
     "output_type": "stream",
     "text": [
      "78 entries found across the GGA/GGA+U Materials Project database.\n",
      "\n",
      "Sn-O phase diagram\n",
      "5 stable phases: \n",
      "Sn, O2, SnO, SnO2, Sn5O6\n",
      "\n",
      "=== Sr-O ===\n"
     ]
    },
    {
     "name": "stderr",
     "output_type": "stream",
     "text": [
      "/Users/jtsivak/Code/pytheos/pytheos/stability/chemical_potential.py:89: UserWarning: WARNING!!! \n",
      "Target compound (Sn2O3) is not stable in the supplied phase diagram, therefore it will not exist on the chemical potential diagram.\n",
      "  warnings.warn(\n"
     ]
    },
    {
     "data": {
      "application/vnd.jupyter.widget-view+json": {
       "model_id": "d8f59251d1e042b1ba27bb16dd5f3509",
       "version_major": 2,
       "version_minor": 0
      },
      "text/plain": [
       "Retrieving ThermoDoc documents:   0%|          | 0/50 [00:00<?, ?it/s]"
      ]
     },
     "metadata": {},
     "output_type": "display_data"
    },
    {
     "name": "stdout",
     "output_type": "stream",
     "text": [
      "50 entries found across the GGA/GGA+U Materials Project database.\n",
      "\n",
      "Sr-O phase diagram\n",
      "4 stable phases: \n",
      "Sr, O2, SrO, SrO2\n"
     ]
    },
    {
     "name": "stderr",
     "output_type": "stream",
     "text": [
      "/Users/jtsivak/Code/pytheos/pytheos/stability/chemical_potential.py:89: UserWarning: WARNING!!! \n",
      "Target compound (Sr2O3) is not stable in the supplied phase diagram, therefore it will not exist on the chemical potential diagram.\n",
      "  warnings.warn(\n"
     ]
    },
    {
     "name": "stdout",
     "output_type": "stream",
     "text": [
      "\n",
      "=== Ta-O ===\n"
     ]
    },
    {
     "data": {
      "application/vnd.jupyter.widget-view+json": {
       "model_id": "328843c05f024e9bb1c571df05a4ac4f",
       "version_major": 2,
       "version_minor": 0
      },
      "text/plain": [
       "Retrieving ThermoDoc documents:   0%|          | 0/73 [00:00<?, ?it/s]"
      ]
     },
     "metadata": {},
     "output_type": "display_data"
    },
    {
     "name": "stdout",
     "output_type": "stream",
     "text": [
      "73 entries found across the GGA/GGA+U Materials Project database.\n",
      "\n",
      "Ta-O phase diagram\n",
      "3 stable phases: \n",
      "O2, Ta2O5, Ta\n",
      "\n",
      "=== Tb-O ===\n"
     ]
    },
    {
     "name": "stderr",
     "output_type": "stream",
     "text": [
      "/Users/jtsivak/Code/pytheos/pytheos/stability/chemical_potential.py:89: UserWarning: WARNING!!! \n",
      "Target compound (Ta2O3) is not stable in the supplied phase diagram, therefore it will not exist on the chemical potential diagram.\n",
      "  warnings.warn(\n"
     ]
    },
    {
     "data": {
      "application/vnd.jupyter.widget-view+json": {
       "model_id": "a6e25968fded45c084b234a175c419a6",
       "version_major": 2,
       "version_minor": 0
      },
      "text/plain": [
       "Retrieving ThermoDoc documents:   0%|          | 0/40 [00:00<?, ?it/s]"
      ]
     },
     "metadata": {},
     "output_type": "display_data"
    },
    {
     "name": "stdout",
     "output_type": "stream",
     "text": [
      "40 entries found across the GGA/GGA+U Materials Project database.\n",
      "\n",
      "Tb-O phase diagram\n",
      "3 stable phases: \n",
      "Tb2O3, Tb, O2\n",
      "\n",
      "=== Tc-O ===\n"
     ]
    },
    {
     "data": {
      "application/vnd.jupyter.widget-view+json": {
       "model_id": "f730f265b646468fb2bdbb352e861ad9",
       "version_major": 2,
       "version_minor": 0
      },
      "text/plain": [
       "Retrieving ThermoDoc documents:   0%|          | 0/28 [00:00<?, ?it/s]"
      ]
     },
     "metadata": {},
     "output_type": "display_data"
    },
    {
     "name": "stdout",
     "output_type": "stream",
     "text": [
      "28 entries found across the GGA/GGA+U Materials Project database.\n",
      "\n",
      "Tc-O phase diagram\n",
      "4 stable phases: \n",
      "Tc, O2, Tc2O7, TcO2\n",
      "\n",
      "=== Te-O ===\n"
     ]
    },
    {
     "name": "stderr",
     "output_type": "stream",
     "text": [
      "/Users/jtsivak/Code/pytheos/pytheos/stability/chemical_potential.py:89: UserWarning: WARNING!!! \n",
      "Target compound (Tc2O3) is not stable in the supplied phase diagram, therefore it will not exist on the chemical potential diagram.\n",
      "  warnings.warn(\n"
     ]
    },
    {
     "data": {
      "application/vnd.jupyter.widget-view+json": {
       "model_id": "091dd08c80184fffb7a48f3770028a39",
       "version_major": 2,
       "version_minor": 0
      },
      "text/plain": [
       "Retrieving ThermoDoc documents:   0%|          | 0/56 [00:00<?, ?it/s]"
      ]
     },
     "metadata": {},
     "output_type": "display_data"
    },
    {
     "name": "stdout",
     "output_type": "stream",
     "text": [
      "56 entries found across the GGA/GGA+U Materials Project database.\n",
      "\n",
      "Te-O phase diagram\n",
      "5 stable phases: \n",
      "TeO3, Te2O5, O2, Te, TeO2\n",
      "\n",
      "=== Th-O ===\n"
     ]
    },
    {
     "name": "stderr",
     "output_type": "stream",
     "text": [
      "/Users/jtsivak/Code/pytheos/pytheos/stability/chemical_potential.py:89: UserWarning: WARNING!!! \n",
      "Target compound (Te2O3) is not stable in the supplied phase diagram, therefore it will not exist on the chemical potential diagram.\n",
      "  warnings.warn(\n"
     ]
    },
    {
     "data": {
      "application/vnd.jupyter.widget-view+json": {
       "model_id": "a851c3390abf4a12ae341616ae09ab7f",
       "version_major": 2,
       "version_minor": 0
      },
      "text/plain": [
       "Retrieving ThermoDoc documents:   0%|          | 0/29 [00:00<?, ?it/s]"
      ]
     },
     "metadata": {},
     "output_type": "display_data"
    },
    {
     "name": "stdout",
     "output_type": "stream",
     "text": [
      "29 entries found across the GGA/GGA+U Materials Project database.\n",
      "\n",
      "Th-O phase diagram\n",
      "3 stable phases: \n",
      "O2, Th, ThO2\n",
      "\n",
      "=== Ti-O ===\n"
     ]
    },
    {
     "name": "stderr",
     "output_type": "stream",
     "text": [
      "/Users/jtsivak/Code/pytheos/pytheos/stability/chemical_potential.py:89: UserWarning: WARNING!!! \n",
      "Target compound (Th2O3) is not stable in the supplied phase diagram, therefore it will not exist on the chemical potential diagram.\n",
      "  warnings.warn(\n"
     ]
    },
    {
     "data": {
      "application/vnd.jupyter.widget-view+json": {
       "model_id": "ca55b4ebce704ec2a1082ea0caa32ddd",
       "version_major": 2,
       "version_minor": 0
      },
      "text/plain": [
       "Retrieving ThermoDoc documents:   0%|          | 0/153 [00:00<?, ?it/s]"
      ]
     },
     "metadata": {},
     "output_type": "display_data"
    },
    {
     "name": "stdout",
     "output_type": "stream",
     "text": [
      "153 entries found across the GGA/GGA+U Materials Project database.\n",
      "\n",
      "Ti-O phase diagram\n",
      "9 stable phases: \n",
      "TiO, Ti3O5, Ti2O, O2, Ti3O, Ti2O3, Ti6O, TiO2, Ti\n",
      "\n",
      "=== Tl-O ===\n"
     ]
    },
    {
     "data": {
      "application/vnd.jupyter.widget-view+json": {
       "model_id": "148b697ed4f14493a6489b5c3e11905e",
       "version_major": 2,
       "version_minor": 0
      },
      "text/plain": [
       "Retrieving ThermoDoc documents:   0%|          | 0/37 [00:00<?, ?it/s]"
      ]
     },
     "metadata": {},
     "output_type": "display_data"
    },
    {
     "name": "stdout",
     "output_type": "stream",
     "text": [
      "37 entries found across the GGA/GGA+U Materials Project database.\n",
      "\n",
      "Tl-O phase diagram\n",
      "5 stable phases: \n",
      "O2, Tl2O3, Tl2O, Tl4O3, Tl\n",
      "\n",
      "=== Tm-O ===\n"
     ]
    },
    {
     "data": {
      "application/vnd.jupyter.widget-view+json": {
       "model_id": "1fb5bedfb8484f398c4241c32567a60f",
       "version_major": 2,
       "version_minor": 0
      },
      "text/plain": [
       "Retrieving ThermoDoc documents:   0%|          | 0/33 [00:00<?, ?it/s]"
      ]
     },
     "metadata": {},
     "output_type": "display_data"
    },
    {
     "name": "stdout",
     "output_type": "stream",
     "text": [
      "33 entries found across the GGA/GGA+U Materials Project database.\n",
      "\n",
      "Tm-O phase diagram\n",
      "3 stable phases: \n",
      "Tm, O2, Tm2O3\n",
      "\n",
      "=== U-O ===\n"
     ]
    },
    {
     "data": {
      "application/vnd.jupyter.widget-view+json": {
       "model_id": "0b206bbace374a3695ce1d3eb0ce3b55",
       "version_major": 2,
       "version_minor": 0
      },
      "text/plain": [
       "Retrieving ThermoDoc documents:   0%|          | 0/76 [00:00<?, ?it/s]"
      ]
     },
     "metadata": {},
     "output_type": "display_data"
    },
    {
     "name": "stdout",
     "output_type": "stream",
     "text": [
      "76 entries found across the GGA/GGA+U Materials Project database.\n",
      "\n",
      "U-O phase diagram\n",
      "6 stable phases: \n",
      "O2, UO2, U3O8, UO3, U, U17O31\n",
      "\n",
      "=== V-O ===\n"
     ]
    },
    {
     "name": "stderr",
     "output_type": "stream",
     "text": [
      "/Users/jtsivak/Code/pytheos/pytheos/stability/chemical_potential.py:89: UserWarning: WARNING!!! \n",
      "Target compound (U2O3) is not stable in the supplied phase diagram, therefore it will not exist on the chemical potential diagram.\n",
      "  warnings.warn(\n"
     ]
    },
    {
     "data": {
      "application/vnd.jupyter.widget-view+json": {
       "model_id": "3eca4f621ded4285a7c761018a379596",
       "version_major": 2,
       "version_minor": 0
      },
      "text/plain": [
       "Retrieving ThermoDoc documents:   0%|          | 0/230 [00:00<?, ?it/s]"
      ]
     },
     "metadata": {},
     "output_type": "display_data"
    },
    {
     "name": "stdout",
     "output_type": "stream",
     "text": [
      "230 entries found across the GGA/GGA+U Materials Project database.\n",
      "\n",
      "V-O phase diagram\n",
      "6 stable phases: \n",
      "V3O5, O2, V, VO2, V2O3, V2O5\n",
      "\n",
      "=== W-O ===\n"
     ]
    },
    {
     "data": {
      "application/vnd.jupyter.widget-view+json": {
       "model_id": "a283b718370d46b4a24aed9f98a735d7",
       "version_major": 2,
       "version_minor": 0
      },
      "text/plain": [
       "Retrieving ThermoDoc documents:   0%|          | 0/125 [00:00<?, ?it/s]"
      ]
     },
     "metadata": {},
     "output_type": "display_data"
    },
    {
     "name": "stdout",
     "output_type": "stream",
     "text": [
      "125 entries found across the GGA/GGA+U Materials Project database.\n",
      "\n",
      "W-O phase diagram\n",
      "4 stable phases: \n",
      "O2, WO2, WO3, W\n",
      "\n",
      "=== Y-O ===\n"
     ]
    },
    {
     "name": "stderr",
     "output_type": "stream",
     "text": [
      "/Users/jtsivak/Code/pytheos/pytheos/stability/chemical_potential.py:89: UserWarning: WARNING!!! \n",
      "Target compound (W2O3) is not stable in the supplied phase diagram, therefore it will not exist on the chemical potential diagram.\n",
      "  warnings.warn(\n"
     ]
    },
    {
     "data": {
      "application/vnd.jupyter.widget-view+json": {
       "model_id": "0fd7cc83fa0f4c44a5e68ac97afe8dc6",
       "version_major": 2,
       "version_minor": 0
      },
      "text/plain": [
       "Retrieving ThermoDoc documents:   0%|          | 0/47 [00:00<?, ?it/s]"
      ]
     },
     "metadata": {},
     "output_type": "display_data"
    },
    {
     "name": "stdout",
     "output_type": "stream",
     "text": [
      "47 entries found across the GGA/GGA+U Materials Project database.\n",
      "\n",
      "Y-O phase diagram\n",
      "3 stable phases: \n",
      "Y, O2, Y2O3\n",
      "\n",
      "=== Zn-O ===\n"
     ]
    },
    {
     "data": {
      "application/vnd.jupyter.widget-view+json": {
       "model_id": "171ae46bca7047beb978deb4d56e51fb",
       "version_major": 2,
       "version_minor": 0
      },
      "text/plain": [
       "Retrieving ThermoDoc documents:   0%|          | 0/48 [00:00<?, ?it/s]"
      ]
     },
     "metadata": {},
     "output_type": "display_data"
    },
    {
     "name": "stdout",
     "output_type": "stream",
     "text": [
      "48 entries found across the GGA/GGA+U Materials Project database.\n",
      "\n",
      "Zn-O phase diagram\n",
      "3 stable phases: \n",
      "O2, ZnO, Zn\n",
      "\n",
      "=== Zr-O ===\n"
     ]
    },
    {
     "name": "stderr",
     "output_type": "stream",
     "text": [
      "/Users/jtsivak/Code/pytheos/pytheos/stability/chemical_potential.py:89: UserWarning: WARNING!!! \n",
      "Target compound (Zn2O3) is not stable in the supplied phase diagram, therefore it will not exist on the chemical potential diagram.\n",
      "  warnings.warn(\n"
     ]
    },
    {
     "data": {
      "application/vnd.jupyter.widget-view+json": {
       "model_id": "396064d21ae54ae1bdf3b72ab2883eb5",
       "version_major": 2,
       "version_minor": 0
      },
      "text/plain": [
       "Retrieving ThermoDoc documents:   0%|          | 0/59 [00:00<?, ?it/s]"
      ]
     },
     "metadata": {},
     "output_type": "display_data"
    },
    {
     "name": "stdout",
     "output_type": "stream",
     "text": [
      "59 entries found across the GGA/GGA+U Materials Project database.\n",
      "\n",
      "Zr-O phase diagram\n",
      "5 stable phases: \n",
      "Zr4O, O2, Zr, ZrO2, Zr3O\n",
      "\n",
      "34 cations have some finite chemical potential stability windows for the A2O3 (A3+) stoichiometry...\n"
     ]
    },
    {
     "name": "stderr",
     "output_type": "stream",
     "text": [
      "/Users/jtsivak/Code/pytheos/pytheos/stability/chemical_potential.py:89: UserWarning: WARNING!!! \n",
      "Target compound (Zr2O3) is not stable in the supplied phase diagram, therefore it will not exist on the chemical potential diagram.\n",
      "  warnings.warn(\n"
     ]
    }
   ],
   "source": [
    "from pytheos.stability import ionic_radii\n",
    "\n",
    "print(\"Example is for 3+ cations (A2O3 stoichiometry)...\\n\")\n",
    "\n",
    "chempot_stability_windows = {} # to be populated with {\"element\": }\n",
    "\n",
    "# we can load the ionic radii yaml file to get all elements on the periodic table (that we care to explore that is)\n",
    "elements_to_sample = ionic_radii.load_ionic_radii()\n",
    "\n",
    "# those that are not in the Materials Project database & anions\n",
    "elements_to_remove = [\n",
    "    \"Am\",\n",
    "    \"At\",\n",
    "    \"Bk\",\n",
    "    \"C\",\n",
    "    \"Cf\",\n",
    "    \"Cm\",\n",
    "    \"Fr\",\n",
    "    \"N\",\n",
    "    \"No\",\n",
    "    \"O\",\n",
    "    \"OH\",\n",
    "    \"Po\",\n",
    "    \"Ra\",\n",
    "    \"S\",\n",
    "    \"Xe\",\n",
    "    \"Yb\", # should work, however seems to be an issues with the Materials Project database itself... likely in the GGA/GGA+U mixing scheme\n",
    "    ]\n",
    "\n",
    "for element_to_remove in elements_to_remove:\n",
    "    elements_to_sample.pop(element_to_remove)\n",
    "\n",
    "for element in elements_to_sample:\n",
    "    print(f\"\\n=== {element}-O ===\")\n",
    "\n",
    "    entries = materials_project.query_entries_across_chemsys(\n",
    "    elements=[element, \"O\"], \n",
    "    api_key=\"YOUR_API_KEY\",\n",
    "    thermo_type=\"GGA_GGA+U\",\n",
    "    )\n",
    "    print(f\"{len(entries)} entries found across the GGA/GGA+U Materials Project database.\\n\")\n",
    "\n",
    "    phasediagram = phase_diagram.generate_phase_diagram(entries=entries)\n",
    "\n",
    "    print(phasediagram)\n",
    "\n",
    "    chempot = chemical_potential.ChemPotDiagram(\n",
    "        phase_diagram=phasediagram,\n",
    "        cation=element,\n",
    "        anion=\"O\",\n",
    "        target_compound=f\"{element}2O3\", # notice the change in stoichiometry compared to the previous example to accomodate for 3+ cation valence\n",
    "    )\n",
    "\n",
    "    chempot.get_all_stable_ranges()\n",
    "\n",
    "    stability_window = chempot.get_target_anion_range()\n",
    "\n",
    "    if stability_window is not None: # only add to dictionary if has some finite stability window (stable composition on the hull)\n",
    "        chempot_stability_windows[element] = stability_window[\"distance\"]\n",
    "\n",
    "print(f\"\\n{len(chempot_stability_windows)} cations have some finite chemical potential stability windows for the A2O3 (A3+) stoichiometry...\")"
   ]
  },
  {
   "cell_type": "code",
   "execution_count": 17,
   "id": "5025f823",
   "metadata": {},
   "outputs": [
    {
     "data": {
      "text/plain": [
       "<Axes: >"
      ]
     },
     "execution_count": 17,
     "metadata": {},
     "output_type": "execute_result"
    },
    {
     "data": {
      "image/png": "[encoded data removed]",
      "text/plain": [
       "<Figure size 1600x720 with 2 Axes>"
      ]
     },
     "metadata": {},
     "output_type": "display_data"
    }
   ],
   "source": [
    "from pytheos.plotting import plot_heatmap_periodic_table\n",
    "\n",
    "plot_heatmap_periodic_table(\n",
    "    elemental_data=chempot_stability_windows, \n",
    "    cbar_label=r\"Stable μ$_{\\rm O}$ Range (eV)\",\n",
    "    cmap=\"Greens\",\n",
    "    blank_color=\"#F0F0F0\",\n",
    "    value_format=\"%.2f\",\n",
    "    )"
   ]
  },
  {
   "cell_type": "markdown",
   "id": "d7e2ffe5",
   "metadata": {},
   "source": [
    "We can see that these values follow our expectations using chemical intuition built in the periodic table...\n",
    "- Column 3 and 13 elements prefer 3+ valence since they have full valence shalls\n",
    "- many of the Lanthanide elements prefer 3+ valence\n",
    "- narrower windows for the early 3d-transition metals, with the widest being Cr3+ as expected as it primarily takes this oxidation state..."
   ]
  },
  {
   "cell_type": "markdown",
   "id": "fb99a4f6",
   "metadata": {},
   "source": []
  }
 ],
 "metadata": {
  "kernelspec": {
   "display_name": "pytheos",
   "language": "python",
   "name": "python3"
  },
  "language_info": {
   "codemirror_mode": {
    "name": "ipython",
    "version": 3
   },
   "file_extension": ".py",
   "mimetype": "text/x-python",
   "name": "python",
   "nbconvert_exporter": "python",
   "pygments_lexer": "ipython3",
   "version": "3.12.8"
  }
 },
 "nbformat": 4,
 "nbformat_minor": 5
}
