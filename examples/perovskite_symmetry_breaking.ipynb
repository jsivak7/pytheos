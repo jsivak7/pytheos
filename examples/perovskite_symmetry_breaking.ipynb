{
 "cells": [
  {
   "cell_type": "markdown",
   "id": "ad616c10",
   "metadata": {},
   "source": [
    "# Perovskite Symmetry-Breaking Example\n",
    "This notebook demonstrates the importance of initially breaking the structural symmetry as well as considering larger supercells for $SrBO_3$ perovskites in DFT calculations. We will do this using the $SrTiO_3$, $SrVO_3$, and $SrNbO_3$ calculations as an example, however it is important to consider in a variety of systems as demonstrated by Alex Zunger's group as well as our previous exploration of transparent conducting high-entropy perovskite oxides [(Link)](https://advanced.onlinelibrary.wiley.com/doi/full/10.1002/advs.202509868).\n",
    "\n",
    "Oftentimes DFT calculations are only performed for perovskite oxides with a 5-atom cubic unit cell. These smallest representations do not allow for symmetry-distortions such as the well-known octahedral tilting common in perovskites to occur during the relaxation process. The discrepancies between DFT predictions and experiment is commonly estimated as the \"correlation\" in these systems, however by allowing for these symmetry-breaking distortions (especially when accounted for both in atomic structure and magnetic ordering). We will only consider the structural aspect here with both FM and AFM-G magnetic ordering as an example, with AFM-G being the highest possible \"correlation\" due to each B-cation only seeing B-cations with opposite spin."
   ]
  },
  {
   "cell_type": "markdown",
   "id": "0e93fbb0",
   "metadata": {},
   "source": [
    "# $SrTiO_3$\n",
    "This composition is known as one of the sterotypical peroskite oxides, so we will start here. We have confidence that know $Ti^{4+}$ has no unpaired valence electrons and can therefore run our calculations without spin polarization."
   ]
  },
  {
   "cell_type": "code",
   "execution_count": 1,
   "id": "2d73d161",
   "metadata": {},
   "outputs": [
    {
     "name": "stdout",
     "output_type": "stream",
     "text": [
      "Atoms(symbols='SrTiO3', pbc=True, cell=[4.0, 4.0, 4.0])\n",
      "[[0. 0. 0.]\n",
      " [2. 2. 2.]\n",
      " [2. 0. 2.]\n",
      " [2. 2. 0.]\n",
      " [0. 2. 2.]]\n"
     ]
    }
   ],
   "source": [
    "from pytheos.structure import utils, generation\n",
    "\n",
    "# 5-atom perovskite unit cell\n",
    "SrTiO3_unitcell = utils.read_structure(\"perovskite_files/SrTiO3_unitcell.vasp\")\n",
    "print(SrTiO3_unitcell)\n",
    "print(SrTiO3_unitcell.positions)\n",
    "\n",
    "# 40-atom perovskite supercell\n",
    "SrTiO3_2x2x2 = generation.make_supercell(structure=SrTiO3_unitcell, dimensions=[2, 2, 2])"
   ]
  },
  {
   "cell_type": "code",
   "execution_count": 9,
   "id": "c68f0fbe",
   "metadata": {},
   "outputs": [],
   "source": [
    "from pytheos.vasp import inputs\n",
    "import os"
   ]
  },
  {
   "cell_type": "code",
   "execution_count": null,
   "id": "b8a18040",
   "metadata": {},
   "outputs": [
    {
     "name": "stderr",
     "output_type": "stream",
     "text": [
      "/storage/work/jts6114/.conda/envs/pytheos/lib/python3.12/site-packages/pymatgen/io/vasp/sets.py:486: BadInputSetWarning: POTCAR data with symbol Sr_sv is not known by pymatgen to correspond with the selected user_potcar_functional='PBE_54'. This POTCAR is known to correspond with functionals ['PBE_52_W_HASH', 'PBE_64', 'PBE_54_W_HASH']. Please verify that you are using the right POTCARs!\n",
      "  potcar=\"\\n\".join(self.potcar_symbols) if potcar_spec else self.potcar,\n",
      "/storage/work/jts6114/.conda/envs/pytheos/lib/python3.12/site-packages/pymatgen/io/vasp/sets.py:486: BadInputSetWarning: POTCAR data with symbol Ti_pv is not known by pymatgen to correspond with the selected user_potcar_functional='PBE_54'. This POTCAR is known to correspond with functionals ['PBE_52_W_HASH', 'PBE_64', 'PBE_54_W_HASH']. Please verify that you are using the right POTCARs!\n",
      "  potcar=\"\\n\".join(self.potcar_symbols) if potcar_spec else self.potcar,\n",
      "/storage/work/jts6114/.conda/envs/pytheos/lib/python3.12/site-packages/pymatgen/io/vasp/sets.py:486: BadInputSetWarning: POTCAR data with symbol O is not known by pymatgen to correspond with the selected user_potcar_functional='PBE_54'. This POTCAR is known to correspond with functionals ['PBE_52_W_HASH', 'PBE_64', 'PBE_54_W_HASH']. Please verify that you are using the right POTCARs!\n",
      "  potcar=\"\\n\".join(self.potcar_symbols) if potcar_spec else self.potcar,\n"
     ]
    },
    {
     "name": "stdout",
     "output_type": "stream",
     "text": [
      "[[ 1.61883671e-02  6.69229310e-03  7.20356569e-03]\n",
      " [ 2.00453709e+00  2.00496056e+00  2.00180068e+00]\n",
      " [ 2.00638609e+00 -1.55891418e-03  1.99023341e+00]\n",
      " [ 2.00288747e+00  2.01606986e+00  3.19810144e-02]\n",
      " [-7.78507467e-03  2.00143173e+00  1.99173508e+00]]\n"
     ]
    }
   ],
   "source": [
    "os.mkdir(\"perovskite_files/SrTiO3_unitcell\")\n",
    "\n",
    "SrTiO3_unitcell_inputs = inputs.CalcInputs(structure=SrTiO3_unitcell)\n",
    "SrTiO3_unitcell_inputs.update_incar({\"ISPIN\": 1, \"ISYM\": 8}) # turn off spin polarization, and maintain cubic cell symmetry and relax atom positions and cell volume\n",
    "SrTiO3_unitcell_inputs.write_files(\"perovskite_files/SrTiO3_unitcell/relaxation\")\n",
    "\n",
    "os.system(\"cp ../scripts/submitvasp perovskite_files/SrTiO3_unitcell/relaxation\")\n",
    "os.system(\"cp ../scripts/cstdn_vasp_doublerelax.py perovskite_files/SrTiO3_unitcell/relaxation/cstdn.py\")\n",
    "\n",
    "# we are going to rattle the initial atomic positions for consistency with the supercell calculation\n",
    "os.system(\"cp perovskite_files/SrTiO3_unitcell/relaxation/POSCAR perovskite_files/SrTiO3_unitcell/relaxation/POSCAR_unrattled\")\n",
    "poscar = utils.read_structure(filename=\"perovskite_files/SrTiO3_unitcell/relaxation/POSCAR\")\n",
    "poscar_rattled = utils.rattle_atoms(structure=poscar)\n",
    "utils.write_structure(structure=poscar_rattled, output_filename=\"perovskite_files/SrTiO3_unitcell/relaxation/POSCAR\", overwrite=True)\n",
    "print(poscar_rattled.positions)"
   ]
  },
  {
   "cell_type": "code",
   "execution_count": null,
   "id": "11ef5323",
   "metadata": {},
   "outputs": [
    {
     "name": "stdout",
     "output_type": "stream",
     "text": [
      "[[-1.82642381e-02 -6.82269661e-03  3.68087988e-03]\n",
      " [ 1.49067960e-03  6.83906072e-03  4.00433786e+00]\n",
      " [-1.43668321e-02  4.01416149e+00  7.21622990e-03]\n",
      " [-2.41597283e-03  4.01549076e+00  3.99189003e+00]\n",
      " [ 3.99394758e+00  1.11881321e-02 -3.54131931e-03]\n",
      " [ 3.99532847e+00  1.05677226e-03  4.00804970e+00]\n",
      " [ 3.99529404e+00  3.99148111e+00  8.28328315e-03]\n",
      " [ 3.99093800e+00  3.99912686e+00  3.99464262e+00]\n",
      " [ 2.00607249e+00  1.99017211e+00  1.99389840e+00]\n",
      " [ 2.00749124e+00  2.00063710e+00  6.00630980e+00]\n",
      " [ 2.00133079e+00  5.99058296e+00  1.99705670e+00]\n",
      " [ 2.00112484e+00  5.99371181e+00  5.99687586e+00]\n",
      " [ 6.00059341e+00  2.00579329e+00  1.99124000e+00]\n",
      " [ 6.00029070e+00  2.00109478e+00  5.99444440e+00]\n",
      " [ 5.99161000e+00  5.99087482e+00  2.02035099e+00]\n",
      " [ 6.01054071e+00  5.99790857e+00  6.00678461e+00]\n",
      " [ 2.00921956e+00  7.15084575e-03  1.99713766e+00]\n",
      " [ 2.01077175e+00  1.99170420e+00 -8.85588268e-03]\n",
      " [ 6.96806375e-03  2.00399015e+00  2.01616895e+00]\n",
      " [ 1.99626458e+00 -1.41837063e-03  5.98925613e+00]\n",
      " [ 2.00296917e+00  2.00059770e+00  3.99469889e+00]\n",
      " [ 1.18971026e-02  2.01295770e+00  5.99536515e+00]\n",
      " [ 2.00230427e+00  3.98439486e+00  1.99971044e+00]\n",
      " [ 1.99616909e+00  5.99579759e+00  6.23454499e-03]\n",
      " [-1.85624448e-03  5.99267547e+00  1.99999336e+00]\n",
      " [ 2.01306823e+00  3.99856685e+00  6.00736339e+00]\n",
      " [ 2.00101468e+00  5.99592619e+00  4.00572679e+00]\n",
      " [ 1.06779459e-03  6.00669224e+00  6.01175062e+00]\n",
      " [ 5.99269506e+00  6.04053584e-04  2.02173720e+00]\n",
      " [ 6.01046855e+00  1.99568825e+00  1.13447618e-02]\n",
      " [ 4.01394054e+00  1.97996450e+00  2.00622978e+00]\n",
      " [ 6.00093736e+00 -9.22002296e-03  5.99659349e+00]\n",
      " [ 6.01026105e+00  2.00353410e+00  3.98752009e+00]\n",
      " [ 3.96978428e+00  2.00807732e+00  6.00946589e+00]\n",
      " [ 5.99152627e+00  3.99852466e+00  1.99212360e+00]\n",
      " [ 6.00614225e+00  5.98738492e+00  1.18362281e-02]\n",
      " [ 3.99293812e+00  5.98758138e+00  2.00622702e+00]\n",
      " [ 6.00518675e+00  4.00328489e+00  5.98984200e+00]\n",
      " [ 5.98998139e+00  5.98779012e+00  3.97902790e+00]\n",
      " [ 4.02447621e+00  6.00027813e+00  5.98077896e+00]]\n"
     ]
    }
   ],
   "source": [
    "SrTiO3_2x2x2_inputs = inputs.CalcInputs(structure=SrTiO3_2x2x2)\n",
    "SrTiO3_2x2x2_inputs.update_incar({\"ISPIN\": 1, \"ISYM\": 8}) # turn off spin polarization, and maintain cubic cell symmetry and relax atom positions and cell volume\n",
    "SrTiO3_2x2x2_inputs.write_files(\"perovskite_files/SrTiO3_2x2x2/relaxation\")\n",
    "\n",
    "os.system(\"cp ../scripts/submitvasp perovskite_files/SrTiO3_2x2x2/relaxation\")\n",
    "os.system(\"cp ../scripts/cstdn_vasp_doublerelax.py perovskite_files/SrTiO3_2x2x2/relaxation/cstdn.py\")\n",
    "\n",
    "# we are going to rattle the initial atomic positions for consistency with the supercell calculation\n",
    "os.system(\"cp perovskite_files/SrTiO3_2x2x2/relaxation/POSCAR perovskite_files/SrTiO3_2x2x2/relaxation/POSCAR_unrattled\")\n",
    "poscar = utils.read_structure(filename=\"perovskite_files/SrTiO3_2x2x2/relaxation/POSCAR\")\n",
    "poscar_rattled = utils.rattle_atoms(structure=poscar)\n",
    "utils.write_structure(structure=poscar_rattled, output_filename=\"perovskite_files/SrTiO3_2x2x2/relaxation/POSCAR\", overwrite=True)\n",
    "print(poscar_rattled.positions)"
   ]
  },
  {
   "cell_type": "code",
   "execution_count": 16,
   "id": "cce91264",
   "metadata": {},
   "outputs": [
    {
     "data": {
      "text/plain": [
       "0"
      ]
     },
     "execution_count": 16,
     "metadata": {},
     "output_type": "execute_result"
    }
   ],
   "source": [
    "# again we should run DOS calculations to be safe in our comparison...\n",
    "from pytheos.vasp.modifiers import CalcModifier\n",
    "\n",
    "SrTiO3_unitcell_calc = CalcModifier(source_dir=\"perovskite_files/SrTiO3_unitcell/relaxation\")\n",
    "SrTiO3_unitcell_calc.to_dos()\n",
    "SrTiO3_unitcell_calc.write_files(output_dir=\"perovskite_files/SrTiO3_unitcell/dos\")\n",
    "os.system(\"cp ../scripts/cstdn_vasp.py perovskite_files/SrTiO3_unitcell/dos/cstdn.py\")\n",
    "\n",
    "SrTiO3_2x2x2_calc = CalcModifier(source_dir=\"perovskite_files/SrTiO3_2x2x2/relaxation\")\n",
    "SrTiO3_2x2x2_calc.to_dos()\n",
    "SrTiO3_2x2x2_calc.write_files(output_dir=\"perovskite_files/SrTiO3_2x2x2/dos\")\n",
    "os.system(\"cp ../scripts/cstdn_vasp.py perovskite_files/SrTiO3_2x2x2/dos/cstdn.py\")"
   ]
  },
  {
   "cell_type": "code",
   "execution_count": 2,
   "id": "cf5baff9",
   "metadata": {},
   "outputs": [
    {
     "name": "stdout",
     "output_type": "stream",
     "text": [
      "Extracting average octahedral bond angles...\n",
      "bsite cations: ['Ti']\n",
      "Ti\n",
      "\tTi1(#8) - O1(#20) - Ti1(#9) -> 179.4°\n",
      "\tTi1(#8) - O1(#22) - Ti1(#10) -> 179.5°\n",
      "\tTi1(#8) - O1(#30) - Ti1(#12) -> 179.6°\n",
      "\tTi1(#9) - O1(#25) - Ti1(#11) -> 179.6°\n",
      "\tTi1(#9) - O1(#33) - Ti1(#13) -> 179.7°\n",
      "\tTi1(#10) - O1(#26) - Ti1(#11) -> 179.7°\n",
      "\tTi1(#10) - O1(#36) - Ti1(#14) -> 179.7°\n",
      "\tTi1(#11) - O1(#39) - Ti1(#15) -> 179.6°\n",
      "\tTi1(#12) - O1(#32) - Ti1(#13) -> 179.7°\n",
      "\tTi1(#12) - O1(#34) - Ti1(#14) -> 179.5°\n",
      "\tTi1(#13) - O1(#37) - Ti1(#15) -> 179.8°\n",
      "\tTi1(#14) - O1(#38) - Ti1(#15) -> 179.3°\n",
      "num bond angles found: 12\n",
      "avg bond angle: 179.6°\n",
      "elapsed time: 0.06 seconds\n",
      "    atom1 atom1_species  atom2 atom2_species  atom3 atom3_species  bondangle\n",
      "0       8            Ti     20            O2      9            Ti    179.396\n",
      "1       8            Ti     22            O2     10            Ti    179.482\n",
      "2       8            Ti     30            O2     12            Ti    179.577\n",
      "3       9            Ti     25            O2     11            Ti    179.592\n",
      "4       9            Ti     33            O2     13            Ti    179.740\n",
      "5      10            Ti     26            O2     11            Ti    179.713\n",
      "6      10            Ti     36            O2     14            Ti    179.699\n",
      "7      11            Ti     39            O2     15            Ti    179.619\n",
      "8      12            Ti     32            O2     13            Ti    179.674\n",
      "9      12            Ti     34            O2     14            Ti    179.539\n",
      "10     13            Ti     37            O2     15            Ti    179.751\n",
      "11     14            Ti     38            O2     15            Ti    179.269\n"
     ]
    }
   ],
   "source": [
    "from pytheos.structure import analysis\n",
    "\n",
    "relaxed_SrTiO3_supercell = utils.read_structure(\"perovskite_files/SrTiO3_2x2x2/relaxation/CONTCAR\")\n",
    "print(analysis.extract_octahedral_bondangles(struc=relaxed_SrTiO3_supercell, bsite_cations=[\"Ti\"]))"
   ]
  },
  {
   "cell_type": "code",
   "execution_count": 4,
   "id": "ff9bacba",
   "metadata": {},
   "outputs": [
    {
     "name": "stdout",
     "output_type": "stream",
     "text": [
      "Extracting average octahedral bond angles...\n",
      "bsite cations: ['Ti']\n",
      "Ti\n",
      "num bond angles found: 0\n",
      "avg bond angle: nan°\n",
      "elapsed time: 0.00 seconds\n",
      "Empty DataFrame\n",
      "Columns: [atom1, atom1_species, atom2, atom2_species, atom3, atom3_species, bondangle]\n",
      "Index: []\n"
     ]
    }
   ],
   "source": [
    "print(analysis.extract_octahedral_bondangles(struc=SrTiO3_unitcell, bsite_cations=[\"Ti\"]))"
   ]
  }
 ],
 "metadata": {
  "kernelspec": {
   "display_name": "pytheos",
   "language": "python",
   "name": "python3"
  },
  "language_info": {
   "codemirror_mode": {
    "name": "ipython",
    "version": 3
   },
   "file_extension": ".py",
   "mimetype": "text/x-python",
   "name": "python",
   "nbconvert_exporter": "python",
   "pygments_lexer": "ipython3",
   "version": "3.12.8"
  }
 },
 "nbformat": 4,
 "nbformat_minor": 5
}
