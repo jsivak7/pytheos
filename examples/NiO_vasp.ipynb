{
 "cells": [
  {
   "cell_type": "markdown",
   "id": "356e07e7",
   "metadata": {},
   "source": [
    "# NiO VASP\n",
    "*October 1, 2025*\n",
    "\n",
    "Simple example demonstrating how to use `pytheos` to set up and analyze rocksalt NiO with various different magnetic orderings.\n",
    "\n",
    "## Relaxation Calculation Set Up\n",
    "First we need to set up three calculations:\n",
    "1. NiO unit cell (nonmagnetic)\n",
    "2. NiO unit cell (ferromagnetic)\n",
    "3. NiO 2x2x2 supercell (antiferromagnetic within 111 planes)\n",
    "\n",
    "NOTE that the r2scan meta-gga and conventional 8-atom rocksalt unit cells are used in all cases here..."
   ]
  },
  {
   "cell_type": "code",
   "execution_count": 1,
   "id": "cad7d694",
   "metadata": {},
   "outputs": [],
   "source": [
    "from ase.build import bulk\n",
    "from pytheos.vasp.inputs import CalcInputs\n",
    "from pytheos.structure import generation\n",
    "import os\n",
    "\n",
    "unit_cell = bulk(name=\"NiO\", crystalstructure=\"rocksalt\", a = 4.20, cubic=True)"
   ]
  },
  {
   "cell_type": "code",
   "execution_count": null,
   "id": "70ac78a3",
   "metadata": {},
   "outputs": [],
   "source": [
    "# set up NM relaxation\n",
    "nm_calc = CalcInputs(structure=unit_cell)\n",
    "\n",
    "nm_calc.update_incar({\n",
    "    \"ISPIN\": 1, # turn off spin polarization\n",
    "    })\n",
    "\n",
    "nm_calc.write_files(output_dir=\"NiO_files/relax_nm\")\n",
    "os.system(\"cp ../scripts/submitvasp NiO_files/relax_nm/submitvasp\")\n",
    "os.system(\"cp ../scripts/cstdn_vasp_doublerelax.py NiO_files/relax_nm/cstdn.py\")"
   ]
  },
  {
   "cell_type": "code",
   "execution_count": null,
   "id": "b91b14da",
   "metadata": {},
   "outputs": [],
   "source": [
    "# set up FM relaxation\n",
    "fm_calc = CalcInputs(structure=unit_cell)\n",
    "\n",
    "fm_calc.write_files(output_dir=\"NiO_files/relax_fm\")\n",
    "os.system(\"cp ../scripts/submitvasp NiO_files/relax_fm/submitvasp\")\n",
    "os.system(\"cp ../scripts/cstdn_vasp_doublerelax.py NiO_files/relax_fm/cstdn.py\")"
   ]
  },
  {
   "cell_type": "code",
   "execution_count": null,
   "id": "6168c19f",
   "metadata": {},
   "outputs": [],
   "source": [
    "# set up AFM relaxation\n",
    "# to accomodate for the AFMII magnetic ordering, we need to make a 2x2x2 supercell\n",
    "super_cell = generation.make_supercell(structure=unit_cell, dimensions=(2, 2, 2))\n",
    "\n",
    "afm_calc = CalcInputs(structure=super_cell)\n",
    "\n",
    "afm_calc.apply_mag_order(\n",
    "    magmom_values={\"Ni\": 3, \"O\": 0}, \n",
    "    mag_order_file=\"NiO_files/magorder_NiO_AFMII.yaml\", # read in magorder*.yaml file, which can accomodate any magnetic ordering you want to test\n",
    "    rattle_amount=0.0, # not rattling the initial magnetic moments for now\n",
    "    )\n",
    "\n",
    "afm_calc.write_files(output_dir=\"NiO_files/relax_afm\")\n",
    "os.system(\"cp ../scripts/submitvasp NiO_files/relax_afm/submitvasp\")\n",
    "os.system(\"cp ../scripts/cstdn_vasp_doublerelax.py NiO_files/relax_afm/cstdn.py\")"
   ]
  },
  {
   "cell_type": "markdown",
   "id": "0810b829",
   "metadata": {},
   "source": [
    "Take a look at the differences in the INCAR files for each calculation (`ISPIN` and `MAGMOM` specifically)"
   ]
  },
  {
   "cell_type": "markdown",
   "id": "e0a907c4",
   "metadata": {},
   "source": [
    "## Density of States Calculation Setup\n",
    "Once you have run these relaxations, we will using the `pytheos.vasp.modifiers` module to modify these relaxation calculations into density of states (DOS) calculations. It is best practice to only compare energies taken from static, DOS calculations (with `ISMEAR = -5` in the INCAR) so we will go ahead and do this for our magnetic order comparison here.\n",
    "- NOTE that the following output files are needed for each calculation that won't be stored in GitHub: vasprun.xml, EIGENVAL, CONTCAR, CHGCAR, WAVECAR\n",
    "\n",
    "Notice how the `CalcModifier` class inherits the calculation parameters from the inputted relaxation calculation and makes the necessary modifications without any user input needed. Take a look through the INCAR files for the DOS calculations..."
   ]
  },
  {
   "cell_type": "code",
   "execution_count": null,
   "id": "53df7d6d",
   "metadata": {},
   "outputs": [],
   "source": [
    "from pytheos.vasp.modifiers import CalcModifier"
   ]
  },
  {
   "cell_type": "code",
   "execution_count": null,
   "id": "1f949f56",
   "metadata": {},
   "outputs": [],
   "source": [
    "# set up NiO NM dos calc\n",
    "nm_dos_calc = CalcModifier(source_dir=\"NiO_files/relax_nm\")\n",
    "nm_dos_calc.to_dos()\n",
    "\n",
    "nm_dos_calc.write_files(output_dir=\"NiO_files/dos_nm\")\n",
    "os.system(\"cp ../scripts/cstdn_vasp.py NiO_files/dos_nm/cstdn.py\")"
   ]
  },
  {
   "cell_type": "code",
   "execution_count": null,
   "id": "9973f624",
   "metadata": {},
   "outputs": [],
   "source": [
    "# set up NiO FM dos calc\n",
    "fm_dos_calc = CalcModifier(source_dir=\"NiO_files/relax_fm\")\n",
    "fm_dos_calc.to_dos()\n",
    "\n",
    "fm_dos_calc.write_files(output_dir=\"NiO_files/dos_fm\")\n",
    "os.system(\"cp ../scripts/cstdn_vasp.py NiO_files/dos_fm/cstdn.py\")"
   ]
  },
  {
   "cell_type": "code",
   "execution_count": null,
   "id": "4693e270",
   "metadata": {},
   "outputs": [],
   "source": [
    "# set up NiO AFM dos calc\n",
    "afm_dos_calc = CalcModifier(source_dir=\"NiO_files/relax_afm\")\n",
    "afm_dos_calc.to_dos()\n",
    "\n",
    "afm_dos_calc.write_files(output_dir=\"NiO_files/dos_afm\")\n",
    "os.system(\"cp ../scripts/cstdn_vasp.py NiO_files/dos_afm/cstdn.py\")"
   ]
  },
  {
   "cell_type": "markdown",
   "id": "4e2f3742",
   "metadata": {},
   "source": [
    "## Compare predictions using different magnetic orderings"
   ]
  },
  {
   "cell_type": "code",
   "execution_count": null,
   "id": "6d52f949",
   "metadata": {},
   "outputs": [],
   "source": [
    "from pytheos.vasp import outputs\n",
    "\n",
    "nm_outputs = outputs.CalcOutputs(source_dir = \"NiO_files/dos_nm\")\n",
    "fm_outputs = outputs.CalcOutputs(source_dir = \"NiO_files/dos_fm\")\n",
    "afm_outputs = outputs.CalcOutputs(source_dir = \"NiO_files/dos_afm\")"
   ]
  },
  {
   "cell_type": "markdown",
   "id": "b5adec7c",
   "metadata": {},
   "source": [
    "The pytheos CalcOutputs class holds common output data for a given VASP calculation that may be used in further analysis"
   ]
  },
  {
   "cell_type": "code",
   "execution_count": null,
   "id": "725fad21",
   "metadata": {},
   "outputs": [
    {
     "name": "stdout",
     "output_type": "stream",
     "text": [
      "['volume', 'vbm', 'vasprun', 'structure', 'source_dir', 'num_atoms', 'lattice_parameters', 'lattice_angles', 'final_energy_per_atom', 'final_energy', 'fermi_energy', 'composition', 'chemical_system', 'cbm', 'band_gap', '__weakref__', '__subclasshook__', '__str__', '__sizeof__', '__setattr__', '__repr__', '__reduce_ex__', '__reduce__', '__new__', '__ne__', '__module__', '__lt__', '__le__', '__init_subclass__', '__init__', '__hash__', '__gt__', '__getstate__', '__getattribute__', '__ge__', '__format__', '__eq__', '__doc__', '__dir__', '__dict__', '__delattr__', '__class__']\n"
     ]
    }
   ],
   "source": [
    "print(list(reversed(dir(afm_outputs))))"
   ]
  },
  {
   "cell_type": "code",
   "execution_count": null,
   "id": "e3f42894",
   "metadata": {},
   "outputs": [
    {
     "name": "stdout",
     "output_type": "stream",
     "text": [
      "Unit Cell Lattice Parameter (Angstroms)\n",
      " NM  4.107\n",
      " FM  4.182\n",
      " AFM 4.159\n",
      "Unit Cell Volumes (Angstroms^3)\n",
      " NM  69.284\n",
      " FM  73.129\n",
      " AFM 71.943\n"
     ]
    }
   ],
   "source": [
    "# compare structural predictions\n",
    "print(\"Unit Cell Lattice Parameter (Angstroms)\")\n",
    "print(f\" NM  {nm_outputs.lattice_parameters[\"a\"]:.3f}\")\n",
    "print(f\" FM  {fm_outputs.lattice_parameters[\"b\"]:.3f}\")\n",
    "print(f\" AFM {afm_outputs.lattice_parameters[\"c\"]/2:.3f}\")\n",
    "\n",
    "print(\"\\nUnit Cell Volume (Angstroms^3)\")\n",
    "print(f\" NM  {nm_outputs.volume:.3f}\")\n",
    "print(f\" FM  {fm_outputs.volume:.3f}\")\n",
    "print(f\" AFM {afm_outputs.volume/8:.3f}\")"
   ]
  },
  {
   "cell_type": "code",
   "execution_count": 4,
   "id": "5fca3548",
   "metadata": {},
   "outputs": [],
   "source": [
    "import matplotlib.pyplot as plt"
   ]
  },
  {
   "cell_type": "code",
   "execution_count": 24,
   "id": "bae33058",
   "metadata": {},
   "outputs": [
    {
     "name": "stdout",
     "output_type": "stream",
     "text": [
      "Energies (eV/atom)\n",
      " NM  -9.652\n",
      " FM  -10.083\n",
      " AFM -10.168\n"
     ]
    },
    {
     "data": {
      "image/png": "[encoded data removed]",
      "text/plain": [
       "<Figure size 640x480 with 1 Axes>"
      ]
     },
     "metadata": {},
     "output_type": "display_data"
    }
   ],
   "source": [
    "# compare energetic stability\n",
    "titles = [\"NM\", \"FM\", \"AFM\"]\n",
    "energies = [nm_outputs.final_energy_per_atom, fm_outputs.final_energy_per_atom, afm_outputs.final_energy_per_atom]\n",
    "relative_energies = [energy-nm_outputs.final_energy_per_atom for energy in energies]\n",
    "\n",
    "print(\"Energies (eV/atom)\")\n",
    "print(f\" NM  {nm_outputs.final_energy_per_atom:.3f}\")\n",
    "print(f\" FM  {fm_outputs.final_energy_per_atom:.3f}\")\n",
    "print(f\" AFM {afm_outputs.final_energy_per_atom:.3f}\")\n",
    "\n",
    "plt.bar(titles, energies)\n",
    "plt.axhline(0, linestyle=\"--\", color = \"black\", zorder=0)\n",
    "plt.ylim(-10.4, -9.4)\n",
    "plt.ylabel(\"Energy (eV/atom)\")\n",
    "plt.show()"
   ]
  },
  {
   "cell_type": "markdown",
   "id": "3dcacfd4",
   "metadata": {},
   "source": [
    "Note that both the FM and AFM calcualtions are significantly lower in energy than the NM calculation where spin polarization is turned off. As Ni2+ (d8) within an octahedral coordination contains two unpaired electrons, we expect that spin polarization must be accounted for to properly make predictions for rocksalt NiO. \n",
    "\n",
    "Notice also that the AFM calculation is lower in energy than the FM calculation. This is in agreement with experimental measurements that rocksalt NiO exhibits an antiferromagnetic ordering below ~525K.\n",
    "- Usually we want to use the lowest energy calculations for a series of magnetic orderings as DFT is a ground-state theory, however sometimes it can be beneficial to explore other, metastable states as well for certain questions."
   ]
  },
  {
   "cell_type": "code",
   "execution_count": null,
   "id": "e77c042c",
   "metadata": {},
   "outputs": [
    {
     "name": "stdout",
     "output_type": "stream",
     "text": [
      "Electronic Band Gap (eV)\n",
      " NM  0.000\n",
      " FM  0.862\n",
      " AFM 2.370\n"
     ]
    }
   ],
   "source": [
    "# compare electronic band gap and structures\n",
    "print(\"Electronic Band Gap (eV)\")\n",
    "print(f\" NM  {nm_outputs.band_gap:.3f}\")\n",
    "print(f\" FM  {fm_outputs.band_gap:.3f}\")\n",
    "print(f\" AFM {afm_outputs.band_gap:.3f}\")"
   ]
  },
  {
   "cell_type": "markdown",
   "id": "6ebf2786",
   "metadata": {},
   "source": [
    "Notice also how including different magnetic orderings within our calculations can *drastically* affect the resulting electronic band gaps. The room temperature NiO electronic band gap is ~3.6-4.0 eV, so we are still quite off from experimental measurements even with the R2SCAN meta-GGA XC functional. However, we can get much closer and obtain *qualitatively* correct band gaps sometimes by carefully exploring these different magnetic states. While this is just a brief example, you can read more about this in some recent papers from Alex Zunger's group.\n",
    "\n",
    "The corresponding density of states figures can be found in each of the corresponding DOS calculations directories...\n",
    "\n",
    "## Nonmagnetic\n",
    "<div>\n",
    "<img src=\"./NiO_files/dos_nm/dos.png\" width=\"500\"/>\n",
    "</div>\n",
    "\n",
    "## Ferromagnetic\n",
    "<div>\n",
    "<img src=\"./NiO_files/dos_fm/dos.png\" width=\"500\"/>\n",
    "</div>\n",
    "\n",
    "## Antiferromagnetic\n",
    "<div>\n",
    "<img src=\"./NiO_files/dos_afm/dos.png\" width=\"500\"/>\n",
    "</div>"
   ]
  },
  {
   "cell_type": "markdown",
   "id": "6230766b",
   "metadata": {},
   "source": []
  }
 ],
 "metadata": {
  "kernelspec": {
   "display_name": "pytheos",
   "language": "python",
   "name": "python3"
  },
  "language_info": {
   "codemirror_mode": {
    "name": "ipython",
    "version": 3
   },
   "file_extension": ".py",
   "mimetype": "text/x-python",
   "name": "python",
   "nbconvert_exporter": "python",
   "pygments_lexer": "ipython3",
   "version": "3.12.8"
  }
 },
 "nbformat": 4,
 "nbformat_minor": 5
}
