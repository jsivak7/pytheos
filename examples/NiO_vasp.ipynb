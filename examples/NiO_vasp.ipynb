{
 "cells": [
  {
   "cell_type": "markdown",
   "id": "356e07e7",
   "metadata": {},
   "source": [
    "# NiO VASP\n",
    "Simple example demonstrating how to use `pytheos` to set up and analyze rocksalt NiO with various different magnetic orderings.\n",
    "\n",
    "## Relaxation Calculation Set Up\n",
    "First we need to set up three calculations:\n",
    "1. NiO unit cell (nonmagnetic)\n",
    "2. NiO unit cell (ferromagnetic)\n",
    "3. NiO 2x2x2 supercell (antiferromagnetic within 111 planes)\n",
    "\n",
    "NOTE that the r2scan meta-gga and conventional 8-atom rocksalt unit cells are used in all cases here..."
   ]
  },
  {
   "cell_type": "code",
   "execution_count": 1,
   "id": "cad7d694",
   "metadata": {},
   "outputs": [],
   "source": [
    "from ase.build import bulk\n",
    "from pytheos.vasp.inputs import CalcInputs\n",
    "from pytheos.structure import generation\n",
    "import os\n",
    "\n",
    "unit_cell = bulk(name=\"NiO\", crystalstructure=\"rocksalt\", a = 4.20, cubic=True)"
   ]
  },
  {
   "cell_type": "code",
   "execution_count": 2,
   "id": "70ac78a3",
   "metadata": {},
   "outputs": [
    {
     "name": "stderr",
     "output_type": "stream",
     "text": [
      "/Users/jtsivak/miniconda3/envs/pytheos/lib/python3.12/site-packages/pymatgen/io/vasp/sets.py:486: BadInputSetWarning: POTCAR data with symbol Ni_pv is not known by pymatgen to correspond with the selected user_potcar_functional='PBE_54'. This POTCAR is known to correspond with functionals ['PBE_54_W_HASH', 'PBE_64', 'PBE_52_W_HASH']. Please verify that you are using the right POTCARs!\n",
      "  potcar=\"\\n\".join(self.potcar_symbols) if potcar_spec else self.potcar,\n",
      "/Users/jtsivak/miniconda3/envs/pytheos/lib/python3.12/site-packages/pymatgen/io/vasp/sets.py:486: BadInputSetWarning: POTCAR data with symbol O is not known by pymatgen to correspond with the selected user_potcar_functional='PBE_54'. This POTCAR is known to correspond with functionals ['PBE_54_W_HASH', 'PBE_64', 'PBE_52_W_HASH']. Please verify that you are using the right POTCARs!\n",
      "  potcar=\"\\n\".join(self.potcar_symbols) if potcar_spec else self.potcar,\n"
     ]
    },
    {
     "data": {
      "text/plain": [
       "0"
      ]
     },
     "execution_count": 2,
     "metadata": {},
     "output_type": "execute_result"
    }
   ],
   "source": [
    "# set up NM relaxation\n",
    "nm_calc = CalcInputs(structure=unit_cell)\n",
    "\n",
    "nm_calc.update_incar({\n",
    "    \"ISPIN\": 1, # turn off spin polarization\n",
    "    \"KPAR\": 4 # to speed up calculation\n",
    "    })\n",
    "\n",
    "nm_calc.write_files(output_dir=\"NiO_vasp_calcs/relax_nm\")\n",
    "os.system(\"cp ../scripts/submitvasp NiO_vasp_calcs/relax_nm/submitvasp\")\n",
    "os.system(\"cp ../scripts/cstdn_vasp_doublerelax.py NiO_vasp_calcs/relax_nm/cstdn.py\")"
   ]
  },
  {
   "cell_type": "code",
   "execution_count": 3,
   "id": "b91b14da",
   "metadata": {},
   "outputs": [
    {
     "data": {
      "text/plain": [
       "0"
      ]
     },
     "execution_count": 3,
     "metadata": {},
     "output_type": "execute_result"
    }
   ],
   "source": [
    "# set up FM relaxation\n",
    "fm_calc = CalcInputs(structure=unit_cell)\n",
    "\n",
    "fm_calc.update_incar({\n",
    "    \"KPAR\": 4 # to speed up calculation\n",
    "    })\n",
    "\n",
    "fm_calc.write_files(output_dir=\"NiO_vasp_calcs/relax_fm\")\n",
    "os.system(\"cp ../scripts/submitvasp NiO_vasp_calcs/relax_fm/submitvasp\")\n",
    "os.system(\"cp ../scripts/cstdn_vasp_doublerelax.py NiO_vasp_calcs/relax_fm/cstdn.py\")"
   ]
  },
  {
   "cell_type": "code",
   "execution_count": 4,
   "id": "6168c19f",
   "metadata": {},
   "outputs": [
    {
     "data": {
      "text/plain": [
       "0"
      ]
     },
     "execution_count": 4,
     "metadata": {},
     "output_type": "execute_result"
    }
   ],
   "source": [
    "# set up AFM relaxation\n",
    "# to accomodate for the AFMII magnetic ordering, we need to make a 2x2x2 supercell\n",
    "super_cell = generation.make_supercell(structure=unit_cell, dimensions=(2, 2, 2))\n",
    "\n",
    "afm_calc = CalcInputs(structure=super_cell)\n",
    "\n",
    "afm_calc.update_incar({\n",
    "    \"KPAR\": 2 # to speed up calculation\n",
    "    })\n",
    "\n",
    "afm_calc.apply_mag_order(\n",
    "    magmom_values={\"Ni\": 3, \"O\": 0}, \n",
    "    mag_order_file=\"magorder_NiO_AFMII.yaml\", # read in magorder*.yaml file, which can accomodate any magnetic ordering you want to test\n",
    "    rattle_amount=0.0, # not rattling the initial magnetic moments for now\n",
    "    )\n",
    "\n",
    "afm_calc.write_files(output_dir=\"NiO_vasp_calcs/relax_afm\")\n",
    "os.system(\"cp ../scripts/submitvasp NiO_vasp_calcs/relax_afm/submitvasp\")\n",
    "os.system(\"cp ../scripts/cstdn_vasp_doublerelax.py NiO_vasp_calcs/relax_afm/cstdn.py\")"
   ]
  },
  {
   "cell_type": "markdown",
   "id": "0810b829",
   "metadata": {},
   "source": [
    "Take a look at the differences in the INCAR files for each calculation (`ISPIN` and `MAGMOM` specifically)"
   ]
  },
  {
   "cell_type": "markdown",
   "id": "e0a907c4",
   "metadata": {},
   "source": [
    "## Density of States Calculation Setup\n",
    "Once you have run these relaxations, we will using the `pytheos.vasp.modifiers` module to modify these relaxation calculations into density of states (DOS) calculations. It is best practice to only compare energies taken from static, DOS calculations (with `ISMEAR = -5` in the INCAR) so we will go ahead and do this for our magnetic order comparison here.\n",
    "- NOTE that I have downloaded the following output files for each calculation that won't be stored in GitHub: vasprun.xml, EIGENVAL, CONTCAR, CHGCAR, WAVECAR"
   ]
  },
  {
   "cell_type": "code",
   "execution_count": null,
   "id": "3177fcca",
   "metadata": {},
   "outputs": [],
   "source": []
  },
  {
   "cell_type": "code",
   "execution_count": 5,
   "id": "53df7d6d",
   "metadata": {},
   "outputs": [],
   "source": [
    "from pytheos.vasp.modifiers import CalcModifier"
   ]
  }
 ],
 "metadata": {
  "kernelspec": {
   "display_name": "pytheos",
   "language": "python",
   "name": "python3"
  },
  "language_info": {
   "codemirror_mode": {
    "name": "ipython",
    "version": 3
   },
   "file_extension": ".py",
   "mimetype": "text/x-python",
   "name": "python",
   "nbconvert_exporter": "python",
   "pygments_lexer": "ipython3",
   "version": "3.12.8"
  }
 },
 "nbformat": 4,
 "nbformat_minor": 5
}
