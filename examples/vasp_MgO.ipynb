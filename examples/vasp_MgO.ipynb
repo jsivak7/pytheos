{
 "cells": [
  {
   "cell_type": "markdown",
   "id": "f34599b2",
   "metadata": {},
   "source": [
    "# Simple VASP input file generation for MgO"
   ]
  },
  {
   "cell_type": "code",
   "execution_count": 1,
   "id": "47b43783",
   "metadata": {},
   "outputs": [],
   "source": [
    "from ase.build import bulk\n",
    "from pytheos.vasp import inputs, submission, custodian"
   ]
  },
  {
   "cell_type": "markdown",
   "id": "e391341d",
   "metadata": {},
   "source": [
    "# Relaxation"
   ]
  },
  {
   "cell_type": "markdown",
   "id": "6c3ab010",
   "metadata": {},
   "source": [
    "First we need to generate an ase.Atoms object for a primitive (2-atom) unit cell of MgO"
   ]
  },
  {
   "cell_type": "code",
   "execution_count": 2,
   "id": "5d8b7ca4",
   "metadata": {},
   "outputs": [
    {
     "name": "stdout",
     "output_type": "stream",
     "text": [
      "Atoms(symbols='MgO', pbc=True, cell=[[0.0, 2.125, 2.125], [2.125, 0.0, 2.125], [2.125, 2.125, 0.0]])\n"
     ]
    }
   ],
   "source": [
    "unitcell = bulk(\"MgO\", crystalstructure=\"rocksalt\", a=4.25, cubic=False)\n",
    "print(unitcell)"
   ]
  },
  {
   "cell_type": "markdown",
   "id": "2e3abc78",
   "metadata": {},
   "source": [
    "Now we will make an object for VASP calculation inputs, specifying we want to turn spin polarization off (`ISPIN` = 1) since we know MgO is non-magnetic\n",
    "- note that here we are using the `KSPACING` INCAR tag to control the k-point density spacing"
   ]
  },
  {
   "cell_type": "code",
   "execution_count": 3,
   "id": "fd2053b6",
   "metadata": {},
   "outputs": [
    {
     "name": "stderr",
     "output_type": "stream",
     "text": [
      "/Users/jtsivak/miniconda3/envs/pytheos/lib/python3.12/site-packages/pymatgen/io/vasp/sets.py:486: BadInputSetWarning: POTCAR data with symbol Mg_pv is not known by pymatgen to correspond with the selected user_potcar_functional='PBE_54'. This POTCAR is known to correspond with functionals ['PBE_64', 'PBE_54_W_HASH', 'PBE_52_W_HASH']. Please verify that you are using the right POTCARs!\n",
      "  potcar=\"\\n\".join(self.potcar_symbols) if potcar_spec else self.potcar,\n",
      "/Users/jtsivak/miniconda3/envs/pytheos/lib/python3.12/site-packages/pymatgen/io/vasp/sets.py:486: BadInputSetWarning: POTCAR data with symbol O is not known by pymatgen to correspond with the selected user_potcar_functional='PBE_54'. This POTCAR is known to correspond with functionals ['PBE_64', 'PBE_54_W_HASH', 'PBE_52_W_HASH']. Please verify that you are using the right POTCARs!\n",
      "  potcar=\"\\n\".join(self.potcar_symbols) if potcar_spec else self.potcar,\n"
     ]
    }
   ],
   "source": [
    "calc_inputs = inputs.CalcInputs(structure=unitcell, incar_changes={\"ISPIN\": 1})"
   ]
  },
  {
   "cell_type": "markdown",
   "id": "7bc03610",
   "metadata": {},
   "source": [
    "We can visualize all of the necessary VASP input files by calling each attribute of the `calc_inputs` object"
   ]
  },
  {
   "cell_type": "code",
   "execution_count": 4,
   "id": "c0510cd6",
   "metadata": {},
   "outputs": [
    {
     "data": {
      "text/plain": [
       "{'ALGO': 'All', 'EDIFF': 1e-06, 'EDIFFG': -0.02, 'ENAUG': 1360, 'ENCUT': 680.0, 'IBRION': 2, 'ISIF': 3, 'ISMEAR': 0, 'ISPIN': 1, 'KSPACING': 0.25, 'LAECHG': False, 'LASPH': True, 'LCHARG': True, 'LELF': False, 'LMIXTAU': True, 'LORBIT': 11, 'LREAL': 'Auto', 'LVTOT': False, 'LWAVE': True, 'METAGGA': 'R2scan', 'NELM': 500, 'NSW': 250, 'PREC': 'Accurate', 'SIGMA': 0.05, 'MAGMOM': [0, 0], 'ISYM': 0, 'KPAR': 1, 'NCORE': 32, 'POTIM': 0.25, 'TIME': 0.1}"
      ]
     },
     "execution_count": 4,
     "metadata": {},
     "output_type": "execute_result"
    }
   ],
   "source": [
    "calc_inputs.incar"
   ]
  },
  {
   "cell_type": "code",
   "execution_count": 5,
   "id": "45fe72c3",
   "metadata": {},
   "outputs": [
    {
     "data": {
      "text/plain": [
       "Mg1 O1\n",
       "1.0\n",
       "   0.0000000000000000    2.1250000000000000    2.1250000000000000\n",
       "   2.1250000000000000    0.0000000000000000    2.1250000000000000\n",
       "   2.1250000000000000    2.1250000000000000    0.0000000000000000\n",
       "Mg O\n",
       "1 1\n",
       "direct\n",
       "   0.0000000000000000    0.0000000000000000    0.0000000000000000 Mg\n",
       "  -0.5000000000000000    0.5000000000000000    0.5000000000000000 O"
      ]
     },
     "execution_count": 5,
     "metadata": {},
     "output_type": "execute_result"
    }
   ],
   "source": [
    "calc_inputs.poscar"
   ]
  },
  {
   "cell_type": "code",
   "execution_count": 6,
   "id": "676c7650",
   "metadata": {},
   "outputs": [
    {
     "data": {
      "text/plain": [
       "[PotcarSingle(symbol='Mg_pv', functional='PBE', TITEL='PAW_PBE Mg_pv 13Apr2007', VRHFIN='Mg: p6s2', n_valence_elec=8),\n",
       " PotcarSingle(symbol='O', functional='PBE', TITEL='PAW_PBE O 08Apr2002', VRHFIN='O: s2p4', n_valence_elec=6)]"
      ]
     },
     "execution_count": 6,
     "metadata": {},
     "output_type": "execute_result"
    }
   ],
   "source": [
    "calc_inputs.potcar"
   ]
  },
  {
   "cell_type": "markdown",
   "id": "22047321",
   "metadata": {},
   "source": [
    "Now we can write the input files to a new directory so we can run them on the cluster"
   ]
  },
  {
   "cell_type": "code",
   "execution_count": null,
   "id": "4b9bbf82",
   "metadata": {},
   "outputs": [],
   "source": [
    "calc_inputs.write_files(output_dir=\"relax\")"
   ]
  },
  {
   "cell_type": "markdown",
   "id": "5810665c",
   "metadata": {},
   "source": [
    "We can also quickly write SLURM submission scripts for simple VASP calculations on the Roar Collab HPC"
   ]
  },
  {
   "cell_type": "code",
   "execution_count": null,
   "id": "3efa4d3b",
   "metadata": {},
   "outputs": [],
   "source": [
    "submission.write_vasp_submission(job_name=\"simple-MgO\", output_dir=\"relax\")"
   ]
  },
  {
   "cell_type": "markdown",
   "id": "534ef7e0",
   "metadata": {},
   "source": [
    "Finally, we can write a Custodian script to automate a double-relaxation calculation"
   ]
  },
  {
   "cell_type": "code",
   "execution_count": 9,
   "id": "b1e11f70",
   "metadata": {},
   "outputs": [],
   "source": [
    "custodian.write_double_relax_script(output_dir=\"relax\")"
   ]
  },
  {
   "cell_type": "markdown",
   "id": "1e012b19",
   "metadata": {},
   "source": [
    "We also could change the INCAR settings such that we use a `KPOINTS` file instead of the `KSPACING` flag..."
   ]
  },
  {
   "cell_type": "code",
   "execution_count": 10,
   "id": "163ba2c4",
   "metadata": {},
   "outputs": [
    {
     "data": {
      "text/plain": [
       "Default gamma\n",
       "0\n",
       "Gamma\n",
       "8 8 8"
      ]
     },
     "execution_count": 10,
     "metadata": {},
     "output_type": "execute_result"
    }
   ],
   "source": [
    "calc_inputs = inputs.CalcInputs(structure=unitcell, incar_changes={\"ISPIN\": 1}, kpoint_mesh=(8, 8, 8))\n",
    "calc_inputs.kpoints"
   ]
  },
  {
   "cell_type": "markdown",
   "id": "d61fc5bc",
   "metadata": {},
   "source": [
    "Or we could decide to run a `GGA` calculation instead of a `metaGGA` calculation...\n",
    "- notice that the `METAGGA = R2SCAN` is no longer present, and VASP defaults to using `GGA = PE` (PBE)\n",
    "- there are also some other changes to better align with the MPRelaxSet calculation settings"
   ]
  },
  {
   "cell_type": "code",
   "execution_count": 12,
   "id": "721341c8",
   "metadata": {},
   "outputs": [
    {
     "name": "stderr",
     "output_type": "stream",
     "text": [
      "/Users/jtsivak/miniconda3/envs/pytheos/lib/python3.12/site-packages/pymatgen/io/vasp/inputs.py:2508: UnknownPotcarWarning: POTCAR data with symbol Mg_pv is not known to pymatgen. Your POTCAR may be corrupted or pymatgen's POTCAR database is incomplete.\n",
      "  return cls(file.read(), symbol=symbol or None)  # type:ignore[arg-type]\n",
      "/Users/jtsivak/miniconda3/envs/pytheos/lib/python3.12/site-packages/pymatgen/io/vasp/sets.py:486: BadInputSetWarning: POTCAR data with symbol Mg_pv is not known by pymatgen to correspond with the selected user_potcar_functional='PBE'. This POTCAR is known to correspond with functionals []. Please verify that you are using the right POTCARs!\n",
      "  potcar=\"\\n\".join(self.potcar_symbols) if potcar_spec else self.potcar,\n"
     ]
    }
   ],
   "source": [
    "calc_inputs = inputs.CalcInputs(structure=unitcell, incar_changes={\"ISPIN\": 1}, mp_input_set=\"MPRelaxSet\")\n",
    "calc_inputs.incar\n",
    "calc_inputs.write_files(output_dir=\"relax-gga\")"
   ]
  },
  {
   "cell_type": "markdown",
   "id": "a3b4b3bc",
   "metadata": {},
   "source": [
    "You should obtain close to the following energies and lattice vectors for the GGA and metaGGA relaxations from the input files generated above ->. \n",
    "\n",
    "**GGA** (-5.934566595 eV/atom)\n",
    "```\n",
    "0.0000032250837997    2.1271822422093987    2.1271821963282123\n",
    "2.1271830059650108    0.0000026913606158    2.1271827302543911\n",
    "2.1271831229417244    2.1271828932130226    0.0000025744525814\n",
    "```\n",
    "\n",
    "**metaGGA** (-8.063949545 eV/atom)\n",
    "```\n",
    "-0.0000406845964276    2.0990635024096309    2.0990640627318644\n",
    "2.0990637879703509   -0.0000411745636187    2.0990645520833455\n",
    "2.0990635271133811    2.0990637310704008   -0.0000409131525682\n",
    "```"
   ]
  },
  {
   "cell_type": "markdown",
   "id": "0962f6e8",
   "metadata": {},
   "source": [
    "# Density of States"
   ]
  },
  {
   "cell_type": "markdown",
   "id": "bf84bc9c",
   "metadata": {},
   "source": [
    "We can utilize the pytheos.modifiers `CalcModifier` module to quickly generate vasp input files for a density of states (DOS) calculation as well"
   ]
  },
  {
   "cell_type": "code",
   "execution_count": 17,
   "id": "ca12fb55",
   "metadata": {},
   "outputs": [],
   "source": [
    "from pytheos.vasp import modifiers\n",
    "\n",
    "calc = modifiers.CalcModifier(source_dir=\"relax-r2scan\")\n",
    "calc.to_dos(energy_window=8) # expanding the energy window around the Fermi energy since MgO has such a large band gap\n",
    "calc.write_files(output_dir=\"dos-r2scan\")"
   ]
  },
  {
   "cell_type": "markdown",
   "id": "55ffe4ef",
   "metadata": {},
   "source": [
    "We can also write a static custodian script to run the DOS which is helpful in case some error arise during the calculation"
   ]
  },
  {
   "cell_type": "code",
   "execution_count": 18,
   "id": "14690b71",
   "metadata": {},
   "outputs": [],
   "source": [
    "custodian.write_script(\"dos-r2scan\")"
   ]
  },
  {
   "cell_type": "markdown",
   "id": "73162355",
   "metadata": {},
   "source": [
    "The resulting DOS can be plotted using `sumo` (https://github.com/SMTG-Bham/sumo) using the following command in the directory where the DOS was run\n",
    "\n",
    "```\n",
    "sumo-dosplot --format png --xmax 8\n",
    "```\n",
    "\n",
    "<img src=\"images/MgO_dos.png\" alt=\"isolated\" width=\"500\"/>\n",
    "\n",
    "The electronic band gap should be ~5.7185 eV when calculated with R2SCAN"
   ]
  },
  {
   "cell_type": "markdown",
   "id": "da9a9f69",
   "metadata": {},
   "source": [
    "## Band Structure"
   ]
  },
  {
   "cell_type": "code",
   "execution_count": null,
   "id": "e65d9025",
   "metadata": {},
   "outputs": [
    {
     "name": "stdout",
     "output_type": "stream",
     "text": [
      "Detected a meta-GGA calculation -> NSCF calculation will use `GGA = PE`\n"
     ]
    },
    {
     "name": "stderr",
     "output_type": "stream",
     "text": [
      "/Users/jtsivak/miniconda3/envs/pytheos/lib/python3.12/site-packages/seekpath/hpkot/__init__.py:172: DeprecationWarning: dict interface is deprecated. Use attribute interface instead\n",
      "  conv_lattice = dataset[\"std_lattice\"]\n",
      "/Users/jtsivak/miniconda3/envs/pytheos/lib/python3.12/site-packages/pymatgen/symmetry/bandstructure.py:181: UserWarning: The input structure does not match the expected standard primitive! The path may be incorrect. Use at your own risk.\n",
      "  kpath = KPathSetyawanCurtarolo(self._structure, symprec, angle_tolerance, atol)\n",
      "Structure information:\n",
      "/Users/jtsivak/miniconda3/envs/pytheos/lib/python3.12/site-packages/sumo/symmetry/kpoints.py:146: DeprecationWarning: dict interface is deprecated. Use attribute interface instead\n",
      "  logging.info(f\"\\tSpace group number: {kpath._spg_data['number']}\")\n",
      "\tSpace group number: 225\n",
      "/Users/jtsivak/miniconda3/envs/pytheos/lib/python3.12/site-packages/sumo/symmetry/kpath.py:227: DeprecationWarning: dict interface is deprecated. Use attribute interface instead\n",
      "  return self._spg_data[\"international\"]\n",
      "\tInternational symbol: Fm-3m\n",
      "\tLattice type: cubic\n",
      "\n",
      "k-point path:\n",
      "\t\\Gamma -> X -> W -> K -> \\Gamma -> L -> U -> W -> L -> K | U -> X\n",
      "\n",
      "k-points:\n",
      "\t\\Gamma: 0.0 0.0 0.0\n",
      "\tK: 0.375 0.375 0.75\n",
      "\tL: 0.5 0.5 0.5\n",
      "\tU: 0.625 0.25 0.625\n",
      "\tW: 0.5 0.25 0.75\n",
      "\tX: 0.5 0.0 0.5\n",
      "\n",
      "k-point label indices:\n",
      "\t\\Gamma: 1\n",
      "\tX: 91\n",
      "\tW: 136\n",
      "\tK: 168\n",
      "\t\\Gamma: 264\n",
      "\tL: 342\n",
      "\tU: 397\n",
      "\tW: 429\n",
      "\tL: 493\n",
      "\tK: 548\n",
      "\tU: 549\n",
      "\tX: 581\n",
      "\n",
      "WARNING: The input structure does not match the expected standard\n",
      "primitive symmetry, the path may be incorrect! Use at your own risk.\n",
      "\n",
      "The correct symmetry primitive structure has been saved as POSCAR_prim.\n"
     ]
    }
   ],
   "source": [
    "calc = modifiers.CalcModifier(source_dir=\"relax-r2scan\")\n",
    "calc.to_bandstructure(sumo_kgen_cmd=\"sumo-kgen --pymatgen --hybrid --split 50000\") # we only need the `--split 50000` since this is being run in a jupyter notebook to avoid the command line prompt from sumo...\n",
    "calc.write_files(output_dir=\"band-r2scan\")"
   ]
  },
  {
   "cell_type": "markdown",
   "id": "88409a61",
   "metadata": {},
   "source": [
    "Since this is a metaGGA calculation, note the extra steps needed to generate a bandstructure (see doc string for pytheos.vasp.modifiers.CalcModifier.to_dos())\n",
    "\n",
    "Once we have gone through those steps we can generate the band structure using the following command in the directory where the BS was run\n",
    "\n",
    "```\n",
    "sumo-bandplot --format png --ymax 8 --dos ../dos-r2scan/vasprun.xml\n",
    "```\n",
    "\n",
    "<img src=\"images/MgO_band.png\" alt=\"isolated\" width=\"750\"/>"
   ]
  },
  {
   "cell_type": "code",
   "execution_count": null,
   "id": "35fe06f5",
   "metadata": {},
   "outputs": [],
   "source": []
  }
 ],
 "metadata": {
  "kernelspec": {
   "display_name": "pytheos",
   "language": "python",
   "name": "python3"
  },
  "language_info": {
   "codemirror_mode": {
    "name": "ipython",
    "version": 3
   },
   "file_extension": ".py",
   "mimetype": "text/x-python",
   "name": "python",
   "nbconvert_exporter": "python",
   "pygments_lexer": "ipython3",
   "version": "3.12.8"
  }
 },
 "nbformat": 4,
 "nbformat_minor": 5
}
