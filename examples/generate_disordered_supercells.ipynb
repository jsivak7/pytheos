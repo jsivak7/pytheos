{
 "cells": [
  {
   "cell_type": "markdown",
   "metadata": {},
   "source": [
    "# Generate disordered supercells\n",
    "*2025-03-07*\n",
    "\n",
    "Demonstrates how to generate disordered supercells to study HEOs (here specifically, rock salt oxides).\n",
    "\n",
    "1. Making a 4x4x4 primitive special quasi-random structure (SQS) of 2-cation rock salt $Mg_{1/2}Ni_{1/2}O$.\n",
    "2. Making a 4x4x4 primitive special quasi-random structure (SQS) of 5-cation rock salt HEO $Mg_{1/5}Co_{1/5}Ni_{1/5}Cu_{1/5}Zn_{1/5}O$.\n",
    "3. Making a 5x2x2 randomly decorated supercell of 5-cation rock salt HEO $Mg_{1/5}Co_{1/5}Ni_{1/5}Cu_{1/5}Zn_{1/5}O$."
   ]
  },
  {
   "cell_type": "markdown",
   "metadata": {},
   "source": [
    "## 1. Special Quasi-random Structure -> $Mg_{1/2}Ni_{1/2}O$"
   ]
  },
  {
   "cell_type": "code",
   "execution_count": 1,
   "metadata": {},
   "outputs": [
    {
     "name": "stdout",
     "output_type": "stream",
     "text": [
      "Atoms(symbols='MgO', pbc=True, cell=[[0.0, 2.105, 2.105], [2.105, 0.0, 2.105], [2.105, 2.105, 0.0]])\n"
     ]
    },
    {
     "data": {
      "text/html": [
       "<html>\n",
       "    <head>\n",
       "        <title>ASE atomic visualization</title>\n",
       "        <link rel=\"stylesheet\" type=\"text/css\"             href=\"https://www.x3dom.org/release/x3dom.css\"></link>\n",
       "        <script type=\"text/javascript\"             src=\"https://www.x3dom.org/release/x3dom.js\"></script>\n",
       "    </head>\n",
       "    <body>\n",
       "        <X3D width=\"400px\"; height=\"300px\";>\n",
       "\n",
       "<!--Inserting Generated X3D Scene-->\n",
       "<scene>\n",
       "  <viewpoint position=\"0 0 4.21\">\n",
       "    <group/>\n",
       "  </viewpoint>\n",
       "  <transform translation=\"-0.0 -0.0 -0.0\">\n",
       "    <group>\n",
       "      <group>\n",
       "        <transform translation=\"0 0 0\">\n",
       "          <shape>\n",
       "            <appearance>\n",
       "              <material diffuseColor=\"0 0 0\"/>\n",
       "            </appearance>\n",
       "            <lineset vertexCount=\"5\">\n",
       "              <coordinate point=\"0 0 0 0.0 2.105 2.105 2.105 2.105 4.21 2.105 0.0 2.105 0 0 0\"/>\n",
       "            </lineset>\n",
       "          </shape>\n",
       "        </transform>\n",
       "        <transform translation=\"2.105 2.105 0.0\">\n",
       "          <shape>\n",
       "            <appearance>\n",
       "              <material diffuseColor=\"0 0 0\"/>\n",
       "            </appearance>\n",
       "            <lineset vertexCount=\"5\">\n",
       "              <coordinate point=\"0 0 0 0.0 2.105 2.105 2.105 2.105 4.21 2.105 0.0 2.105 0 0 0\"/>\n",
       "            </lineset>\n",
       "          </shape>\n",
       "        </transform>\n",
       "        <transform translation=\"0 0 0\">\n",
       "          <shape>\n",
       "            <appearance>\n",
       "              <material diffuseColor=\"0 0 0\"/>\n",
       "            </appearance>\n",
       "            <lineset vertexCount=\"5\">\n",
       "              <coordinate point=\"0 0 0 0.0 2.105 2.105 2.105 4.21 2.105 2.105 2.105 0.0 0 0 0\"/>\n",
       "            </lineset>\n",
       "          </shape>\n",
       "        </transform>\n",
       "        <transform translation=\"2.105 0.0 2.105\">\n",
       "          <shape>\n",
       "            <appearance>\n",
       "              <material diffuseColor=\"0 0 0\"/>\n",
       "            </appearance>\n",
       "            <lineset vertexCount=\"5\">\n",
       "              <coordinate point=\"0 0 0 0.0 2.105 2.105 2.105 4.21 2.105 2.105 2.105 0.0 0 0 0\"/>\n",
       "            </lineset>\n",
       "          </shape>\n",
       "        </transform>\n",
       "      </group>\n",
       "      <group>\n",
       "        <transform translation=\"0.0 0.0 0.0\">\n",
       "          <shape>\n",
       "            <appearance>\n",
       "              <material diffuseColor=\"0.541 1.0 0.0\"/>\n",
       "            </appearance>\n",
       "            <sphere radius=\"1.41\"/>\n",
       "          </shape>\n",
       "        </transform>\n",
       "        <transform translation=\"2.105 0.0 0.0\">\n",
       "          <shape>\n",
       "            <appearance>\n",
       "              <material diffuseColor=\"1.0 0.051 0.051\"/>\n",
       "            </appearance>\n",
       "            <sphere radius=\"0.66\"/>\n",
       "          </shape>\n",
       "        </transform>\n",
       "      </group>\n",
       "    </group>\n",
       "  </transform>\n",
       "</scene>\n",
       "<!--End of Inserted Scene-->\n",
       "\n",
       "        </X3D>\n",
       "    </body>\n",
       "</html>\n",
       "\n"
      ],
      "text/plain": [
       "<IPython.core.display.HTML object>"
      ]
     },
     "execution_count": 1,
     "metadata": {},
     "output_type": "execute_result"
    }
   ],
   "source": [
    "# make a rocksalt MgO unit cell using ASE\n",
    "\n",
    "from ase.build import bulk\n",
    "from ase.visualize import view\n",
    "\n",
    "unitcell = bulk(\"MgO\", \"rocksalt\", a=4.21, cubic=False)\n",
    "print(unitcell)\n",
    "view(unitcell, viewer=\"x3d\")"
   ]
  },
  {
   "cell_type": "code",
   "execution_count": 2,
   "metadata": {},
   "outputs": [],
   "source": [
    "# import necessary pytheos module for SQS generation\n",
    "from pytheos.structure import generation"
   ]
  },
  {
   "cell_type": "code",
   "execution_count": 3,
   "metadata": {},
   "outputs": [
    {
     "name": "stdout",
     "output_type": "stream",
     "text": [
      "icet.orbit_list: INFO  Done getting matrix_of_equivalent_positions.\n",
      "icet.orbit_list: INFO  Done getting neighbor lists.\n",
      "icet.orbit_list: INFO  Transformation of matrix of equivalent positions to lattice neighbor format completed.\n",
      "icet.orbit_list: INFO  Finished construction of orbit list.\n",
      "====================================== Cluster Space ======================================\n",
      " space group                            : Fm-3m (225)\n",
      " chemical species                       : ['Mg', 'Ni'] (sublattice A)\n",
      " cutoffs                                : 5.0000\n",
      " total number of parameters             : 4\n",
      " number of parameters by order          : 0= 1  1= 1  2= 2\n",
      " fractional_position_tolerance          : 2e-06\n",
      " position_tolerance                     : 1e-05\n",
      " symprec                                : 1e-05\n",
      "-------------------------------------------------------------------------------------------\n",
      "index | order |  radius  | multiplicity | orbit_index | multicomponent_vector | sublattices\n",
      "-------------------------------------------------------------------------------------------\n",
      "   0  |   0   |   0.0000 |        1     |      -1     |           .           |      .     \n",
      "   1  |   1   |   0.0000 |        1     |       0     |          [0]          |      A     \n",
      "   2  |   2   |   1.4885 |        6     |       1     |        [0, 0]         |     A-A    \n",
      "   3  |   2   |   2.1050 |        3     |       2     |        [0, 0]         |     A-A    \n",
      "===========================================================================================\n",
      "icet.target_cluster_vector_annealing: INFO  Initializing target cluster vector annealing with 1 supercells\n",
      "icet.target_cluster_vector_annealing: INFO  MC step 0/10000 (0 accepted trials, temperature 5.000), best score: 0.177\n",
      "icet.target_cluster_vector_annealing: INFO  MC step 1000/10000 (901 accepted trials, temperature 1.251), best score: -2.105\n",
      "icet.target_cluster_vector_annealing: INFO  MC step 2000/10000 (1661 accepted trials, temperature 0.875), best score: -2.105\n",
      "icet.target_cluster_vector_annealing: INFO  MC step 3000/10000 (2336 accepted trials, temperature 0.654), best score: -2.105\n",
      "icet.target_cluster_vector_annealing: INFO  MC step 4000/10000 (2789 accepted trials, temperature 0.498), best score: -2.105\n",
      "icet.target_cluster_vector_annealing: INFO  MC step 5000/10000 (3127 accepted trials, temperature 0.377), best score: -2.105\n",
      "icet.target_cluster_vector_annealing: INFO  MC step 6000/10000 (3384 accepted trials, temperature 0.278), best score: -2.105\n",
      "icet.target_cluster_vector_annealing: INFO  MC step 7000/10000 (3465 accepted trials, temperature 0.195), best score: -2.105\n",
      "icet.target_cluster_vector_annealing: INFO  MC step 8000/10000 (3517 accepted trials, temperature 0.122), best score: -2.105\n",
      "icet.target_cluster_vector_annealing: INFO  MC step 9000/10000 (3564 accepted trials, temperature 0.058), best score: -2.105\n",
      "\n",
      "Trial Cluster Vector ->\n",
      "[1. 0. 0. 0.]\n",
      "\n",
      "Perfectly Random Cluster Vector ->\n",
      "[1. 0. 0. 0.]\n"
     ]
    }
   ],
   "source": [
    "# generate SQS\n",
    "sqs = generation.make_sqs(\n",
    "    struc = unitcell,\n",
    "    dimensions = (4, 4, 4),\n",
    "    chemical_symbols = [ # this needs to match the cation-anion ordering of unit cell\n",
    "        [\"Mg\", \"Ni\"],\n",
    "        [\"O\"],\n",
    "    ],\n",
    "    cutoffs = [5.0], # some reasonable pair cutoff - 2nd NN here\n",
    "    concentrations = { # don't need to include oxygen since only one species on the anion sublattice\n",
    "        \"Mg\": 1/2,\n",
    "        \"Ni\": 1/2,\n",
    "    },\n",
    "    num_steps = 10000, # not too many steps are needed for chemically-simpler compositions\n",
    ")"
   ]
  },
  {
   "cell_type": "code",
   "execution_count": 4,
   "metadata": {},
   "outputs": [
    {
     "data": {
      "application/vnd.jupyter.widget-view+json": {
       "model_id": "014f4986cb1f4099a64552d91284e3fd",
       "version_major": 2,
       "version_minor": 0
      },
      "text/plain": []
     },
     "metadata": {},
     "output_type": "display_data"
    },
    {
     "data": {
      "application/vnd.jupyter.widget-view+json": {
       "model_id": "3c61b5ad9b3b4396b9508d9433d848f7",
       "version_major": 2,
       "version_minor": 0
      },
      "text/plain": [
       "HBox(children=(NGLWidget(), VBox(children=(Dropdown(description='Show', options=('All', 'Mg', 'Ni', 'O'), valu…"
      ]
     },
     "execution_count": 4,
     "metadata": {},
     "output_type": "execute_result"
    }
   ],
   "source": [
    "view(sqs, viewer=\"ngl\")"
   ]
  }
 ],
 "metadata": {
  "kernelspec": {
   "display_name": "pytheos",
   "language": "python",
   "name": "python3"
  },
  "language_info": {
   "codemirror_mode": {
    "name": "ipython",
    "version": 3
   },
   "file_extension": ".py",
   "mimetype": "text/x-python",
   "name": "python",
   "nbconvert_exporter": "python",
   "pygments_lexer": "ipython3",
   "version": "3.12.8"
  }
 },
 "nbformat": 4,
 "nbformat_minor": 2
}
