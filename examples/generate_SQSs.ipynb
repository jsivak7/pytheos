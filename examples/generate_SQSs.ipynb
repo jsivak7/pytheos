{
 "cells": [
  {
   "cell_type": "markdown",
   "metadata": {},
   "source": [
    "# Generate special quasi-random structures\n",
    "*2025-03-07*\n",
    "\n",
    "Demonstrates how to generate special quasi-random structures (SQSs) to study HEOs (here specifically, rock salt oxides).\n",
    "- only show clusters including 1st and 2nd near-neighbor cations for clarity\n",
    "\n",
    "A nice writeup for SQSs can be found at https://icet.materialsmodeling.org/advanced_topics/sqs_generation.html.\n",
    "\n",
    "The original paper from Alex Zunger on SQSs can be found at https://doi.org/10.1103/PhysRevLett.65.353.\n",
    "\n",
    "# Specific examples ->\n",
    "\n",
    "- 4x4x4 SQS of 2-cation rock salt $Mg_{1/2}Ni_{1/2}O$.\n",
    "- 4x4x4 SQS of 5-cation rock salt HEO $Mg_{1/5}Co_{1/5}Ni_{1/5}Cu_{1/5}Zn_{1/5}O$.\n",
    "- 10x10x10 SQS of 5-cation rock salt HEO $Mg_{1/5}Co_{1/5}Ni_{1/5}Cu_{1/5}Zn_{1/5}O$."
   ]
  },
  {
   "cell_type": "code",
   "execution_count": 1,
   "metadata": {},
   "outputs": [],
   "source": [
    "# import necessary pytheos module for generating SQS and writing structure files\n",
    "from pytheos.structure import generation, utils"
   ]
  },
  {
   "cell_type": "code",
   "execution_count": 3,
   "metadata": {},
   "outputs": [
    {
     "name": "stdout",
     "output_type": "stream",
     "text": [
      "Atoms(symbols='MgO', pbc=True, cell=[[0.0, 2.105, 2.105], [2.105, 0.0, 2.105], [2.105, 2.105, 0.0]])\n"
     ]
    }
   ],
   "source": [
    "# make a rocksalt MgO unit cell using ASE\n",
    "\n",
    "from ase.build import bulk\n",
    "from ase.visualize import view\n",
    "\n",
    "unitcell = bulk(\"MgO\", \"rocksalt\", a=4.21, cubic=False)\n",
    "print(unitcell)"
   ]
  },
  {
   "cell_type": "markdown",
   "metadata": {},
   "source": [
    "## $Mg_{1/2}Ni_{1/2}O$ (4x4x4 primitive supercell)"
   ]
  },
  {
   "cell_type": "code",
   "execution_count": 4,
   "metadata": {},
   "outputs": [
    {
     "name": "stdout",
     "output_type": "stream",
     "text": [
      "icet.orbit_list: INFO  Done getting matrix_of_equivalent_positions.\n",
      "icet.orbit_list: INFO  Done getting neighbor lists.\n",
      "icet.orbit_list: INFO  Transformation of matrix of equivalent positions to lattice neighbor format completed.\n",
      "icet.orbit_list: INFO  Finished construction of orbit list.\n",
      "====================================== Cluster Space ======================================\n",
      " space group                            : Fm-3m (225)\n",
      " chemical species                       : ['Mg', 'Ni'] (sublattice A)\n",
      " cutoffs                                : 5.0000\n",
      " total number of parameters             : 4\n",
      " number of parameters by order          : 0= 1  1= 1  2= 2\n",
      " fractional_position_tolerance          : 2e-06\n",
      " position_tolerance                     : 1e-05\n",
      " symprec                                : 1e-05\n",
      "-------------------------------------------------------------------------------------------\n",
      "index | order |  radius  | multiplicity | orbit_index | multicomponent_vector | sublattices\n",
      "-------------------------------------------------------------------------------------------\n",
      "   0  |   0   |   0.0000 |        1     |      -1     |           .           |      .     \n",
      "   1  |   1   |   0.0000 |        1     |       0     |          [0]          |      A     \n",
      "   2  |   2   |   1.4885 |        6     |       1     |        [0, 0]         |     A-A    \n",
      "   3  |   2   |   2.1050 |        3     |       2     |        [0, 0]         |     A-A    \n",
      "===========================================================================================\n",
      "icet.target_cluster_vector_annealing: INFO  Initializing target cluster vector annealing with 1 supercells\n",
      "icet.target_cluster_vector_annealing: INFO  MC step 0/10000 (0 accepted trials, temperature 5.000), best score: 0.021\n",
      "icet.target_cluster_vector_annealing: INFO  MC step 1000/10000 (916 accepted trials, temperature 1.251), best score: -2.105\n",
      "icet.target_cluster_vector_annealing: INFO  MC step 2000/10000 (1680 accepted trials, temperature 0.875), best score: -2.105\n",
      "icet.target_cluster_vector_annealing: INFO  MC step 3000/10000 (2411 accepted trials, temperature 0.654), best score: -2.105\n",
      "icet.target_cluster_vector_annealing: INFO  MC step 4000/10000 (2904 accepted trials, temperature 0.498), best score: -2.105\n",
      "icet.target_cluster_vector_annealing: INFO  MC step 5000/10000 (3200 accepted trials, temperature 0.377), best score: -2.105\n",
      "icet.target_cluster_vector_annealing: INFO  MC step 6000/10000 (3348 accepted trials, temperature 0.278), best score: -2.105\n",
      "icet.target_cluster_vector_annealing: INFO  MC step 7000/10000 (3433 accepted trials, temperature 0.195), best score: -2.105\n",
      "icet.target_cluster_vector_annealing: INFO  MC step 8000/10000 (3483 accepted trials, temperature 0.122), best score: -2.105\n",
      "icet.target_cluster_vector_annealing: INFO  MC step 9000/10000 (3528 accepted trials, temperature 0.058), best score: -2.105\n",
      "\n",
      "Trial Cluster Vector ->\n",
      "[1. 0. 0. 0.]\n",
      "\n",
      "Perfectly Random Cluster Vector ->\n",
      "[1. 0. 0. 0.]\n"
     ]
    }
   ],
   "source": [
    "# generate SQS\n",
    "sqs = generation.make_sqs(\n",
    "    struc = unitcell,\n",
    "    dimensions = (4, 4, 4),\n",
    "    chemical_symbols = [ # this needs to match the cation-anion ordering of unit cell\n",
    "        [\"Mg\", \"Ni\"],\n",
    "        [\"O\"],\n",
    "    ],\n",
    "    cutoffs = [5.0], # some reasonable pair cutoff - 2nd NN here\n",
    "    concentrations = { # don't need to include oxygen since only one species on the anion sublattice\n",
    "        \"Mg\": 1/2,\n",
    "        \"Ni\": 1/2,\n",
    "    },\n",
    "    num_steps = 10000, # not too many monte-carlo steps are needed for chemically-simpler compositions\n",
    ")"
   ]
  },
  {
   "cell_type": "code",
   "execution_count": null,
   "metadata": {},
   "outputs": [],
   "source": [
    "utils.write_from_ase_atoms(struc=sqs, file_path=\"./docs/sqs_Mg32Ni32O64.vasp\")"
   ]
  },
  {
   "cell_type": "markdown",
   "metadata": {},
   "source": [
    "<img src=\"./docs/sqs_Mg32Ni32O64.png\" width=\"500\">"
   ]
  },
  {
   "cell_type": "markdown",
   "metadata": {},
   "source": [
    "Notice that for this $Mg_{1/2}Ni_{1/2}O$ composition that we obtain an ICET \"best score\" of -2.105 Angstroms, which is the furthest radius in our cluster space. This indicates that given the cluster space we have specified that this structure matches the \"fully disordered limit\". We also observed this by comparing the outputted \"Trial Cluster Vector\" and \"Perfectly Random Cluster Vectors\" above, where we see that these two vectors match exactly.\n",
    "\n",
    "We will see for the 5-cation SQS that this number of MC steps does not achieve the same level of randomness due to the increased number of cation species."
   ]
  },
  {
   "cell_type": "markdown",
   "metadata": {},
   "source": [
    "## $Mg_{1/5}Co_{1/5}Ni_{1/5}Cu_{1/5}Zn_{1/5}O$ (4x4x4 primitive supercell)"
   ]
  },
  {
   "cell_type": "code",
   "execution_count": 7,
   "metadata": {},
   "outputs": [
    {
     "name": "stdout",
     "output_type": "stream",
     "text": [
      "icet.orbit_list: INFO  Done getting matrix_of_equivalent_positions.\n",
      "icet.orbit_list: INFO  Done getting neighbor lists.\n",
      "icet.orbit_list: INFO  Transformation of matrix of equivalent positions to lattice neighbor format completed.\n",
      "icet.orbit_list: INFO  Finished construction of orbit list.\n",
      "====================================== Cluster Space ======================================\n",
      " space group                            : Fm-3m (225)\n",
      " chemical species                       : ['Co', 'Cu', 'Mg', 'Ni', 'Zn'] (sublattice A)\n",
      " cutoffs                                : 5.0000\n",
      " total number of parameters             : 25\n",
      " number of parameters by order          : 0= 1  1= 4  2= 20\n",
      " fractional_position_tolerance          : 2e-06\n",
      " position_tolerance                     : 1e-05\n",
      " symprec                                : 1e-05\n",
      "-------------------------------------------------------------------------------------------\n",
      "index | order |  radius  | multiplicity | orbit_index | multicomponent_vector | sublattices\n",
      "-------------------------------------------------------------------------------------------\n",
      "   0  |   0   |   0.0000 |        1     |      -1     |           .           |      .     \n",
      "   1  |   1   |   0.0000 |        1     |       0     |          [0]          |      A     \n",
      "   2  |   1   |   0.0000 |        1     |       0     |          [1]          |      A     \n",
      "   3  |   1   |   0.0000 |        1     |       0     |          [2]          |      A     \n",
      "   4  |   1   |   0.0000 |        1     |       0     |          [3]          |      A     \n",
      "   5  |   2   |   1.4885 |        6     |       1     |        [0, 0]         |     A-A    \n",
      "   6  |   2   |   1.4885 |       12     |       1     |        [0, 1]         |     A-A    \n",
      "   7  |   2   |   1.4885 |       12     |       1     |        [0, 2]         |     A-A    \n",
      "   8  |   2   |   1.4885 |       12     |       1     |        [0, 3]         |     A-A    \n",
      "   9  |   2   |   1.4885 |        6     |       1     |        [1, 1]         |     A-A    \n",
      "  10  |   2   |   1.4885 |       12     |       1     |        [1, 2]         |     A-A    \n",
      "  11  |   2   |   1.4885 |       12     |       1     |        [1, 3]         |     A-A    \n",
      "  12  |   2   |   1.4885 |        6     |       1     |        [2, 2]         |     A-A    \n",
      "  13  |   2   |   1.4885 |       12     |       1     |        [2, 3]         |     A-A    \n",
      "  14  |   2   |   1.4885 |        6     |       1     |        [3, 3]         |     A-A    \n",
      "  15  |   2   |   2.1050 |        3     |       2     |        [0, 0]         |     A-A    \n",
      "  16  |   2   |   2.1050 |        6     |       2     |        [0, 1]         |     A-A    \n",
      "  17  |   2   |   2.1050 |        6     |       2     |        [0, 2]         |     A-A    \n",
      "  18  |   2   |   2.1050 |        6     |       2     |        [0, 3]         |     A-A    \n",
      "  19  |   2   |   2.1050 |        3     |       2     |        [1, 1]         |     A-A    \n",
      "  20  |   2   |   2.1050 |        6     |       2     |        [1, 2]         |     A-A    \n",
      "  21  |   2   |   2.1050 |        6     |       2     |        [1, 3]         |     A-A    \n",
      "  22  |   2   |   2.1050 |        3     |       2     |        [2, 2]         |     A-A    \n",
      "  23  |   2   |   2.1050 |        6     |       2     |        [2, 3]         |     A-A    \n",
      "  24  |   2   |   2.1050 |        3     |       2     |        [3, 3]         |     A-A    \n",
      "===========================================================================================\n",
      "icet.target_cluster_vector_annealing: INFO  Initializing target cluster vector annealing with 1 supercells\n",
      "icet.target_cluster_vector_annealing: INFO  MC step 0/10000 (0 accepted trials, temperature 5.000), best score: 0.368\n",
      "icet.target_cluster_vector_annealing: INFO  MC step 1000/10000 (991 accepted trials, temperature 1.251), best score: 0.187\n",
      "icet.target_cluster_vector_annealing: INFO  MC step 2000/10000 (1971 accepted trials, temperature 0.875), best score: 0.187\n",
      "icet.target_cluster_vector_annealing: INFO  MC step 3000/10000 (2948 accepted trials, temperature 0.654), best score: 0.187\n",
      "icet.target_cluster_vector_annealing: INFO  MC step 4000/10000 (3908 accepted trials, temperature 0.498), best score: 0.187\n",
      "icet.target_cluster_vector_annealing: INFO  MC step 5000/10000 (4874 accepted trials, temperature 0.377), best score: 0.187\n",
      "icet.target_cluster_vector_annealing: INFO  MC step 6000/10000 (5839 accepted trials, temperature 0.278), best score: 0.187\n",
      "icet.target_cluster_vector_annealing: INFO  MC step 7000/10000 (6769 accepted trials, temperature 0.195), best score: 0.172\n",
      "icet.target_cluster_vector_annealing: INFO  MC step 8000/10000 (7678 accepted trials, temperature 0.122), best score: 0.172\n",
      "icet.target_cluster_vector_annealing: INFO  MC step 9000/10000 (8519 accepted trials, temperature 0.058), best score: 0.164\n",
      "\n",
      "Trial Cluster Vector ->\n",
      "[ 1.00000000e+00  4.82839054e-03 -1.48602581e-02 -1.26408905e-02\n",
      " -9.18414457e-03  1.76315360e-03  3.61347072e-04  3.90625000e-03\n",
      "  8.78014626e-03  1.37892838e-02  3.13039267e-03 -2.18366013e-02\n",
      " -6.97148694e-03  1.04915106e-02 -7.68450448e-04  5.01836194e-03\n",
      "  3.61347072e-04  6.51041667e-04 -5.06508174e-03  4.02365878e-03\n",
      " -5.42642881e-03  7.27886711e-03 -3.71627860e-03  1.04915106e-02\n",
      " -1.05340754e-02]\n",
      "\n",
      "Perfectly Random Cluster Vector ->\n",
      "[ 1.00000000e+00  4.82839054e-03 -1.48602581e-02 -1.26408905e-02\n",
      " -9.18414457e-03  2.33133552e-05 -7.17511294e-05 -6.10351562e-05\n",
      " -4.43446367e-05  2.20827270e-04  1.87846896e-04  1.36478758e-04\n",
      "  1.59792114e-04  1.16095766e-04  8.43485114e-05  2.33133552e-05\n",
      " -7.17511294e-05 -6.10351562e-05 -4.43446367e-05  2.20827270e-04\n",
      "  1.87846896e-04  1.36478758e-04  1.59792114e-04  1.16095766e-04\n",
      "  8.43485114e-05]\n"
     ]
    }
   ],
   "source": [
    "# generate SQS\n",
    "sqs = generation.make_sqs(\n",
    "    struc = unitcell,\n",
    "    dimensions = (4, 4, 4),\n",
    "    chemical_symbols = [ # this needs to match the cation-anion ordering of unit cell\n",
    "        [\"Mg\", \"Co\", \"Ni\", \"Cu\", \"Zn\"],\n",
    "        [\"O\"],\n",
    "    ],\n",
    "    cutoffs = [5.0], # some reasonable pair cutoff - 2nd NN here\n",
    "    concentrations = { # don't need to include oxygen since only one species on the anion sublattice\n",
    "        \"Mg\": 13/64,\n",
    "        \"Co\": 13/64,\n",
    "        \"Ni\": 13/64,\n",
    "        \"Cu\": 13/64,\n",
    "        \"Zn\": 12/64, # slightly off-equimolar due to the supercell constraints\n",
    "    },\n",
    "    num_steps = 10000, # usually want more than this, but just for demonstration purposes here. Oftentimes values in the millions are desirable\n",
    ")"
   ]
  },
  {
   "cell_type": "code",
   "execution_count": null,
   "metadata": {},
   "outputs": [],
   "source": [
    "utils.write_from_ase_atoms(struc=sqs, file_path=\"./docs/sqs_Mg13Co13Ni13Cu13Zn12O64.vasp\")"
   ]
  },
  {
   "cell_type": "markdown",
   "metadata": {},
   "source": [
    "<img src=\"./docs/sqs_Mg13Co13Ni13Cu13Zn12O64.png\" width=\"500\">"
   ]
  },
  {
   "cell_type": "markdown",
   "metadata": {},
   "source": [
    "Notice how much higher the \"best value\" is for our 5-cation HEO compared to the 2-cation composition. This is also reflected in the cluster vectors. One should usually use at least one-million MC steps for chemically complex SQS generation (*the more the better almost always*). Due to size constraints imposed by the heavy computational cost of DFT, you cannot always achieve a \"perfectly random\" structure for many-cation systems, therefore you must find a good balance between computational cost of the following DFT calculation and the size/disorder of your supercell..."
   ]
  },
  {
   "cell_type": "markdown",
   "metadata": {},
   "source": [
    "##  $Mg_{1/5}Co_{1/5}Ni_{1/5}Cu_{1/5}Zn_{1/5}O$ (10x10x10 primitive supercell)\n",
    "Example of a many-cation HEO that is *far* too expensive for DFT calculations, however could be run with a machine-learning interatomic potential if desired... This is to demonstrate that extremely large supercells are needed to achieve \"perfectly random\" SQSs for HEOs (we don't even achieve it with this 2000-atom SQS!).\n",
    "\n",
    "*FYI we likely also get \"better\" cluster vectors as this is now equimolar cation concentrations since we are not limited to a size DFT calculations can be run*"
   ]
  },
  {
   "cell_type": "code",
   "execution_count": 9,
   "metadata": {},
   "outputs": [
    {
     "name": "stdout",
     "output_type": "stream",
     "text": [
      "icet.orbit_list: INFO  Done getting matrix_of_equivalent_positions.\n",
      "icet.orbit_list: INFO  Done getting neighbor lists.\n",
      "icet.orbit_list: INFO  Transformation of matrix of equivalent positions to lattice neighbor format completed.\n",
      "icet.orbit_list: INFO  Finished construction of orbit list.\n",
      "====================================== Cluster Space ======================================\n",
      " space group                            : Fm-3m (225)\n",
      " chemical species                       : ['Co', 'Cu', 'Mg', 'Ni', 'Zn'] (sublattice A)\n",
      " cutoffs                                : 5.0000\n",
      " total number of parameters             : 25\n",
      " number of parameters by order          : 0= 1  1= 4  2= 20\n",
      " fractional_position_tolerance          : 2e-06\n",
      " position_tolerance                     : 1e-05\n",
      " symprec                                : 1e-05\n",
      "-------------------------------------------------------------------------------------------\n",
      "index | order |  radius  | multiplicity | orbit_index | multicomponent_vector | sublattices\n",
      "-------------------------------------------------------------------------------------------\n",
      "   0  |   0   |   0.0000 |        1     |      -1     |           .           |      .     \n",
      "   1  |   1   |   0.0000 |        1     |       0     |          [0]          |      A     \n",
      "   2  |   1   |   0.0000 |        1     |       0     |          [1]          |      A     \n",
      "   3  |   1   |   0.0000 |        1     |       0     |          [2]          |      A     \n",
      "   4  |   1   |   0.0000 |        1     |       0     |          [3]          |      A     \n",
      "   5  |   2   |   1.4885 |        6     |       1     |        [0, 0]         |     A-A    \n",
      "   6  |   2   |   1.4885 |       12     |       1     |        [0, 1]         |     A-A    \n",
      "   7  |   2   |   1.4885 |       12     |       1     |        [0, 2]         |     A-A    \n",
      "   8  |   2   |   1.4885 |       12     |       1     |        [0, 3]         |     A-A    \n",
      "   9  |   2   |   1.4885 |        6     |       1     |        [1, 1]         |     A-A    \n",
      "  10  |   2   |   1.4885 |       12     |       1     |        [1, 2]         |     A-A    \n",
      "  11  |   2   |   1.4885 |       12     |       1     |        [1, 3]         |     A-A    \n",
      "  12  |   2   |   1.4885 |        6     |       1     |        [2, 2]         |     A-A    \n",
      "  13  |   2   |   1.4885 |       12     |       1     |        [2, 3]         |     A-A    \n",
      "  14  |   2   |   1.4885 |        6     |       1     |        [3, 3]         |     A-A    \n",
      "  15  |   2   |   2.1050 |        3     |       2     |        [0, 0]         |     A-A    \n",
      "  16  |   2   |   2.1050 |        6     |       2     |        [0, 1]         |     A-A    \n",
      "  17  |   2   |   2.1050 |        6     |       2     |        [0, 2]         |     A-A    \n",
      "  18  |   2   |   2.1050 |        6     |       2     |        [0, 3]         |     A-A    \n",
      "  19  |   2   |   2.1050 |        3     |       2     |        [1, 1]         |     A-A    \n",
      "  20  |   2   |   2.1050 |        6     |       2     |        [1, 2]         |     A-A    \n",
      "  21  |   2   |   2.1050 |        6     |       2     |        [1, 3]         |     A-A    \n",
      "  22  |   2   |   2.1050 |        3     |       2     |        [2, 2]         |     A-A    \n",
      "  23  |   2   |   2.1050 |        6     |       2     |        [2, 3]         |     A-A    \n",
      "  24  |   2   |   2.1050 |        3     |       2     |        [3, 3]         |     A-A    \n",
      "===========================================================================================\n",
      "icet.target_cluster_vector_annealing: INFO  Initializing target cluster vector annealing with 1 supercells\n",
      "icet.target_cluster_vector_annealing: INFO  MC step 0/10000 (0 accepted trials, temperature 5.000), best score: 0.094\n",
      "icet.target_cluster_vector_annealing: INFO  MC step 1000/10000 (993 accepted trials, temperature 1.251), best score: -1.403\n",
      "icet.target_cluster_vector_annealing: INFO  MC step 2000/10000 (1991 accepted trials, temperature 0.875), best score: -1.403\n",
      "icet.target_cluster_vector_annealing: INFO  MC step 3000/10000 (2988 accepted trials, temperature 0.654), best score: -1.403\n",
      "icet.target_cluster_vector_annealing: INFO  MC step 4000/10000 (3972 accepted trials, temperature 0.498), best score: -1.403\n",
      "icet.target_cluster_vector_annealing: INFO  MC step 5000/10000 (4938 accepted trials, temperature 0.377), best score: -1.403\n",
      "icet.target_cluster_vector_annealing: INFO  MC step 6000/10000 (5637 accepted trials, temperature 0.278), best score: -1.406\n",
      "icet.target_cluster_vector_annealing: INFO  MC step 7000/10000 (6120 accepted trials, temperature 0.195), best score: -1.413\n",
      "icet.target_cluster_vector_annealing: INFO  MC step 8000/10000 (6457 accepted trials, temperature 0.122), best score: -1.417\n",
      "icet.target_cluster_vector_annealing: INFO  MC step 9000/10000 (6698 accepted trials, temperature 0.058), best score: -1.418\n",
      "\n",
      "Trial Cluster Vector ->\n",
      "[ 1.00000000e+00  1.77635684e-18 -2.84217094e-17  2.30926389e-17\n",
      " -5.41788836e-17 -4.43463255e-06 -3.42497498e-03 -4.47916667e-03\n",
      " -1.88616188e-06  1.87854049e-05 -2.57272619e-03 -1.63046623e-03\n",
      " -9.78723203e-03  4.02377297e-04 -2.31045207e-03  1.73503277e-04\n",
      " -3.93077584e-03 -6.04166667e-03  8.58640718e-03  3.43169499e-03\n",
      " -8.16071564e-04  9.78279740e-03 -1.10068366e-02 -1.97521437e-05\n",
      "  1.56830501e-03]\n",
      "\n",
      "Perfectly Random Cluster Vector ->\n",
      "[ 1.00000000e+00  4.16333634e-17  0.00000000e+00  2.77555756e-17\n",
      " -5.55111512e-17  7.80625564e-18  3.46944695e-18  1.73472348e-17\n",
      "  2.60208521e-18 -6.93889390e-18 -3.46944695e-18 -1.04083409e-17\n",
      "  1.04083409e-17 -1.04083409e-17 -1.21430643e-17  7.80625564e-18\n",
      "  3.46944695e-18  1.73472348e-17  2.60208521e-18 -6.93889390e-18\n",
      " -3.46944695e-18 -1.04083409e-17  1.04083409e-17 -1.04083409e-17\n",
      " -1.21430643e-17]\n"
     ]
    }
   ],
   "source": [
    "# generate SQS\n",
    "sqs = generation.make_sqs(\n",
    "    struc = unitcell,\n",
    "    dimensions = (10, 10, 10),\n",
    "    chemical_symbols = [ # this needs to match the cation-anion ordering of unit cell\n",
    "        [\"Mg\", \"Co\", \"Ni\", \"Cu\", \"Zn\"],\n",
    "        [\"O\"],\n",
    "    ],\n",
    "    cutoffs = [5.0], # some reasonable pair cutoff - 2nd NN here\n",
    "    concentrations = { # don't need to include oxygen since only one species on the anion sublattice\n",
    "        \"Mg\": 1/5,\n",
    "        \"Co\": 1/5,\n",
    "        \"Ni\": 1/5,\n",
    "        \"Cu\": 1/5,\n",
    "        \"Zn\": 1/5,\n",
    "    },\n",
    "    num_steps = 10000, # usually want more than this, but just for demonstration purposes here. Oftentimes values in the millions are desirable\n",
    ")"
   ]
  },
  {
   "cell_type": "code",
   "execution_count": null,
   "metadata": {},
   "outputs": [],
   "source": [
    "utils.write_from_ase_atoms(struc=sqs, file_path=\"./docs/sqs_Mg200Co200Ni200Cu200Zn200O1000.vasp\")"
   ]
  },
  {
   "cell_type": "markdown",
   "metadata": {},
   "source": [
    "<img src=\"./docs/sqs_Mg200Co200Ni200Cu200Zn200O1000.png\" width=\"500\">"
   ]
  },
  {
   "cell_type": "markdown",
   "metadata": {},
   "source": []
  }
 ],
 "metadata": {
  "kernelspec": {
   "display_name": "pytheos",
   "language": "python",
   "name": "python3"
  },
  "language_info": {
   "codemirror_mode": {
    "name": "ipython",
    "version": 3
   },
   "file_extension": ".py",
   "mimetype": "text/x-python",
   "name": "python",
   "nbconvert_exporter": "python",
   "pygments_lexer": "ipython3",
   "version": "3.12.8"
  }
 },
 "nbformat": 4,
 "nbformat_minor": 2
}
